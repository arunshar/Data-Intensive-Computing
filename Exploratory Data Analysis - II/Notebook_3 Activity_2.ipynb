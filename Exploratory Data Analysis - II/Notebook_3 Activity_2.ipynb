{
 "cells": [
  {
   "cell_type": "markdown",
   "metadata": {},
   "source": [
    "## Loading Libraries and Reading CSV files"
   ]
  },
  {
   "cell_type": "code",
   "execution_count": 6,
   "metadata": {
    "collapsed": false
   },
   "outputs": [],
   "source": [
    "library(dplyr)\n",
    "players <- read.csv(\"player.csv\")\n",
    "teams <- read.csv(\"team.csv\")"
   ]
  },
  {
   "cell_type": "markdown",
   "metadata": {},
   "source": [
    "## Cleaned Players Table"
   ]
  },
  {
   "cell_type": "code",
   "execution_count": 22,
   "metadata": {
    "collapsed": false
   },
   "outputs": [
    {
     "data": {
      "text/html": [
       "<table>\n",
       "<thead><tr><th scope=col>X</th><th scope=col>player_api_id</th><th scope=col>player_name</th><th scope=col>overall_rating</th><th scope=col>gk_rating</th><th scope=col>num_of_appearances</th><th scope=col>num_of_leagues</th></tr></thead>\n",
       "<tbody>\n",
       "\t<tr><td>1                 </td><td>505942            </td><td>Aaron Appindangoye</td><td>67                </td><td> 43               </td><td>  5               </td><td>1                 </td></tr>\n",
       "\t<tr><td>2                 </td><td>155782            </td><td>Aaron Cresswell   </td><td>74                </td><td>121               </td><td> 75               </td><td>1                 </td></tr>\n",
       "\t<tr><td>3                 </td><td>162549            </td><td>Aaron Doran       </td><td>71                </td><td>125               </td><td> 90               </td><td>1                 </td></tr>\n",
       "\t<tr><td>4                 </td><td> 30572            </td><td>Aaron Galindo     </td><td>75                </td><td>111               </td><td>  7               </td><td>1                 </td></tr>\n",
       "\t<tr><td>5                 </td><td> 23780            </td><td>Aaron Hughes      </td><td>78                </td><td>129               </td><td>162               </td><td>1                 </td></tr>\n",
       "\t<tr><td>6                 </td><td> 27316            </td><td>Aaron Hunt        </td><td>79                </td><td>132               </td><td>155               </td><td>1                 </td></tr>\n",
       "</tbody>\n",
       "</table>\n"
      ],
      "text/latex": [
       "\\begin{tabular}{r|lllllll}\n",
       " X & player\\_api\\_id & player\\_name & overall\\_rating & gk\\_rating & num\\_of\\_appearances & num\\_of\\_leagues\\\\\n",
       "\\hline\n",
       "\t 1                  & 505942             & Aaron Appindangoye & 67                 &  43                &   5                & 1                 \\\\\n",
       "\t 2                  & 155782             & Aaron Cresswell    & 74                 & 121                &  75                & 1                 \\\\\n",
       "\t 3                  & 162549             & Aaron Doran        & 71                 & 125                &  90                & 1                 \\\\\n",
       "\t 4                  &  30572             & Aaron Galindo      & 75                 & 111                &   7                & 1                 \\\\\n",
       "\t 5                  &  23780             & Aaron Hughes       & 78                 & 129                & 162                & 1                 \\\\\n",
       "\t 6                  &  27316             & Aaron Hunt         & 79                 & 132                & 155                & 1                 \\\\\n",
       "\\end{tabular}\n"
      ],
      "text/markdown": [
       "\n",
       "X | player_api_id | player_name | overall_rating | gk_rating | num_of_appearances | num_of_leagues | \n",
       "|---|---|---|---|---|---|\n",
       "| 1                  | 505942             | Aaron Appindangoye | 67                 |  43                |   5                | 1                  | \n",
       "| 2                  | 155782             | Aaron Cresswell    | 74                 | 121                |  75                | 1                  | \n",
       "| 3                  | 162549             | Aaron Doran        | 71                 | 125                |  90                | 1                  | \n",
       "| 4                  |  30572             | Aaron Galindo      | 75                 | 111                |   7                | 1                  | \n",
       "| 5                  |  23780             | Aaron Hughes       | 78                 | 129                | 162                | 1                  | \n",
       "| 6                  |  27316             | Aaron Hunt         | 79                 | 132                | 155                | 1                  | \n",
       "\n",
       "\n"
      ],
      "text/plain": [
       "  X player_api_id player_name        overall_rating gk_rating\n",
       "1 1 505942        Aaron Appindangoye 67              43      \n",
       "2 2 155782        Aaron Cresswell    74             121      \n",
       "3 3 162549        Aaron Doran        71             125      \n",
       "4 4  30572        Aaron Galindo      75             111      \n",
       "5 5  23780        Aaron Hughes       78             129      \n",
       "6 6  27316        Aaron Hunt         79             132      \n",
       "  num_of_appearances num_of_leagues\n",
       "1   5                1             \n",
       "2  75                1             \n",
       "3  90                1             \n",
       "4   7                1             \n",
       "5 162                1             \n",
       "6 155                1             "
      ]
     },
     "metadata": {},
     "output_type": "display_data"
    }
   ],
   "source": [
    "head(players)"
   ]
  },
  {
   "cell_type": "markdown",
   "metadata": {},
   "source": [
    "## Cleaned Teams Table"
   ]
  },
  {
   "cell_type": "code",
   "execution_count": 20,
   "metadata": {
    "collapsed": false
   },
   "outputs": [
    {
     "data": {
      "text/html": [
       "<table>\n",
       "<thead><tr><th scope=col>X</th><th scope=col>team_api_id</th><th scope=col>team_long_name</th><th scope=col>team_short_name</th><th scope=col>build_sum</th><th scope=col>chance_sum</th><th scope=col>defence_sum</th><th scope=col>goals</th></tr></thead>\n",
       "<tbody>\n",
       "\t<tr><td>1                </td><td> 9987            </td><td>KRC Genk         </td><td>GEN              </td><td>NA               </td><td>182              </td><td>205              </td><td>348              </td></tr>\n",
       "\t<tr><td>2                </td><td> 9993            </td><td>Beerschot AC     </td><td>BAC              </td><td>NA               </td><td>185              </td><td>210              </td><td>174              </td></tr>\n",
       "\t<tr><td>3                </td><td>10000            </td><td>SV Zulte-Waregem </td><td>ZUL              </td><td>NA               </td><td>153              </td><td>200              </td><td>306              </td></tr>\n",
       "\t<tr><td>4                </td><td> 9994            </td><td>Sporting Lokeren </td><td>LOK              </td><td>NA               </td><td>154              </td><td>200              </td><td>279              </td></tr>\n",
       "\t<tr><td>5                </td><td> 9984            </td><td>KSV Cercle Brugge</td><td>CEB              </td><td>NA               </td><td>200              </td><td>195              </td><td>213              </td></tr>\n",
       "\t<tr><td>6                </td><td> 8635            </td><td>RSC Anderlecht   </td><td>AND              </td><td>NA               </td><td>182              </td><td>190              </td><td>427              </td></tr>\n",
       "</tbody>\n",
       "</table>\n"
      ],
      "text/latex": [
       "\\begin{tabular}{r|llllllll}\n",
       " X & team\\_api\\_id & team\\_long\\_name & team\\_short\\_name & build\\_sum & chance\\_sum & defence\\_sum & goals\\\\\n",
       "\\hline\n",
       "\t 1                 &  9987             & KRC Genk          & GEN               & NA                & 182               & 205               & 348              \\\\\n",
       "\t 2                 &  9993             & Beerschot AC      & BAC               & NA                & 185               & 210               & 174              \\\\\n",
       "\t 3                 & 10000             & SV Zulte-Waregem  & ZUL               & NA                & 153               & 200               & 306              \\\\\n",
       "\t 4                 &  9994             & Sporting Lokeren  & LOK               & NA                & 154               & 200               & 279              \\\\\n",
       "\t 5                 &  9984             & KSV Cercle Brugge & CEB               & NA                & 200               & 195               & 213              \\\\\n",
       "\t 6                 &  8635             & RSC Anderlecht    & AND               & NA                & 182               & 190               & 427              \\\\\n",
       "\\end{tabular}\n"
      ],
      "text/markdown": [
       "\n",
       "X | team_api_id | team_long_name | team_short_name | build_sum | chance_sum | defence_sum | goals | \n",
       "|---|---|---|---|---|---|\n",
       "| 1                 |  9987             | KRC Genk          | GEN               | NA                | 182               | 205               | 348               | \n",
       "| 2                 |  9993             | Beerschot AC      | BAC               | NA                | 185               | 210               | 174               | \n",
       "| 3                 | 10000             | SV Zulte-Waregem  | ZUL               | NA                | 153               | 200               | 306               | \n",
       "| 4                 |  9994             | Sporting Lokeren  | LOK               | NA                | 154               | 200               | 279               | \n",
       "| 5                 |  9984             | KSV Cercle Brugge | CEB               | NA                | 200               | 195               | 213               | \n",
       "| 6                 |  8635             | RSC Anderlecht    | AND               | NA                | 182               | 190               | 427               | \n",
       "\n",
       "\n"
      ],
      "text/plain": [
       "  X team_api_id team_long_name    team_short_name build_sum chance_sum\n",
       "1 1  9987       KRC Genk          GEN             NA        182       \n",
       "2 2  9993       Beerschot AC      BAC             NA        185       \n",
       "3 3 10000       SV Zulte-Waregem  ZUL             NA        153       \n",
       "4 4  9994       Sporting Lokeren  LOK             NA        154       \n",
       "5 5  9984       KSV Cercle Brugge CEB             NA        200       \n",
       "6 6  8635       RSC Anderlecht    AND             NA        182       \n",
       "  defence_sum goals\n",
       "1 205         348  \n",
       "2 210         174  \n",
       "3 200         306  \n",
       "4 200         279  \n",
       "5 195         213  \n",
       "6 190         427  "
      ]
     },
     "metadata": {},
     "output_type": "display_data"
    }
   ],
   "source": [
    "head(teams)"
   ]
  },
  {
   "cell_type": "markdown",
   "metadata": {},
   "source": [
    "### Query 1 : Which are the top 10 players by overall rating?"
   ]
  },
  {
   "cell_type": "code",
   "execution_count": 9,
   "metadata": {
    "collapsed": false
   },
   "outputs": [
    {
     "data": {
      "text/html": [
       "<table>\n",
       "<thead><tr><th scope=col>X</th><th scope=col>player_api_id</th><th scope=col>player_name</th><th scope=col>overall_rating</th><th scope=col>gk_rating</th><th scope=col>num_of_appearances</th><th scope=col>num_of_leagues</th></tr></thead>\n",
       "<tbody>\n",
       "\t<tr><td> 7105            </td><td>30981            </td><td>Lionel Messi     </td><td>94               </td><td>147              </td><td>127              </td><td>1                </td></tr>\n",
       "\t<tr><td> 2287            </td><td>30893            </td><td>Cristiano Ronaldo</td><td>93               </td><td>145              </td><td>251              </td><td>1                </td></tr>\n",
       "\t<tr><td> 2288            </td><td>30893            </td><td>Cristiano Ronaldo</td><td>93               </td><td>145              </td><td>251              </td><td>2                </td></tr>\n",
       "\t<tr><td> 4419            </td><td>30717            </td><td>Gianluigi Buffon </td><td>93               </td><td>449              </td><td>231              </td><td>1                </td></tr>\n",
       "\t<tr><td>12382            </td><td>30829            </td><td>Wayne Rooney     </td><td>93               </td><td>160              </td><td>192              </td><td>1                </td></tr>\n",
       "\t<tr><td> 4611            </td><td>39989            </td><td>Gregory Coupet   </td><td>92               </td><td>447              </td><td> 37              </td><td>2                </td></tr>\n",
       "\t<tr><td>12506            </td><td>39854            </td><td>Xavi Hernandez   </td><td>92               </td><td>173              </td><td>182              </td><td>1                </td></tr>\n",
       "\t<tr><td>  446            </td><td>30723            </td><td>Alessandro Nesta </td><td>91               </td><td>138              </td><td> 64              </td><td>1                </td></tr>\n",
       "\t<tr><td>  853            </td><td>30955            </td><td>Andres Iniesta   </td><td>91               </td><td>161              </td><td>190              </td><td>1                </td></tr>\n",
       "\t<tr><td> 3668            </td><td>34520            </td><td>Fabio Cannavaro  </td><td>91               </td><td>142              </td><td> 40              </td><td>1                </td></tr>\n",
       "</tbody>\n",
       "</table>\n"
      ],
      "text/latex": [
       "\\begin{tabular}{r|lllllll}\n",
       " X & player\\_api\\_id & player\\_name & overall\\_rating & gk\\_rating & num\\_of\\_appearances & num\\_of\\_leagues\\\\\n",
       "\\hline\n",
       "\t  7105             & 30981             & Lionel Messi      & 94                & 147               & 127               & 1                \\\\\n",
       "\t  2287             & 30893             & Cristiano Ronaldo & 93                & 145               & 251               & 1                \\\\\n",
       "\t  2288             & 30893             & Cristiano Ronaldo & 93                & 145               & 251               & 2                \\\\\n",
       "\t  4419             & 30717             & Gianluigi Buffon  & 93                & 449               & 231               & 1                \\\\\n",
       "\t 12382             & 30829             & Wayne Rooney      & 93                & 160               & 192               & 1                \\\\\n",
       "\t  4611             & 39989             & Gregory Coupet    & 92                & 447               &  37               & 2                \\\\\n",
       "\t 12506             & 39854             & Xavi Hernandez    & 92                & 173               & 182               & 1                \\\\\n",
       "\t   446             & 30723             & Alessandro Nesta  & 91                & 138               &  64               & 1                \\\\\n",
       "\t   853             & 30955             & Andres Iniesta    & 91                & 161               & 190               & 1                \\\\\n",
       "\t  3668             & 34520             & Fabio Cannavaro   & 91                & 142               &  40               & 1                \\\\\n",
       "\\end{tabular}\n"
      ],
      "text/markdown": [
       "\n",
       "X | player_api_id | player_name | overall_rating | gk_rating | num_of_appearances | num_of_leagues | \n",
       "|---|---|---|---|---|---|---|---|---|---|\n",
       "|  7105             | 30981             | Lionel Messi      | 94                | 147               | 127               | 1                 | \n",
       "|  2287             | 30893             | Cristiano Ronaldo | 93                | 145               | 251               | 1                 | \n",
       "|  2288             | 30893             | Cristiano Ronaldo | 93                | 145               | 251               | 2                 | \n",
       "|  4419             | 30717             | Gianluigi Buffon  | 93                | 449               | 231               | 1                 | \n",
       "| 12382             | 30829             | Wayne Rooney      | 93                | 160               | 192               | 1                 | \n",
       "|  4611             | 39989             | Gregory Coupet    | 92                | 447               |  37               | 2                 | \n",
       "| 12506             | 39854             | Xavi Hernandez    | 92                | 173               | 182               | 1                 | \n",
       "|   446             | 30723             | Alessandro Nesta  | 91                | 138               |  64               | 1                 | \n",
       "|   853             | 30955             | Andres Iniesta    | 91                | 161               | 190               | 1                 | \n",
       "|  3668             | 34520             | Fabio Cannavaro   | 91                | 142               |  40               | 1                 | \n",
       "\n",
       "\n"
      ],
      "text/plain": [
       "   X     player_api_id player_name       overall_rating gk_rating\n",
       "1   7105 30981         Lionel Messi      94             147      \n",
       "2   2287 30893         Cristiano Ronaldo 93             145      \n",
       "3   2288 30893         Cristiano Ronaldo 93             145      \n",
       "4   4419 30717         Gianluigi Buffon  93             449      \n",
       "5  12382 30829         Wayne Rooney      93             160      \n",
       "6   4611 39989         Gregory Coupet    92             447      \n",
       "7  12506 39854         Xavi Hernandez    92             173      \n",
       "8    446 30723         Alessandro Nesta  91             138      \n",
       "9    853 30955         Andres Iniesta    91             161      \n",
       "10  3668 34520         Fabio Cannavaro   91             142      \n",
       "   num_of_appearances num_of_leagues\n",
       "1  127                1             \n",
       "2  251                1             \n",
       "3  251                2             \n",
       "4  231                1             \n",
       "5  192                1             \n",
       "6   37                2             \n",
       "7  182                1             \n",
       "8   64                1             \n",
       "9  190                1             \n",
       "10  40                1             "
      ]
     },
     "metadata": {},
     "output_type": "display_data"
    }
   ],
   "source": [
    "overall <- arrange(players, desc(overall_rating))\n",
    "overall[1:10,]"
   ]
  },
  {
   "cell_type": "markdown",
   "metadata": {},
   "source": [
    "### Query 2 : Which are the top 10 goalkeepers by sum of gk attributes?"
   ]
  },
  {
   "cell_type": "code",
   "execution_count": 10,
   "metadata": {
    "collapsed": false
   },
   "outputs": [
    {
     "data": {
      "text/html": [
       "<table>\n",
       "<thead><tr><th scope=col>X</th><th scope=col>player_api_id</th><th scope=col>player_name</th><th scope=col>overall_rating</th><th scope=col>gk_rating</th><th scope=col>num_of_appearances</th><th scope=col>num_of_leagues</th></tr></thead>\n",
       "<tbody>\n",
       "\t<tr><td> 4419            </td><td> 30717           </td><td>Gianluigi Buffon </td><td>93               </td><td>449              </td><td>231              </td><td>1                </td></tr>\n",
       "\t<tr><td> 4611            </td><td> 39989           </td><td>Gregory Coupet   </td><td>92               </td><td>447              </td><td> 37              </td><td>2                </td></tr>\n",
       "\t<tr><td> 9882            </td><td> 30859           </td><td>Petr Cech        </td><td>89               </td><td>445              </td><td>251              </td><td>1                </td></tr>\n",
       "\t<tr><td> 5035            </td><td> 30657           </td><td>Iker Casillas    </td><td>91               </td><td>442              </td><td>232              </td><td>2                </td></tr>\n",
       "\t<tr><td> 7545            </td><td> 27299           </td><td>Manuel Neuer     </td><td>90               </td><td>440              </td><td>255              </td><td>1                </td></tr>\n",
       "\t<tr><td> 6395            </td><td> 30989           </td><td>Julio Cesar      </td><td>89               </td><td>438              </td><td>202              </td><td>3                </td></tr>\n",
       "\t<tr><td>11020            </td><td> 24503           </td><td>Sebastian Frey   </td><td>87               </td><td>437              </td><td>156              </td><td>1                </td></tr>\n",
       "\t<tr><td> 3328            </td><td> 30726           </td><td>Edwin van der Sar</td><td>87               </td><td>436              </td><td> 87              </td><td>1                </td></tr>\n",
       "\t<tr><td> 2686            </td><td>182917           </td><td>David De Gea     </td><td>87               </td><td>429              </td><td>222              </td><td>2                </td></tr>\n",
       "\t<tr><td> 9837            </td><td> 30660           </td><td>Pepe Reina       </td><td>85               </td><td>428              </td><td>249              </td><td>3                </td></tr>\n",
       "</tbody>\n",
       "</table>\n"
      ],
      "text/latex": [
       "\\begin{tabular}{r|lllllll}\n",
       " X & player\\_api\\_id & player\\_name & overall\\_rating & gk\\_rating & num\\_of\\_appearances & num\\_of\\_leagues\\\\\n",
       "\\hline\n",
       "\t  4419             &  30717            & Gianluigi Buffon  & 93                & 449               & 231               & 1                \\\\\n",
       "\t  4611             &  39989            & Gregory Coupet    & 92                & 447               &  37               & 2                \\\\\n",
       "\t  9882             &  30859            & Petr Cech         & 89                & 445               & 251               & 1                \\\\\n",
       "\t  5035             &  30657            & Iker Casillas     & 91                & 442               & 232               & 2                \\\\\n",
       "\t  7545             &  27299            & Manuel Neuer      & 90                & 440               & 255               & 1                \\\\\n",
       "\t  6395             &  30989            & Julio Cesar       & 89                & 438               & 202               & 3                \\\\\n",
       "\t 11020             &  24503            & Sebastian Frey    & 87                & 437               & 156               & 1                \\\\\n",
       "\t  3328             &  30726            & Edwin van der Sar & 87                & 436               &  87               & 1                \\\\\n",
       "\t  2686             & 182917            & David De Gea      & 87                & 429               & 222               & 2                \\\\\n",
       "\t  9837             &  30660            & Pepe Reina        & 85                & 428               & 249               & 3                \\\\\n",
       "\\end{tabular}\n"
      ],
      "text/markdown": [
       "\n",
       "X | player_api_id | player_name | overall_rating | gk_rating | num_of_appearances | num_of_leagues | \n",
       "|---|---|---|---|---|---|---|---|---|---|\n",
       "|  4419             |  30717            | Gianluigi Buffon  | 93                | 449               | 231               | 1                 | \n",
       "|  4611             |  39989            | Gregory Coupet    | 92                | 447               |  37               | 2                 | \n",
       "|  9882             |  30859            | Petr Cech         | 89                | 445               | 251               | 1                 | \n",
       "|  5035             |  30657            | Iker Casillas     | 91                | 442               | 232               | 2                 | \n",
       "|  7545             |  27299            | Manuel Neuer      | 90                | 440               | 255               | 1                 | \n",
       "|  6395             |  30989            | Julio Cesar       | 89                | 438               | 202               | 3                 | \n",
       "| 11020             |  24503            | Sebastian Frey    | 87                | 437               | 156               | 1                 | \n",
       "|  3328             |  30726            | Edwin van der Sar | 87                | 436               |  87               | 1                 | \n",
       "|  2686             | 182917            | David De Gea      | 87                | 429               | 222               | 2                 | \n",
       "|  9837             |  30660            | Pepe Reina        | 85                | 428               | 249               | 3                 | \n",
       "\n",
       "\n"
      ],
      "text/plain": [
       "   X     player_api_id player_name       overall_rating gk_rating\n",
       "1   4419  30717        Gianluigi Buffon  93             449      \n",
       "2   4611  39989        Gregory Coupet    92             447      \n",
       "3   9882  30859        Petr Cech         89             445      \n",
       "4   5035  30657        Iker Casillas     91             442      \n",
       "5   7545  27299        Manuel Neuer      90             440      \n",
       "6   6395  30989        Julio Cesar       89             438      \n",
       "7  11020  24503        Sebastian Frey    87             437      \n",
       "8   3328  30726        Edwin van der Sar 87             436      \n",
       "9   2686 182917        David De Gea      87             429      \n",
       "10  9837  30660        Pepe Reina        85             428      \n",
       "   num_of_appearances num_of_leagues\n",
       "1  231                1             \n",
       "2   37                2             \n",
       "3  251                1             \n",
       "4  232                2             \n",
       "5  255                1             \n",
       "6  202                3             \n",
       "7  156                1             \n",
       "8   87                1             \n",
       "9  222                2             \n",
       "10 249                3             "
      ]
     },
     "metadata": {},
     "output_type": "display_data"
    }
   ],
   "source": [
    "gk <- arrange(players, desc(gk_rating))\n",
    "gk[1:10,]"
   ]
  },
  {
   "cell_type": "markdown",
   "metadata": {},
   "source": [
    "### Query 3 : Which are the top 10 players by number of appearances (with any team they played with)?"
   ]
  },
  {
   "cell_type": "code",
   "execution_count": 11,
   "metadata": {
    "collapsed": false
   },
   "outputs": [
    {
     "data": {
      "text/html": [
       "<table>\n",
       "<thead><tr><th scope=col>X</th><th scope=col>player_api_id</th><th scope=col>player_name</th><th scope=col>overall_rating</th><th scope=col>gk_rating</th><th scope=col>num_of_appearances</th><th scope=col>num_of_leagues</th></tr></thead>\n",
       "<tbody>\n",
       "\t<tr><td>11524               </td><td>31293               </td><td>Steve Mandanda      </td><td>84                  </td><td>421                 </td><td>300                 </td><td>1                   </td></tr>\n",
       "\t<tr><td>11481               </td><td>41097               </td><td>Stephane Ruffier    </td><td>NA                  </td><td> NA                 </td><td>293                 </td><td>1                   </td></tr>\n",
       "\t<tr><td> 4565               </td><td>33764               </td><td>Gorka Iraizoz Moreno</td><td>81                  </td><td>404                 </td><td>286                 </td><td>1                   </td></tr>\n",
       "\t<tr><td>10848               </td><td>42422               </td><td>Samir Handanovic    </td><td>84                  </td><td>412                 </td><td>286                 </td><td>1                   </td></tr>\n",
       "\t<tr><td> 4930               </td><td>26295               </td><td>Hugo Lloris         </td><td>86                  </td><td>425                 </td><td>282                 </td><td>2                   </td></tr>\n",
       "\t<tr><td> 5813               </td><td>31432               </td><td>Joe Hart            </td><td>85                  </td><td>414                 </td><td>275                 </td><td>1                   </td></tr>\n",
       "\t<tr><td> 1855               </td><td>26168               </td><td>Cedric Carrasso     </td><td>83                  </td><td>408                 </td><td>268                 </td><td>1                   </td></tr>\n",
       "\t<tr><td> 4231               </td><td>23782               </td><td>Gareth Barry        </td><td>84                  </td><td>165                 </td><td>258                 </td><td>1                   </td></tr>\n",
       "\t<tr><td> 1531               </td><td>38433               </td><td>Borja Valero        </td><td>83                  </td><td>158                 </td><td>257                 </td><td>2                   </td></tr>\n",
       "\t<tr><td> 1532               </td><td>38433               </td><td>Borja Valero        </td><td>83                  </td><td>158                 </td><td>257                 </td><td>3                   </td></tr>\n",
       "</tbody>\n",
       "</table>\n"
      ],
      "text/latex": [
       "\\begin{tabular}{r|lllllll}\n",
       " X & player\\_api\\_id & player\\_name & overall\\_rating & gk\\_rating & num\\_of\\_appearances & num\\_of\\_leagues\\\\\n",
       "\\hline\n",
       "\t 11524                & 31293                & Steve Mandanda       & 84                   & 421                  & 300                  & 1                   \\\\\n",
       "\t 11481                & 41097                & Stephane Ruffier     & NA                   &  NA                  & 293                  & 1                   \\\\\n",
       "\t  4565                & 33764                & Gorka Iraizoz Moreno & 81                   & 404                  & 286                  & 1                   \\\\\n",
       "\t 10848                & 42422                & Samir Handanovic     & 84                   & 412                  & 286                  & 1                   \\\\\n",
       "\t  4930                & 26295                & Hugo Lloris          & 86                   & 425                  & 282                  & 2                   \\\\\n",
       "\t  5813                & 31432                & Joe Hart             & 85                   & 414                  & 275                  & 1                   \\\\\n",
       "\t  1855                & 26168                & Cedric Carrasso      & 83                   & 408                  & 268                  & 1                   \\\\\n",
       "\t  4231                & 23782                & Gareth Barry         & 84                   & 165                  & 258                  & 1                   \\\\\n",
       "\t  1531                & 38433                & Borja Valero         & 83                   & 158                  & 257                  & 2                   \\\\\n",
       "\t  1532                & 38433                & Borja Valero         & 83                   & 158                  & 257                  & 3                   \\\\\n",
       "\\end{tabular}\n"
      ],
      "text/markdown": [
       "\n",
       "X | player_api_id | player_name | overall_rating | gk_rating | num_of_appearances | num_of_leagues | \n",
       "|---|---|---|---|---|---|---|---|---|---|\n",
       "| 11524                | 31293                | Steve Mandanda       | 84                   | 421                  | 300                  | 1                    | \n",
       "| 11481                | 41097                | Stephane Ruffier     | NA                   |  NA                  | 293                  | 1                    | \n",
       "|  4565                | 33764                | Gorka Iraizoz Moreno | 81                   | 404                  | 286                  | 1                    | \n",
       "| 10848                | 42422                | Samir Handanovic     | 84                   | 412                  | 286                  | 1                    | \n",
       "|  4930                | 26295                | Hugo Lloris          | 86                   | 425                  | 282                  | 2                    | \n",
       "|  5813                | 31432                | Joe Hart             | 85                   | 414                  | 275                  | 1                    | \n",
       "|  1855                | 26168                | Cedric Carrasso      | 83                   | 408                  | 268                  | 1                    | \n",
       "|  4231                | 23782                | Gareth Barry         | 84                   | 165                  | 258                  | 1                    | \n",
       "|  1531                | 38433                | Borja Valero         | 83                   | 158                  | 257                  | 2                    | \n",
       "|  1532                | 38433                | Borja Valero         | 83                   | 158                  | 257                  | 3                    | \n",
       "\n",
       "\n"
      ],
      "text/plain": [
       "   X     player_api_id player_name          overall_rating gk_rating\n",
       "1  11524 31293         Steve Mandanda       84             421      \n",
       "2  11481 41097         Stephane Ruffier     NA              NA      \n",
       "3   4565 33764         Gorka Iraizoz Moreno 81             404      \n",
       "4  10848 42422         Samir Handanovic     84             412      \n",
       "5   4930 26295         Hugo Lloris          86             425      \n",
       "6   5813 31432         Joe Hart             85             414      \n",
       "7   1855 26168         Cedric Carrasso      83             408      \n",
       "8   4231 23782         Gareth Barry         84             165      \n",
       "9   1531 38433         Borja Valero         83             158      \n",
       "10  1532 38433         Borja Valero         83             158      \n",
       "   num_of_appearances num_of_leagues\n",
       "1  300                1             \n",
       "2  293                1             \n",
       "3  286                1             \n",
       "4  286                1             \n",
       "5  282                2             \n",
       "6  275                1             \n",
       "7  268                1             \n",
       "8  258                1             \n",
       "9  257                2             \n",
       "10 257                3             "
      ]
     },
     "metadata": {},
     "output_type": "display_data"
    }
   ],
   "source": [
    "appeareances <- arrange(players, desc(num_of_appearances))\n",
    "appeareances[1:10,]"
   ]
  },
  {
   "cell_type": "markdown",
   "metadata": {},
   "source": [
    "### Query 4 : Which are the top 10 players by number of leagues they played in?"
   ]
  },
  {
   "cell_type": "code",
   "execution_count": 12,
   "metadata": {
    "collapsed": false
   },
   "outputs": [
    {
     "data": {
      "text/html": [
       "<table>\n",
       "<thead><tr><th scope=col>X</th><th scope=col>player_api_id</th><th scope=col>player_name</th><th scope=col>overall_rating</th><th scope=col>gk_rating</th><th scope=col>num_of_appearances</th><th scope=col>num_of_leagues</th></tr></thead>\n",
       "<tbody>\n",
       "\t<tr><td> 4302                </td><td> 42119               </td><td>Gelson Fernandes     </td><td>NA                   </td><td> NA                  </td><td>174                  </td><td>6                    </td></tr>\n",
       "\t<tr><td> 4299                </td><td> 42119               </td><td>Gelson Fernandes     </td><td>NA                   </td><td> NA                  </td><td>174                  </td><td>5                    </td></tr>\n",
       "\t<tr><td>10352                </td><td>116750               </td><td>Ricky van Wolfswinkel</td><td>77                   </td><td>106                  </td><td>116                  </td><td>5                    </td></tr>\n",
       "\t<tr><td>  624                </td><td> 25816               </td><td>Almen Abdi           </td><td>NA                   </td><td> NA                  </td><td> 38                  </td><td>4                    </td></tr>\n",
       "\t<tr><td>  666                </td><td> 93484               </td><td>Aly Cissokho         </td><td>79                   </td><td>130                  </td><td>178                  </td><td>4                    </td></tr>\n",
       "\t<tr><td>  916                </td><td> 46509               </td><td>Angel Di Maria       </td><td>86                   </td><td>150                  </td><td>167                  </td><td>4                    </td></tr>\n",
       "\t<tr><td> 1505                </td><td> 96643               </td><td>Bojan Krkic          </td><td>81                   </td><td>138                  </td><td> 84                  </td><td>4                    </td></tr>\n",
       "\t<tr><td> 1688                </td><td> 38229               </td><td>Bryan Ruiz           </td><td>82                   </td><td>181                  </td><td>150                  </td><td>4                    </td></tr>\n",
       "\t<tr><td> 2038                </td><td> 32937               </td><td>Christian Poulsen    </td><td>83                   </td><td>164                  </td><td> 69                  </td><td>4                    </td></tr>\n",
       "\t<tr><td> 2529                </td><td> 30477               </td><td>Danijel Pranjic      </td><td>78                   </td><td>152                  </td><td> 46                  </td><td>4                    </td></tr>\n",
       "</tbody>\n",
       "</table>\n"
      ],
      "text/latex": [
       "\\begin{tabular}{r|lllllll}\n",
       " X & player\\_api\\_id & player\\_name & overall\\_rating & gk\\_rating & num\\_of\\_appearances & num\\_of\\_leagues\\\\\n",
       "\\hline\n",
       "\t  4302                 &  42119                & Gelson Fernandes      & NA                    &  NA                   & 174                   & 6                    \\\\\n",
       "\t  4299                 &  42119                & Gelson Fernandes      & NA                    &  NA                   & 174                   & 5                    \\\\\n",
       "\t 10352                 & 116750                & Ricky van Wolfswinkel & 77                    & 106                   & 116                   & 5                    \\\\\n",
       "\t   624                 &  25816                & Almen Abdi            & NA                    &  NA                   &  38                   & 4                    \\\\\n",
       "\t   666                 &  93484                & Aly Cissokho          & 79                    & 130                   & 178                   & 4                    \\\\\n",
       "\t   916                 &  46509                & Angel Di Maria        & 86                    & 150                   & 167                   & 4                    \\\\\n",
       "\t  1505                 &  96643                & Bojan Krkic           & 81                    & 138                   &  84                   & 4                    \\\\\n",
       "\t  1688                 &  38229                & Bryan Ruiz            & 82                    & 181                   & 150                   & 4                    \\\\\n",
       "\t  2038                 &  32937                & Christian Poulsen     & 83                    & 164                   &  69                   & 4                    \\\\\n",
       "\t  2529                 &  30477                & Danijel Pranjic       & 78                    & 152                   &  46                   & 4                    \\\\\n",
       "\\end{tabular}\n"
      ],
      "text/markdown": [
       "\n",
       "X | player_api_id | player_name | overall_rating | gk_rating | num_of_appearances | num_of_leagues | \n",
       "|---|---|---|---|---|---|---|---|---|---|\n",
       "|  4302                 |  42119                | Gelson Fernandes      | NA                    |  NA                   | 174                   | 6                     | \n",
       "|  4299                 |  42119                | Gelson Fernandes      | NA                    |  NA                   | 174                   | 5                     | \n",
       "| 10352                 | 116750                | Ricky van Wolfswinkel | 77                    | 106                   | 116                   | 5                     | \n",
       "|   624                 |  25816                | Almen Abdi            | NA                    |  NA                   |  38                   | 4                     | \n",
       "|   666                 |  93484                | Aly Cissokho          | 79                    | 130                   | 178                   | 4                     | \n",
       "|   916                 |  46509                | Angel Di Maria        | 86                    | 150                   | 167                   | 4                     | \n",
       "|  1505                 |  96643                | Bojan Krkic           | 81                    | 138                   |  84                   | 4                     | \n",
       "|  1688                 |  38229                | Bryan Ruiz            | 82                    | 181                   | 150                   | 4                     | \n",
       "|  2038                 |  32937                | Christian Poulsen     | 83                    | 164                   |  69                   | 4                     | \n",
       "|  2529                 |  30477                | Danijel Pranjic       | 78                    | 152                   |  46                   | 4                     | \n",
       "\n",
       "\n"
      ],
      "text/plain": [
       "   X     player_api_id player_name           overall_rating gk_rating\n",
       "1   4302  42119        Gelson Fernandes      NA              NA      \n",
       "2   4299  42119        Gelson Fernandes      NA              NA      \n",
       "3  10352 116750        Ricky van Wolfswinkel 77             106      \n",
       "4    624  25816        Almen Abdi            NA              NA      \n",
       "5    666  93484        Aly Cissokho          79             130      \n",
       "6    916  46509        Angel Di Maria        86             150      \n",
       "7   1505  96643        Bojan Krkic           81             138      \n",
       "8   1688  38229        Bryan Ruiz            82             181      \n",
       "9   2038  32937        Christian Poulsen     83             164      \n",
       "10  2529  30477        Danijel Pranjic       78             152      \n",
       "   num_of_appearances num_of_leagues\n",
       "1  174                6             \n",
       "2  174                5             \n",
       "3  116                5             \n",
       "4   38                4             \n",
       "5  178                4             \n",
       "6  167                4             \n",
       "7   84                4             \n",
       "8  150                4             \n",
       "9   69                4             \n",
       "10  46                4             "
      ]
     },
     "metadata": {},
     "output_type": "display_data"
    }
   ],
   "source": [
    "leagues <- arrange(players, desc(num_of_leagues))\n",
    "leagues[1:10,]"
   ]
  },
  {
   "cell_type": "markdown",
   "metadata": {},
   "source": [
    "### Query 5 : Which are the top 10 teams by sum of build up play attributes?"
   ]
  },
  {
   "cell_type": "code",
   "execution_count": 13,
   "metadata": {
    "collapsed": false
   },
   "outputs": [
    {
     "data": {
      "text/html": [
       "<table>\n",
       "<thead><tr><th scope=col>X</th><th scope=col>team_api_id</th><th scope=col>team_long_name</th><th scope=col>team_short_name</th><th scope=col>build_sum</th><th scope=col>chance_sum</th><th scope=col>defence_sum</th><th scope=col>goals</th></tr></thead>\n",
       "<tbody>\n",
       "\t<tr><td>156                 </td><td>208931              </td><td>Carpi               </td><td>CAP                 </td><td>190                 </td><td>160                 </td><td>141                 </td><td> 37                 </td></tr>\n",
       "\t<tr><td>124                 </td><td>  8262              </td><td>SV Darmstadt 98     </td><td>DAR                 </td><td>179                 </td><td>174                 </td><td>129                 </td><td> 38                 </td></tr>\n",
       "\t<tr><td>230                 </td><td>158085              </td><td>FC Arouca           </td><td>ARO                 </td><td>174                 </td><td>160                 </td><td>113                 </td><td>101                 </td></tr>\n",
       "\t<tr><td>282                 </td><td>  8372              </td><td>SD Eibar            </td><td>EIB                 </td><td>165                 </td><td>179                 </td><td>142                 </td><td> 83                 </td></tr>\n",
       "\t<tr><td>180                 </td><td>  6433              </td><td>Go Ahead Eagles     </td><td>GAE                 </td><td>160                 </td><td>132                 </td><td>141                 </td><td> 74                 </td></tr>\n",
       "\t<tr><td> 24                 </td><td>  8573              </td><td>KV Oostende         </td><td>OOS                 </td><td>155                 </td><td>140                 </td><td>133                 </td><td>102                 </td></tr>\n",
       "\t<tr><td>232                 </td><td>  8613              </td><td>Boavista FC         </td><td>BOA                 </td><td>153                 </td><td>128                 </td><td>148                 </td><td> 51                 </td></tr>\n",
       "\t<tr><td> 16                 </td><td>  9996              </td><td>Royal Excel Mouscron</td><td>MOU                 </td><td>150                 </td><td>150                 </td><td>140                 </td><td> 42                 </td></tr>\n",
       "\t<tr><td> 25                 </td><td>274581              </td><td>Royal Excel Mouscron</td><td>MOP                 </td><td>150                 </td><td>150                 </td><td>140                 </td><td> 71                 </td></tr>\n",
       "\t<tr><td>231                 </td><td>  6547              </td><td>FC Penafiel         </td><td>PEN                 </td><td>147                 </td><td>146                 </td><td>121                 </td><td> 29                 </td></tr>\n",
       "</tbody>\n",
       "</table>\n"
      ],
      "text/latex": [
       "\\begin{tabular}{r|llllllll}\n",
       " X & team\\_api\\_id & team\\_long\\_name & team\\_short\\_name & build\\_sum & chance\\_sum & defence\\_sum & goals\\\\\n",
       "\\hline\n",
       "\t 156                  & 208931               & Carpi                & CAP                  & 190                  & 160                  & 141                  &  37                 \\\\\n",
       "\t 124                  &   8262               & SV Darmstadt 98      & DAR                  & 179                  & 174                  & 129                  &  38                 \\\\\n",
       "\t 230                  & 158085               & FC Arouca            & ARO                  & 174                  & 160                  & 113                  & 101                 \\\\\n",
       "\t 282                  &   8372               & SD Eibar             & EIB                  & 165                  & 179                  & 142                  &  83                 \\\\\n",
       "\t 180                  &   6433               & Go Ahead Eagles      & GAE                  & 160                  & 132                  & 141                  &  74                 \\\\\n",
       "\t  24                  &   8573               & KV Oostende          & OOS                  & 155                  & 140                  & 133                  & 102                 \\\\\n",
       "\t 232                  &   8613               & Boavista FC          & BOA                  & 153                  & 128                  & 148                  &  51                 \\\\\n",
       "\t  16                  &   9996               & Royal Excel Mouscron & MOU                  & 150                  & 150                  & 140                  &  42                 \\\\\n",
       "\t  25                  & 274581               & Royal Excel Mouscron & MOP                  & 150                  & 150                  & 140                  &  71                 \\\\\n",
       "\t 231                  &   6547               & FC Penafiel          & PEN                  & 147                  & 146                  & 121                  &  29                 \\\\\n",
       "\\end{tabular}\n"
      ],
      "text/markdown": [
       "\n",
       "X | team_api_id | team_long_name | team_short_name | build_sum | chance_sum | defence_sum | goals | \n",
       "|---|---|---|---|---|---|---|---|---|---|\n",
       "| 156                  | 208931               | Carpi                | CAP                  | 190                  | 160                  | 141                  |  37                  | \n",
       "| 124                  |   8262               | SV Darmstadt 98      | DAR                  | 179                  | 174                  | 129                  |  38                  | \n",
       "| 230                  | 158085               | FC Arouca            | ARO                  | 174                  | 160                  | 113                  | 101                  | \n",
       "| 282                  |   8372               | SD Eibar             | EIB                  | 165                  | 179                  | 142                  |  83                  | \n",
       "| 180                  |   6433               | Go Ahead Eagles      | GAE                  | 160                  | 132                  | 141                  |  74                  | \n",
       "|  24                  |   8573               | KV Oostende          | OOS                  | 155                  | 140                  | 133                  | 102                  | \n",
       "| 232                  |   8613               | Boavista FC          | BOA                  | 153                  | 128                  | 148                  |  51                  | \n",
       "|  16                  |   9996               | Royal Excel Mouscron | MOU                  | 150                  | 150                  | 140                  |  42                  | \n",
       "|  25                  | 274581               | Royal Excel Mouscron | MOP                  | 150                  | 150                  | 140                  |  71                  | \n",
       "| 231                  |   6547               | FC Penafiel          | PEN                  | 147                  | 146                  | 121                  |  29                  | \n",
       "\n",
       "\n"
      ],
      "text/plain": [
       "   X   team_api_id team_long_name       team_short_name build_sum chance_sum\n",
       "1  156 208931      Carpi                CAP             190       160       \n",
       "2  124   8262      SV Darmstadt 98      DAR             179       174       \n",
       "3  230 158085      FC Arouca            ARO             174       160       \n",
       "4  282   8372      SD Eibar             EIB             165       179       \n",
       "5  180   6433      Go Ahead Eagles      GAE             160       132       \n",
       "6   24   8573      KV Oostende          OOS             155       140       \n",
       "7  232   8613      Boavista FC          BOA             153       128       \n",
       "8   16   9996      Royal Excel Mouscron MOU             150       150       \n",
       "9   25 274581      Royal Excel Mouscron MOP             150       150       \n",
       "10 231   6547      FC Penafiel          PEN             147       146       \n",
       "   defence_sum goals\n",
       "1  141          37  \n",
       "2  129          38  \n",
       "3  113         101  \n",
       "4  142          83  \n",
       "5  141          74  \n",
       "6  133         102  \n",
       "7  148          51  \n",
       "8  140          42  \n",
       "9  140          71  \n",
       "10 121          29  "
      ]
     },
     "metadata": {},
     "output_type": "display_data"
    }
   ],
   "source": [
    "build_att <- arrange(teams, desc(build_sum))\n",
    "build_att[1:10,]"
   ]
  },
  {
   "cell_type": "markdown",
   "metadata": {},
   "source": [
    "### Query 6 : Which are the top 10 teams by sum of chance creation attributes?"
   ]
  },
  {
   "cell_type": "code",
   "execution_count": 14,
   "metadata": {
    "collapsed": false
   },
   "outputs": [
    {
     "data": {
      "text/html": [
       "<table>\n",
       "<thead><tr><th scope=col>X</th><th scope=col>team_api_id</th><th scope=col>team_long_name</th><th scope=col>team_short_name</th><th scope=col>build_sum</th><th scope=col>chance_sum</th><th scope=col>defence_sum</th><th scope=col>goals</th></tr></thead>\n",
       "<tbody>\n",
       "\t<tr><td>128                    </td><td> 8543                  </td><td>Lazio                  </td><td>LAZ                    </td><td>NA                     </td><td>220                    </td><td>190                    </td><td>417                    </td></tr>\n",
       "\t<tr><td>106                    </td><td> 8697                  </td><td>SV Werder Bremen       </td><td>WBR                    </td><td>NA                     </td><td>216                    </td><td>205                    </td><td>423                    </td></tr>\n",
       "\t<tr><td>138                    </td><td> 9875                  </td><td>Napoli                 </td><td>NAP                    </td><td>NA                     </td><td>215                    </td><td>165                    </td><td>514                    </td></tr>\n",
       "\t<tr><td> 35                    </td><td> 8456                  </td><td>Manchester City        </td><td>MCI                    </td><td>NA                     </td><td>210                    </td><td>180                    </td><td>606                    </td></tr>\n",
       "\t<tr><td> 39                    </td><td> 8586                  </td><td>Tottenham Hotspur      </td><td>TOT                    </td><td>NA                     </td><td>210                    </td><td>181                    </td><td>481                    </td></tr>\n",
       "\t<tr><td> 46                    </td><td> 8658                  </td><td>Birmingham City        </td><td>BIR                    </td><td>NA                     </td><td>210                    </td><td>210                    </td><td> 75                    </td></tr>\n",
       "\t<tr><td> 47                    </td><td> 8602                  </td><td>Wolverhampton Wanderers</td><td>WOL                    </td><td>NA                     </td><td>210                    </td><td>210                    </td><td>118                    </td></tr>\n",
       "\t<tr><td> 48                    </td><td> 8191                  </td><td>Burnley                </td><td>BUR                    </td><td>NA                     </td><td>210                    </td><td>205                    </td><td> 70                    </td></tr>\n",
       "\t<tr><td> 50                    </td><td>10003                  </td><td>Swansea City           </td><td>SWA                    </td><td>NA                     </td><td>210                    </td><td>210                    </td><td>233                    </td></tr>\n",
       "\t<tr><td> 51                    </td><td>10172                  </td><td>Queens Park Rangers    </td><td>QPR                    </td><td>NA                     </td><td>210                    </td><td>210                    </td><td>115                    </td></tr>\n",
       "</tbody>\n",
       "</table>\n"
      ],
      "text/latex": [
       "\\begin{tabular}{r|llllllll}\n",
       " X & team\\_api\\_id & team\\_long\\_name & team\\_short\\_name & build\\_sum & chance\\_sum & defence\\_sum & goals\\\\\n",
       "\\hline\n",
       "\t 128                     &  8543                   & Lazio                   & LAZ                     & NA                      & 220                     & 190                     & 417                    \\\\\n",
       "\t 106                     &  8697                   & SV Werder Bremen        & WBR                     & NA                      & 216                     & 205                     & 423                    \\\\\n",
       "\t 138                     &  9875                   & Napoli                  & NAP                     & NA                      & 215                     & 165                     & 514                    \\\\\n",
       "\t  35                     &  8456                   & Manchester City         & MCI                     & NA                      & 210                     & 180                     & 606                    \\\\\n",
       "\t  39                     &  8586                   & Tottenham Hotspur       & TOT                     & NA                      & 210                     & 181                     & 481                    \\\\\n",
       "\t  46                     &  8658                   & Birmingham City         & BIR                     & NA                      & 210                     & 210                     &  75                    \\\\\n",
       "\t  47                     &  8602                   & Wolverhampton Wanderers & WOL                     & NA                      & 210                     & 210                     & 118                    \\\\\n",
       "\t  48                     &  8191                   & Burnley                 & BUR                     & NA                      & 210                     & 205                     &  70                    \\\\\n",
       "\t  50                     & 10003                   & Swansea City            & SWA                     & NA                      & 210                     & 210                     & 233                    \\\\\n",
       "\t  51                     & 10172                   & Queens Park Rangers     & QPR                     & NA                      & 210                     & 210                     & 115                    \\\\\n",
       "\\end{tabular}\n"
      ],
      "text/markdown": [
       "\n",
       "X | team_api_id | team_long_name | team_short_name | build_sum | chance_sum | defence_sum | goals | \n",
       "|---|---|---|---|---|---|---|---|---|---|\n",
       "| 128                     |  8543                   | Lazio                   | LAZ                     | NA                      | 220                     | 190                     | 417                     | \n",
       "| 106                     |  8697                   | SV Werder Bremen        | WBR                     | NA                      | 216                     | 205                     | 423                     | \n",
       "| 138                     |  9875                   | Napoli                  | NAP                     | NA                      | 215                     | 165                     | 514                     | \n",
       "|  35                     |  8456                   | Manchester City         | MCI                     | NA                      | 210                     | 180                     | 606                     | \n",
       "|  39                     |  8586                   | Tottenham Hotspur       | TOT                     | NA                      | 210                     | 181                     | 481                     | \n",
       "|  46                     |  8658                   | Birmingham City         | BIR                     | NA                      | 210                     | 210                     |  75                     | \n",
       "|  47                     |  8602                   | Wolverhampton Wanderers | WOL                     | NA                      | 210                     | 210                     | 118                     | \n",
       "|  48                     |  8191                   | Burnley                 | BUR                     | NA                      | 210                     | 205                     |  70                     | \n",
       "|  50                     | 10003                   | Swansea City            | SWA                     | NA                      | 210                     | 210                     | 233                     | \n",
       "|  51                     | 10172                   | Queens Park Rangers     | QPR                     | NA                      | 210                     | 210                     | 115                     | \n",
       "\n",
       "\n"
      ],
      "text/plain": [
       "   X   team_api_id team_long_name          team_short_name build_sum chance_sum\n",
       "1  128  8543       Lazio                   LAZ             NA        220       \n",
       "2  106  8697       SV Werder Bremen        WBR             NA        216       \n",
       "3  138  9875       Napoli                  NAP             NA        215       \n",
       "4   35  8456       Manchester City         MCI             NA        210       \n",
       "5   39  8586       Tottenham Hotspur       TOT             NA        210       \n",
       "6   46  8658       Birmingham City         BIR             NA        210       \n",
       "7   47  8602       Wolverhampton Wanderers WOL             NA        210       \n",
       "8   48  8191       Burnley                 BUR             NA        210       \n",
       "9   50 10003       Swansea City            SWA             NA        210       \n",
       "10  51 10172       Queens Park Rangers     QPR             NA        210       \n",
       "   defence_sum goals\n",
       "1  190         417  \n",
       "2  205         423  \n",
       "3  165         514  \n",
       "4  180         606  \n",
       "5  181         481  \n",
       "6  210          75  \n",
       "7  210         118  \n",
       "8  205          70  \n",
       "9  210         233  \n",
       "10 210         115  "
      ]
     },
     "metadata": {},
     "output_type": "display_data"
    }
   ],
   "source": [
    "chance_att <- arrange(teams, desc(chance_sum))\n",
    "chance_att[1:10,]"
   ]
  },
  {
   "cell_type": "markdown",
   "metadata": {},
   "source": [
    "### Query 7 : Which are the top 10 teams by sum of defense attributes?"
   ]
  },
  {
   "cell_type": "code",
   "execution_count": 18,
   "metadata": {
    "collapsed": false
   },
   "outputs": [
    {
     "data": {
      "text/html": [
       "<table>\n",
       "<thead><tr><th scope=col>X</th><th scope=col>team_api_id</th><th scope=col>team_long_name</th><th scope=col>team_short_name</th><th scope=col>build_sum</th><th scope=col>chance_sum</th><th scope=col>defence_sum</th><th scope=col>goals</th></tr></thead>\n",
       "<tbody>\n",
       "\t<tr><td> 2                     </td><td> 9993                  </td><td>Beerschot AC           </td><td>BAC                    </td><td>NA                     </td><td>185                    </td><td>210                    </td><td>174                    </td></tr>\n",
       "\t<tr><td>17                     </td><td>10001                  </td><td>KVC Westerlo           </td><td>WES                    </td><td>NA                     </td><td>167                    </td><td>210                    </td><td>217                    </td></tr>\n",
       "\t<tr><td>18                     </td><td> 9986                  </td><td>Sporting Charleroi     </td><td>CHA                    </td><td>NA                     </td><td>148                    </td><td>210                    </td><td>201                    </td></tr>\n",
       "\t<tr><td>29                     </td><td> 8659                  </td><td>West Bromwich Albion   </td><td>WBA                    </td><td>NA                     </td><td>195                    </td><td>210                    </td><td>305                    </td></tr>\n",
       "\t<tr><td>42                     </td><td> 8667                  </td><td>Hull City              </td><td>HUL                    </td><td>NA                     </td><td>195                    </td><td>210                    </td><td>144                    </td></tr>\n",
       "\t<tr><td>46                     </td><td> 8658                  </td><td>Birmingham City        </td><td>BIR                    </td><td>NA                     </td><td>210                    </td><td>210                    </td><td> 75                    </td></tr>\n",
       "\t<tr><td>47                     </td><td> 8602                  </td><td>Wolverhampton Wanderers</td><td>WOL                    </td><td>NA                     </td><td>210                    </td><td>210                    </td><td>118                    </td></tr>\n",
       "\t<tr><td>49                     </td><td> 8483                  </td><td>Blackpool              </td><td>BLA                    </td><td>NA                     </td><td>205                    </td><td>210                    </td><td> 55                    </td></tr>\n",
       "\t<tr><td>50                     </td><td>10003                  </td><td>Swansea City           </td><td>SWA                    </td><td>NA                     </td><td>210                    </td><td>210                    </td><td>233                    </td></tr>\n",
       "\t<tr><td>51                     </td><td>10172                  </td><td>Queens Park Rangers    </td><td>QPR                    </td><td>NA                     </td><td>210                    </td><td>210                    </td><td>115                    </td></tr>\n",
       "</tbody>\n",
       "</table>\n"
      ],
      "text/latex": [
       "\\begin{tabular}{r|llllllll}\n",
       " X & team\\_api\\_id & team\\_long\\_name & team\\_short\\_name & build\\_sum & chance\\_sum & defence\\_sum & goals\\\\\n",
       "\\hline\n",
       "\t  2                      &  9993                   & Beerschot AC            & BAC                     & NA                      & 185                     & 210                     & 174                    \\\\\n",
       "\t 17                      & 10001                   & KVC Westerlo            & WES                     & NA                      & 167                     & 210                     & 217                    \\\\\n",
       "\t 18                      &  9986                   & Sporting Charleroi      & CHA                     & NA                      & 148                     & 210                     & 201                    \\\\\n",
       "\t 29                      &  8659                   & West Bromwich Albion    & WBA                     & NA                      & 195                     & 210                     & 305                    \\\\\n",
       "\t 42                      &  8667                   & Hull City               & HUL                     & NA                      & 195                     & 210                     & 144                    \\\\\n",
       "\t 46                      &  8658                   & Birmingham City         & BIR                     & NA                      & 210                     & 210                     &  75                    \\\\\n",
       "\t 47                      &  8602                   & Wolverhampton Wanderers & WOL                     & NA                      & 210                     & 210                     & 118                    \\\\\n",
       "\t 49                      &  8483                   & Blackpool               & BLA                     & NA                      & 205                     & 210                     &  55                    \\\\\n",
       "\t 50                      & 10003                   & Swansea City            & SWA                     & NA                      & 210                     & 210                     & 233                    \\\\\n",
       "\t 51                      & 10172                   & Queens Park Rangers     & QPR                     & NA                      & 210                     & 210                     & 115                    \\\\\n",
       "\\end{tabular}\n"
      ],
      "text/markdown": [
       "\n",
       "X | team_api_id | team_long_name | team_short_name | build_sum | chance_sum | defence_sum | goals | \n",
       "|---|---|---|---|---|---|---|---|---|---|\n",
       "|  2                      |  9993                   | Beerschot AC            | BAC                     | NA                      | 185                     | 210                     | 174                     | \n",
       "| 17                      | 10001                   | KVC Westerlo            | WES                     | NA                      | 167                     | 210                     | 217                     | \n",
       "| 18                      |  9986                   | Sporting Charleroi      | CHA                     | NA                      | 148                     | 210                     | 201                     | \n",
       "| 29                      |  8659                   | West Bromwich Albion    | WBA                     | NA                      | 195                     | 210                     | 305                     | \n",
       "| 42                      |  8667                   | Hull City               | HUL                     | NA                      | 195                     | 210                     | 144                     | \n",
       "| 46                      |  8658                   | Birmingham City         | BIR                     | NA                      | 210                     | 210                     |  75                     | \n",
       "| 47                      |  8602                   | Wolverhampton Wanderers | WOL                     | NA                      | 210                     | 210                     | 118                     | \n",
       "| 49                      |  8483                   | Blackpool               | BLA                     | NA                      | 205                     | 210                     |  55                     | \n",
       "| 50                      | 10003                   | Swansea City            | SWA                     | NA                      | 210                     | 210                     | 233                     | \n",
       "| 51                      | 10172                   | Queens Park Rangers     | QPR                     | NA                      | 210                     | 210                     | 115                     | \n",
       "\n",
       "\n"
      ],
      "text/plain": [
       "   X  team_api_id team_long_name          team_short_name build_sum chance_sum\n",
       "1   2  9993       Beerschot AC            BAC             NA        185       \n",
       "2  17 10001       KVC Westerlo            WES             NA        167       \n",
       "3  18  9986       Sporting Charleroi      CHA             NA        148       \n",
       "4  29  8659       West Bromwich Albion    WBA             NA        195       \n",
       "5  42  8667       Hull City               HUL             NA        195       \n",
       "6  46  8658       Birmingham City         BIR             NA        210       \n",
       "7  47  8602       Wolverhampton Wanderers WOL             NA        210       \n",
       "8  49  8483       Blackpool               BLA             NA        205       \n",
       "9  50 10003       Swansea City            SWA             NA        210       \n",
       "10 51 10172       Queens Park Rangers     QPR             NA        210       \n",
       "   defence_sum goals\n",
       "1  210         174  \n",
       "2  210         217  \n",
       "3  210         201  \n",
       "4  210         305  \n",
       "5  210         144  \n",
       "6  210          75  \n",
       "7  210         118  \n",
       "8  210          55  \n",
       "9  210         233  \n",
       "10 210         115  "
      ]
     },
     "metadata": {},
     "output_type": "display_data"
    }
   ],
   "source": [
    "defence_att <- arrange(teams, desc(defence_sum))\n",
    "defence_att[1:10,]"
   ]
  },
  {
   "cell_type": "markdown",
   "metadata": {},
   "source": [
    "### Query 8 : Which are the top 10 teams by number of scored goals?"
   ]
  },
  {
   "cell_type": "code",
   "execution_count": 19,
   "metadata": {
    "collapsed": false
   },
   "outputs": [
    {
     "data": {
      "text/html": [
       "<table>\n",
       "<thead><tr><th scope=col>X</th><th scope=col>team_api_id</th><th scope=col>team_long_name</th><th scope=col>team_short_name</th><th scope=col>build_sum</th><th scope=col>chance_sum</th><th scope=col>defence_sum</th><th scope=col>goals</th></tr></thead>\n",
       "<tbody>\n",
       "\t<tr><td>259              </td><td> 8634            </td><td>FC Barcelona     </td><td>BAR              </td><td>NA               </td><td>175              </td><td>195              </td><td>849              </td></tr>\n",
       "\t<tr><td>257              </td><td> 8633            </td><td>Real Madrid CF   </td><td>REA              </td><td>NA               </td><td>200              </td><td>178              </td><td>843              </td></tr>\n",
       "\t<tr><td>243              </td><td> 9925            </td><td>Celtic           </td><td>CEL              </td><td>NA               </td><td>205              </td><td>200              </td><td>695              </td></tr>\n",
       "\t<tr><td> 95              </td><td> 9823            </td><td>FC Bayern Munich </td><td>BMU              </td><td>NA               </td><td>205              </td><td>184              </td><td>653              </td></tr>\n",
       "\t<tr><td>166              </td><td> 8640            </td><td>PSV              </td><td>PSV              </td><td>NA               </td><td>200              </td><td>167              </td><td>652              </td></tr>\n",
       "\t<tr><td>162              </td><td> 8593            </td><td>Ajax             </td><td>AJA              </td><td>NA               </td><td>199              </td><td>193              </td><td>647              </td></tr>\n",
       "\t<tr><td>288              </td><td> 9931            </td><td>FC Basel         </td><td>BAS              </td><td>NA               </td><td>186              </td><td>180              </td><td>619              </td></tr>\n",
       "\t<tr><td> 35              </td><td> 8456            </td><td>Manchester City  </td><td>MCI              </td><td>NA               </td><td>210              </td><td>180              </td><td>606              </td></tr>\n",
       "\t<tr><td> 44              </td><td> 8455            </td><td>Chelsea          </td><td>CHE              </td><td>NA               </td><td>200              </td><td>168              </td><td>583              </td></tr>\n",
       "\t<tr><td> 26              </td><td>10260            </td><td>Manchester United</td><td>MUN              </td><td>NA               </td><td>200              </td><td>163              </td><td>582              </td></tr>\n",
       "</tbody>\n",
       "</table>\n"
      ],
      "text/latex": [
       "\\begin{tabular}{r|llllllll}\n",
       " X & team\\_api\\_id & team\\_long\\_name & team\\_short\\_name & build\\_sum & chance\\_sum & defence\\_sum & goals\\\\\n",
       "\\hline\n",
       "\t 259               &  8634             & FC Barcelona      & BAR               & NA                & 175               & 195               & 849              \\\\\n",
       "\t 257               &  8633             & Real Madrid CF    & REA               & NA                & 200               & 178               & 843              \\\\\n",
       "\t 243               &  9925             & Celtic            & CEL               & NA                & 205               & 200               & 695              \\\\\n",
       "\t  95               &  9823             & FC Bayern Munich  & BMU               & NA                & 205               & 184               & 653              \\\\\n",
       "\t 166               &  8640             & PSV               & PSV               & NA                & 200               & 167               & 652              \\\\\n",
       "\t 162               &  8593             & Ajax              & AJA               & NA                & 199               & 193               & 647              \\\\\n",
       "\t 288               &  9931             & FC Basel          & BAS               & NA                & 186               & 180               & 619              \\\\\n",
       "\t  35               &  8456             & Manchester City   & MCI               & NA                & 210               & 180               & 606              \\\\\n",
       "\t  44               &  8455             & Chelsea           & CHE               & NA                & 200               & 168               & 583              \\\\\n",
       "\t  26               & 10260             & Manchester United & MUN               & NA                & 200               & 163               & 582              \\\\\n",
       "\\end{tabular}\n"
      ],
      "text/markdown": [
       "\n",
       "X | team_api_id | team_long_name | team_short_name | build_sum | chance_sum | defence_sum | goals | \n",
       "|---|---|---|---|---|---|---|---|---|---|\n",
       "| 259               |  8634             | FC Barcelona      | BAR               | NA                | 175               | 195               | 849               | \n",
       "| 257               |  8633             | Real Madrid CF    | REA               | NA                | 200               | 178               | 843               | \n",
       "| 243               |  9925             | Celtic            | CEL               | NA                | 205               | 200               | 695               | \n",
       "|  95               |  9823             | FC Bayern Munich  | BMU               | NA                | 205               | 184               | 653               | \n",
       "| 166               |  8640             | PSV               | PSV               | NA                | 200               | 167               | 652               | \n",
       "| 162               |  8593             | Ajax              | AJA               | NA                | 199               | 193               | 647               | \n",
       "| 288               |  9931             | FC Basel          | BAS               | NA                | 186               | 180               | 619               | \n",
       "|  35               |  8456             | Manchester City   | MCI               | NA                | 210               | 180               | 606               | \n",
       "|  44               |  8455             | Chelsea           | CHE               | NA                | 200               | 168               | 583               | \n",
       "|  26               | 10260             | Manchester United | MUN               | NA                | 200               | 163               | 582               | \n",
       "\n",
       "\n"
      ],
      "text/plain": [
       "   X   team_api_id team_long_name    team_short_name build_sum chance_sum\n",
       "1  259  8634       FC Barcelona      BAR             NA        175       \n",
       "2  257  8633       Real Madrid CF    REA             NA        200       \n",
       "3  243  9925       Celtic            CEL             NA        205       \n",
       "4   95  9823       FC Bayern Munich  BMU             NA        205       \n",
       "5  166  8640       PSV               PSV             NA        200       \n",
       "6  162  8593       Ajax              AJA             NA        199       \n",
       "7  288  9931       FC Basel          BAS             NA        186       \n",
       "8   35  8456       Manchester City   MCI             NA        210       \n",
       "9   44  8455       Chelsea           CHE             NA        200       \n",
       "10  26 10260       Manchester United MUN             NA        200       \n",
       "   defence_sum goals\n",
       "1  195         849  \n",
       "2  178         843  \n",
       "3  200         695  \n",
       "4  184         653  \n",
       "5  167         652  \n",
       "6  193         647  \n",
       "7  180         619  \n",
       "8  180         606  \n",
       "9  168         583  \n",
       "10 163         582  "
      ]
     },
     "metadata": {},
     "output_type": "display_data"
    }
   ],
   "source": [
    "goals <- arrange(teams, desc(goals))\n",
    "goals[1:10,]"
   ]
  }
 ],
 "metadata": {
  "kernelspec": {
   "display_name": "R",
   "language": "R",
   "name": "ir"
  },
  "language_info": {
   "codemirror_mode": "r",
   "file_extension": ".r",
   "mimetype": "text/x-r-source",
   "name": "R",
   "pygments_lexer": "r",
   "version": "3.3.2"
  }
 },
 "nbformat": 4,
 "nbformat_minor": 2
}
