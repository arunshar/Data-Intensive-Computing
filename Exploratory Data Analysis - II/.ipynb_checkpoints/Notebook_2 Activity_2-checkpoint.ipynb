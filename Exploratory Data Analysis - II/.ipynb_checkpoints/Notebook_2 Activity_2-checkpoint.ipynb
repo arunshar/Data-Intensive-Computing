{
 "cells": [
  {
   "cell_type": "markdown",
   "metadata": {},
   "source": [
    "## Loading Libraries"
   ]
  },
  {
   "cell_type": "code",
   "execution_count": 96,
   "metadata": {},
   "outputs": [],
   "source": [
    "library(dplyr)\n",
    "my_db <- src_sqlite(\"database.sqlite\", create = T)"
   ]
  },
  {
   "cell_type": "markdown",
   "metadata": {},
   "source": [
    "## Converting Tables into Dataframes"
   ]
  },
  {
   "cell_type": "code",
   "execution_count": 97,
   "metadata": {
    "collapsed": true
   },
   "outputs": [],
   "source": [
    "player_attribute <- tbl(my_db,\"Player_Attributes\")\n",
    "player <- tbl(my_db,\"Player\")\n",
    "team_attribute <- tbl(my_db,\"Team_Attributes\")\n",
    "team <- tbl(my_db,\"Team\")\n",
    "match <- tbl(my_db,\"Match\")\n",
    "league <- tbl(my_db,\"League\")\n",
    "players_attribute <- data.frame(player_attribute)\n",
    "players <- data.frame(player)\n",
    "team_attribute <- data.frame(team_attribute)\n",
    "team <- data.frame(team)\n",
    "match <- data.frame(match)\n",
    "league <- data.frame(league)"
   ]
  },
  {
   "cell_type": "markdown",
   "metadata": {},
   "source": [
    "## Players"
   ]
  },
  {
   "cell_type": "markdown",
   "metadata": {},
   "source": [
    "### Get overall ratings of each player"
   ]
  },
  {
   "cell_type": "code",
   "execution_count": 98,
   "metadata": {},
   "outputs": [],
   "source": [
    "ratings <- players_attribute %>% group_by(player_api_id) %>% filter(overall_rating == max(overall_rating))\n",
    "top_distinct <- distinct(ratings, .keep_all = TRUE)\n",
    "distinct_players <- top_distinct[2:5]"
   ]
  },
  {
   "cell_type": "markdown",
   "metadata": {},
   "source": [
    "### Get the sum of gk attributes according to each player"
   ]
  },
  {
   "cell_type": "code",
   "execution_count": 99,
   "metadata": {
    "collapsed": true
   },
   "outputs": [],
   "source": [
    "gk_att <- select(player_attribute, player_api_id, player_fifa_api_id, gk_diving,gk_handling,gk_kicking,gk_positioning,gk_reflexes)\n",
    "gk_att <- data.frame(gk_att)\n",
    "gk <- transform(gk_att, gksum=rowSums(gk_att[,3:ncol(gk_att)]))\n",
    "gk <- gk %>% group_by(player_api_id) %>% filter(gksum == max(gksum))\n",
    "distinct_goalkeepers <- distinct(gk, .keep_all = TRUE)"
   ]
  },
  {
   "cell_type": "markdown",
   "metadata": {},
   "source": [
    "### Join for previous tables"
   ]
  },
  {
   "cell_type": "code",
   "execution_count": 100,
   "metadata": {},
   "outputs": [
    {
     "name": "stderr",
     "output_type": "stream",
     "text": [
      "Joining, by = c(\"player_fifa_api_id\", \"player_api_id\")\n"
     ]
    }
   ],
   "source": [
    "add <- full_join(distinct_players,distinct_goalkeepers)"
   ]
  },
  {
   "cell_type": "markdown",
   "metadata": {},
   "source": [
    "### Get the number of appearances according to each player"
   ]
  },
  {
   "cell_type": "code",
   "execution_count": 101,
   "metadata": {},
   "outputs": [
    {
     "name": "stderr",
     "output_type": "stream",
     "text": [
      "Joining, by = c(\"player_api_id\", \"count\")\n",
      "Joining, by = c(\"player_api_id\", \"count\")\n",
      "Joining, by = c(\"player_api_id\", \"count\")\n",
      "Joining, by = c(\"player_api_id\", \"count\")\n",
      "Joining, by = c(\"player_api_id\", \"count\")\n",
      "Joining, by = c(\"player_api_id\", \"count\")\n",
      "Joining, by = c(\"player_api_id\", \"count\")\n",
      "Joining, by = c(\"player_api_id\", \"count\")\n",
      "Joining, by = c(\"player_api_id\", \"count\")\n",
      "Joining, by = c(\"player_api_id\", \"count\")\n",
      "Joining, by = c(\"player_api_id\", \"count\")\n",
      "Joining, by = c(\"player_api_id\", \"count\")\n",
      "Joining, by = c(\"player_api_id\", \"count\")\n",
      "Joining, by = c(\"player_api_id\", \"count\")\n",
      "Joining, by = c(\"player_api_id\", \"count\")\n",
      "Joining, by = c(\"player_api_id\", \"count\")\n",
      "Joining, by = c(\"player_api_id\", \"count\")\n",
      "Joining, by = c(\"player_api_id\", \"count\")\n",
      "Joining, by = c(\"player_api_id\", \"count\")\n",
      "Joining, by = c(\"player_api_id\", \"count\")\n",
      "Joining, by = c(\"player_api_id\", \"count\")\n"
     ]
    }
   ],
   "source": [
    "home <- select(match,match_api_id,home_team_api_id,home_player_1,home_player_2,home_player_3,home_player_4,home_player_5,home_player_6,home_player_7,home_player_8,home_player_9,home_player_10,home_player_11)\n",
    "away <- select(match,match_api_id,away_team_api_id,away_player_1,away_player_2,away_player_3,away_player_4,away_player_5,away_player_6,away_player_7,away_player_8,away_player_9,away_player_10,away_player_11)\n",
    "hp1 <- count(home,home_player_1)\n",
    "hp2 <- count(home,home_player_2)\n",
    "hp3 <- count(home,home_player_3)\n",
    "hp4 <- count(home,home_player_4)\n",
    "hp5 <- count(home,home_player_5)\n",
    "hp6 <- count(home,home_player_6)\n",
    "hp7 <- count(home,home_player_7)\n",
    "hp8 <- count(home,home_player_8)\n",
    "hp9 <- count(home,home_player_9)\n",
    "hp10 <- count(home,home_player_10)\n",
    "hp11 <- count(home,home_player_11)\n",
    "colnames(hp1) <- c(\"player_api_id\",\"count\")\n",
    "colnames(hp2) <- c(\"player_api_id\",\"count\")\n",
    "colnames(hp3) <- c(\"player_api_id\",\"count\")\n",
    "colnames(hp4) <- c(\"player_api_id\",\"count\")\n",
    "colnames(hp5) <- c(\"player_api_id\",\"count\")\n",
    "colnames(hp6) <- c(\"player_api_id\",\"count\")\n",
    "colnames(hp7) <- c(\"player_api_id\",\"count\")\n",
    "colnames(hp8) <- c(\"player_api_id\",\"count\")\n",
    "colnames(hp9) <- c(\"player_api_id\",\"count\")\n",
    "colnames(hp10) <- c(\"player_api_id\",\"count\")\n",
    "colnames(hp11) <- c(\"player_api_id\",\"count\")\n",
    "j1 <- full_join(hp1,hp2)\n",
    "j2 <- full_join(j1,hp3)\n",
    "j3 <- full_join(j2,hp4)\n",
    "j4 <- full_join(j3,hp5)\n",
    "j5 <- full_join(j4,hp6)\n",
    "j6 <- full_join(j5,hp7)\n",
    "j7 <- full_join(j6,hp8)\n",
    "j8 <- full_join(j7,hp9)\n",
    "j9 <- full_join(j8,hp10)\n",
    "j10 <- full_join(j9,hp11)\n",
    "ap1 <- count(away,away_player_1)\n",
    "ap2 <- count(away,away_player_2)\n",
    "ap3 <- count(away,away_player_3)\n",
    "ap4 <- count(away,away_player_4)\n",
    "ap5 <- count(away,away_player_5)\n",
    "ap6 <- count(away,away_player_6)\n",
    "ap7 <- count(away,away_player_7)\n",
    "ap8 <- count(away,away_player_8)\n",
    "ap9 <- count(away,away_player_9)\n",
    "ap10 <- count(away,away_player_10)\n",
    "ap11 <- count(away,away_player_11)\n",
    "colnames(ap1) <- c(\"player_api_id\",\"count\")\n",
    "colnames(ap2) <- c(\"player_api_id\",\"count\")\n",
    "colnames(ap3) <- c(\"player_api_id\",\"count\")\n",
    "colnames(ap4) <- c(\"player_api_id\",\"count\")\n",
    "colnames(ap5) <- c(\"player_api_id\",\"count\")\n",
    "colnames(ap6) <- c(\"player_api_id\",\"count\")\n",
    "colnames(ap7) <- c(\"player_api_id\",\"count\")\n",
    "colnames(ap8) <- c(\"player_api_id\",\"count\")\n",
    "colnames(ap9) <- c(\"player_api_id\",\"count\")\n",
    "colnames(ap10) <- c(\"player_api_id\",\"count\")\n",
    "colnames(ap11) <- c(\"player_api_id\",\"count\")\n",
    "k1 <- full_join(ap1,ap2)\n",
    "k2 <- full_join(k1,ap3)\n",
    "k3 <- full_join(k2,ap4)\n",
    "k4 <- full_join(k3,ap5)\n",
    "k5 <- full_join(k4,ap6)\n",
    "k6 <- full_join(k5,ap7)\n",
    "k7 <- full_join(k6,ap8)\n",
    "k8 <- full_join(k7,ap9)\n",
    "k9 <- full_join(k8,ap10)\n",
    "k10 <- full_join(k9,ap11)\n",
    "appearance1 <- full_join(j10,k10)\n",
    "appearance1 <- na.omit(appearance1)\n",
    "data <- aggregate(count~player_api_id,data=appearance1,FUN=sum)"
   ]
  },
  {
   "cell_type": "markdown",
   "metadata": {},
   "source": [
    "### Cummulative join for previous tables"
   ]
  },
  {
   "cell_type": "code",
   "execution_count": 102,
   "metadata": {},
   "outputs": [
    {
     "name": "stderr",
     "output_type": "stream",
     "text": [
      "Joining, by = \"player_api_id\"\n"
     ]
    }
   ],
   "source": [
    "add1 <- full_join(add,data)"
   ]
  },
  {
   "cell_type": "markdown",
   "metadata": {},
   "source": [
    "### Get the number of leagues according to each player"
   ]
  },
  {
   "cell_type": "code",
   "execution_count": 103,
   "metadata": {},
   "outputs": [
    {
     "name": "stderr",
     "output_type": "stream",
     "text": [
      "Joining, by = c(\"player_api_id\", \"league\")\n",
      "Joining, by = c(\"player_api_id\", \"league\")\n",
      "Joining, by = c(\"player_api_id\", \"league\")\n",
      "Joining, by = c(\"player_api_id\", \"league\")\n",
      "Joining, by = c(\"player_api_id\", \"league\")\n",
      "Joining, by = c(\"player_api_id\", \"league\")\n",
      "Joining, by = c(\"player_api_id\", \"league\")\n",
      "Joining, by = c(\"player_api_id\", \"league\")\n",
      "Joining, by = c(\"player_api_id\", \"league\")\n",
      "Joining, by = c(\"player_api_id\", \"league\")\n",
      "Joining, by = c(\"player_api_id\", \"league\")\n",
      "Joining, by = c(\"player_api_id\", \"league\")\n",
      "Joining, by = c(\"player_api_id\", \"league\")\n",
      "Joining, by = c(\"player_api_id\", \"league\")\n",
      "Joining, by = c(\"player_api_id\", \"league\")\n",
      "Joining, by = c(\"player_api_id\", \"league\")\n",
      "Joining, by = c(\"player_api_id\", \"league\")\n",
      "Joining, by = c(\"player_api_id\", \"league\")\n",
      "Joining, by = c(\"player_api_id\", \"league\")\n",
      "Joining, by = c(\"player_api_id\", \"league\")\n"
     ]
    }
   ],
   "source": [
    "league1 <- select(match,league_id,home_player_1,home_player_2,home_player_3,home_player_4,home_player_5,home_player_6,home_player_7,home_player_8,home_player_9,home_player_10,home_player_11,away_player_1,away_player_2,away_player_3,away_player_4,away_player_5,away_player_6,away_player_7,away_player_8,away_player_9,away_player_10,away_player_11)\n",
    "league1 <- na.omit(league1)\n",
    "\n",
    "p1 <- league1 %>% group_by(home_player_1)\n",
    "p1 <- summarise(distinct(p1,league_id),count = n())\n",
    "\n",
    "p2 <- league1 %>% group_by(home_player_2)\n",
    "p2 <- summarise(distinct(p2,league_id),count = n())\n",
    "\n",
    "p3 <- league1 %>% group_by(home_player_3)\n",
    "p3 <- summarise(distinct(p3,league_id),count = n())\n",
    "\n",
    "p4 <- league1 %>% group_by(home_player_4)\n",
    "p4 <- summarise(distinct(p4,league_id),count = n())\n",
    "\n",
    "p5 <- league1 %>% group_by(home_player_5)\n",
    "p5 <- summarise(distinct(p5,league_id),count = n())\n",
    "\n",
    "p6 <- league1 %>% group_by(home_player_6)\n",
    "p6 <- summarise(distinct(p6,league_id),count = n())\n",
    "\n",
    "p7 <- league1 %>% group_by(home_player_7)\n",
    "p7 <- summarise(distinct(p7,league_id),count = n())\n",
    "\n",
    "p8 <- league1 %>% group_by(home_player_8)\n",
    "p8 <- summarise(distinct(p8,league_id),count = n())\n",
    "\n",
    "p9 <- league1 %>% group_by(home_player_9)\n",
    "p9 <- summarise(distinct(p9,league_id),count = n())\n",
    "\n",
    "p10 <- league1 %>% group_by(home_player_10)\n",
    "p10 <- summarise(distinct(p10,league_id),count = n())\n",
    "\n",
    "p11 <- league1 %>% group_by(home_player_11)\n",
    "p11 <- summarise(distinct(p11,league_id),count = n())\n",
    "\n",
    "p12 <- league1 %>% group_by(away_player_1)\n",
    "p12 <- summarise(distinct(p12,league_id),count = n())\n",
    "\n",
    "p13 <- league1 %>% group_by(away_player_2)\n",
    "p13 <- summarise(distinct(p13,league_id),count = n())\n",
    "\n",
    "p14 <- league1 %>% group_by(away_player_3)\n",
    "p14 <- summarise(distinct(p14,league_id),count = n())\n",
    "\n",
    "p15 <- league1 %>% group_by(away_player_4)\n",
    "p15 <- summarise(distinct(p15,league_id),count = n())\n",
    "\n",
    "p16 <- league1 %>% group_by(away_player_5)\n",
    "p16 <- summarise(distinct(p16,league_id),count = n())\n",
    "\n",
    "p17 <- league1 %>% group_by(away_player_6)\n",
    "p17 <- summarise(distinct(p17,league_id),count = n())\n",
    "\n",
    "p18 <- league1 %>% group_by(away_player_7)\n",
    "p18 <- summarise(distinct(p18,league_id),count = n())\n",
    "\n",
    "p19 <- league1 %>% group_by(away_player_8)\n",
    "p19 <- summarise(distinct(p19,league_id),count = n())\n",
    "\n",
    "p20 <- league1 %>% group_by(away_player_9)\n",
    "p20 <- summarise(distinct(p20,league_id),count = n())\n",
    "\n",
    "p21 <- league1 %>% group_by(away_player_10)\n",
    "p21 <- summarise(distinct(p21,league_id),count = n())\n",
    "\n",
    "p22 <- league1 %>% group_by(away_player_11)\n",
    "p22 <- summarise(distinct(p22,league_id),count = n())\n",
    "\n",
    "colnames(p1) <- c(\"player_api_id\",\"league\")\n",
    "colnames(p2) <- c(\"player_api_id\",\"league\")\n",
    "colnames(p3) <- c(\"player_api_id\",\"league\")\n",
    "colnames(p4) <- c(\"player_api_id\",\"league\")\n",
    "colnames(p5) <- c(\"player_api_id\",\"league\")\n",
    "colnames(p6) <- c(\"player_api_id\",\"league\")\n",
    "colnames(p7) <- c(\"player_api_id\",\"league\")\n",
    "colnames(p8) <- c(\"player_api_id\",\"league\")\n",
    "colnames(p9) <- c(\"player_api_id\",\"league\")\n",
    "colnames(p10) <- c(\"player_api_id\",\"league\")\n",
    "colnames(p11) <- c(\"player_api_id\",\"league\")\n",
    "colnames(p12) <- c(\"player_api_id\",\"league\")\n",
    "colnames(p13) <- c(\"player_api_id\",\"league\")\n",
    "colnames(p14) <- c(\"player_api_id\",\"league\")\n",
    "colnames(p15) <- c(\"player_api_id\",\"league\")\n",
    "colnames(p16) <- c(\"player_api_id\",\"league\")\n",
    "colnames(p17) <- c(\"player_api_id\",\"league\")\n",
    "colnames(p18) <- c(\"player_api_id\",\"league\")\n",
    "colnames(p19) <- c(\"player_api_id\",\"league\")\n",
    "colnames(p20) <- c(\"player_api_id\",\"league\")\n",
    "colnames(p21) <- c(\"player_api_id\",\"league\")\n",
    "colnames(p22) <- c(\"player_api_id\",\"league\")\n",
    "\n",
    "j1 <- full_join(p1,p2)\n",
    "j2 <- full_join(j1,p3)\n",
    "j3 <- full_join(j2,p4)\n",
    "j4 <- full_join(j3,p5)\n",
    "j5 <- full_join(j4,p6)\n",
    "j6 <- full_join(j5,p7)\n",
    "j7 <- full_join(j6,p8)\n",
    "j8 <- full_join(j7,p9)\n",
    "j9 <- full_join(j8,p10)\n",
    "j10 <- full_join(j9,p11)\n",
    "j11 <- full_join(j10,p12)\n",
    "j12 <- full_join(j11,p13)\n",
    "j13 <- full_join(j12,p14)\n",
    "j14 <- full_join(j13,p15)\n",
    "j15 <- full_join(j14,p16)\n",
    "j16 <- full_join(j15,p17)\n",
    "j17 <- full_join(j16,p18)\n",
    "j18 <- full_join(j17,p19)\n",
    "j19 <- full_join(j18,p20)\n",
    "j20 <- full_join(j19,p21)"
   ]
  },
  {
   "cell_type": "markdown",
   "metadata": {},
   "source": [
    "### Cummulative join for previous tables"
   ]
  },
  {
   "cell_type": "code",
   "execution_count": 104,
   "metadata": {},
   "outputs": [
    {
     "name": "stderr",
     "output_type": "stream",
     "text": [
      "Joining, by = \"player_api_id\"\n"
     ]
    },
    {
     "data": {
      "text/html": [
       "<table>\n",
       "<thead><tr><th scope=col>player_fifa_api_id</th><th scope=col>player_api_id</th><th scope=col>date</th><th scope=col>overall_rating</th><th scope=col>gk_diving</th><th scope=col>gk_handling</th><th scope=col>gk_kicking</th><th scope=col>gk_positioning</th><th scope=col>gk_reflexes</th><th scope=col>gksum</th><th scope=col>count</th><th scope=col>league</th></tr></thead>\n",
       "<tbody>\n",
       "\t<tr><td>218353             </td><td>505942             </td><td>2016-02-18 00:00:00</td><td>67                 </td><td> 6                 </td><td>11                 </td><td>10                 </td><td> 8                 </td><td> 8                 </td><td> 43                </td><td>  5                </td><td> 1                 </td></tr>\n",
       "\t<tr><td>189615             </td><td>155782             </td><td>2016-04-21 00:00:00</td><td>74                 </td><td> 6                 </td><td>22                 </td><td>49                 </td><td>22                 </td><td>22                 </td><td>121                </td><td> 75                </td><td> 1                 </td></tr>\n",
       "\t<tr><td>186170             </td><td>162549             </td><td>2013-09-20 00:00:00</td><td>71                 </td><td> 8                 </td><td>21                 </td><td>54                 </td><td>21                 </td><td>21                 </td><td>125                </td><td> 90                </td><td> 1                 </td></tr>\n",
       "\t<tr><td>140161             </td><td> 30572             </td><td>2009-02-22 00:00:00</td><td>75                 </td><td>14                 </td><td>11                 </td><td>65                 </td><td>11                 </td><td>10                 </td><td>111                </td><td>  7                </td><td> 1                 </td></tr>\n",
       "\t<tr><td> 17725             </td><td> 23780             </td><td>2010-02-22 00:00:00</td><td>78                 </td><td>12                 </td><td>20                 </td><td>57                 </td><td>20                 </td><td>20                 </td><td>129                </td><td>162                </td><td> 1                 </td></tr>\n",
       "\t<tr><td>158138             </td><td> 27316             </td><td>2014-02-28 00:00:00</td><td>79                 </td><td> 9                 </td><td>20                 </td><td>63                 </td><td>20                 </td><td>20                 </td><td>132                </td><td>155                </td><td> 1                 </td></tr>\n",
       "\t<tr><td>221280             </td><td>564793             </td><td>2016-04-21 00:00:00</td><td>61                 </td><td> 8                 </td><td>13                 </td><td>14                 </td><td>14                 </td><td>15                 </td><td> 64                </td><td>  4                </td><td> 1                 </td></tr>\n",
       "\t<tr><td>152747             </td><td> 30895             </td><td>2010-02-22 00:00:00</td><td>84                 </td><td>12                 </td><td>25                 </td><td>59                 </td><td>25                 </td><td>25                 </td><td>146                </td><td>179                </td><td> 1                 </td></tr>\n",
       "\t<tr><td>206592             </td><td>528212             </td><td>2016-02-25 00:00:00</td><td>48                 </td><td>53                 </td><td>41                 </td><td>39                 </td><td>51                 </td><td>53                 </td><td>237                </td><td>  1                </td><td> 1                 </td></tr>\n",
       "\t<tr><td>188621             </td><td>101042             </td><td>2015-12-03 00:00:00</td><td>69                 </td><td> 7                 </td><td>15                 </td><td> 7                 </td><td>10                 </td><td>15                 </td><td> 54                </td><td>157                </td><td> 1                 </td></tr>\n",
       "\t<tr><td> 47189             </td><td> 23889             </td><td>2007-08-30 00:00:00</td><td>75                 </td><td> 6                 </td><td>25                 </td><td>73                 </td><td>25                 </td><td>25                 </td><td>154                </td><td> 22                </td><td> 1                 </td></tr>\n",
       "\t<tr><td>194958             </td><td>231592             </td><td>2016-02-04 00:00:00</td><td>75                 </td><td>11                 </td><td> 8                 </td><td>12                 </td><td>11                 </td><td>12                 </td><td> 54                </td><td>  6                </td><td> 1                 </td></tr>\n",
       "\t<tr><td>213568             </td><td>163222             </td><td>2014-01-17 00:00:00</td><td>63                 </td><td> 8                 </td><td>11                 </td><td> 6                 </td><td> 6                 </td><td> 7                 </td><td> 38                </td><td> 16                </td><td> 1                 </td></tr>\n",
       "\t<tr><td>183853             </td><td> 40719             </td><td>2015-12-17 00:00:00</td><td>71                 </td><td>11                 </td><td>21                 </td><td>55                 </td><td>21                 </td><td>21                 </td><td>129                </td><td> 21                </td><td> 1                 </td></tr>\n",
       "\t<tr><td>183853             </td><td> 40719             </td><td>2015-12-17 00:00:00</td><td>71                 </td><td>11                 </td><td>21                 </td><td>55                 </td><td>21                 </td><td>21                 </td><td>129                </td><td> 21                </td><td> 2                 </td></tr>\n",
       "\t<tr><td>186561             </td><td> 75489             </td><td>2014-09-18 00:00:00</td><td>83                 </td><td> 8                 </td><td>21                 </td><td>79                 </td><td>21                 </td><td>21                 </td><td>150                </td><td>116                </td><td> 1                 </td></tr>\n",
       "\t<tr><td>226014             </td><td>597948             </td><td>2016-04-14 00:00:00</td><td>55                 </td><td>11                 </td><td>13                 </td><td> 8                 </td><td>14                 </td><td> 9                 </td><td> 55                </td><td>  2                </td><td> 1                 </td></tr>\n",
       "\t<tr><td>213569             </td><td>161644             </td><td>2015-12-03 00:00:00</td><td>65                 </td><td> 9                 </td><td>11                 </td><td>12                 </td><td> 8                 </td><td> 9                 </td><td> 49                </td><td> 35                </td><td> 1                 </td></tr>\n",
       "\t<tr><td>  2335             </td><td> 23499             </td><td>2015-09-21 00:00:00</td><td>67                 </td><td>33                 </td><td>30                 </td><td>39                 </td><td>31                 </td><td>30                 </td><td>163                </td><td>  1                </td><td> 1                 </td></tr>\n",
       "\t<tr><td>187939             </td><td>120919             </td><td>2015-11-19 00:00:00</td><td>77                 </td><td> 7                 </td><td>10                 </td><td> 8                 </td><td>15                 </td><td>10                 </td><td> 50                </td><td>  1                </td><td> 1                 </td></tr>\n",
       "\t<tr><td>156626             </td><td> 46447             </td><td>2007-08-30 00:00:00</td><td>68                 </td><td> 6                 </td><td>20                 </td><td>45                 </td><td>20                 </td><td>20                 </td><td>111                </td><td> 11                </td><td> 1                 </td></tr>\n",
       "\t<tr><td>192274             </td><td>167027             </td><td>2012-02-22 00:00:00</td><td>76                 </td><td>11                 </td><td> 7                 </td><td> 6                 </td><td>16                 </td><td> 7                 </td><td> 47                </td><td> 72                </td><td> 2                 </td></tr>\n",
       "\t<tr><td>192274             </td><td>167027             </td><td>2012-02-22 00:00:00</td><td>76                 </td><td>11                 </td><td> 7                 </td><td> 6                 </td><td>16                 </td><td> 7                 </td><td> 47                </td><td> 72                </td><td> 1                 </td></tr>\n",
       "\t<tr><td>202425             </td><td>245653             </td><td>2011-02-22 00:00:00</td><td>64                 </td><td>11                 </td><td> 5                 </td><td>15                 </td><td>10                 </td><td>10                 </td><td> 51                </td><td>  1                </td><td> 1                 </td></tr>\n",
       "\t<tr><td>188145             </td><td>128456             </td><td>2016-03-17 00:00:00</td><td>73                 </td><td> 5                 </td><td>22                 </td><td>47                 </td><td>22                 </td><td>22                 </td><td>118                </td><td>142                </td><td> 1                 </td></tr>\n",
       "\t<tr><td>188145             </td><td>128456             </td><td>2016-03-17 00:00:00</td><td>73                 </td><td> 5                 </td><td>22                 </td><td>47                 </td><td>22                 </td><td>22                 </td><td>118                </td><td>142                </td><td> 2                 </td></tr>\n",
       "\t<tr><td>178063             </td><td> 42664             </td><td>2011-08-30 00:00:00</td><td>73                 </td><td> 5                 </td><td>20                 </td><td>57                 </td><td>20                 </td><td>20                 </td><td>122                </td><td> 86                </td><td> 1                 </td></tr>\n",
       "\t<tr><td>178063             </td><td> 42664             </td><td>2011-08-30 00:00:00</td><td>73                 </td><td> 5                 </td><td>20                 </td><td>57                 </td><td>20                 </td><td>20                 </td><td>122                </td><td> 86                </td><td> 2                 </td></tr>\n",
       "\t<tr><td>212934             </td><td>425950             </td><td>2014-07-18 00:00:00</td><td>59                 </td><td> 7                 </td><td>14                 </td><td>14                 </td><td>13                 </td><td>14                 </td><td> 62                </td><td>  1                </td><td> 1                 </td></tr>\n",
       "\t<tr><td> 52782             </td><td> 38423             </td><td>2007-08-30 00:00:00</td><td>70                 </td><td> 7                 </td><td>20                 </td><td>62                 </td><td>20                 </td><td>20                 </td><td>129                </td><td> 23                </td><td>NA                 </td></tr>\n",
       "\t<tr><td>...</td><td>...</td><td>...</td><td>...</td><td>...</td><td>...</td><td>...</td><td>...</td><td>...</td><td>...</td><td>...</td><td>...</td></tr>\n",
       "\t<tr><td>NA    </td><td>110189</td><td>NA    </td><td>NA    </td><td>NA    </td><td>NA    </td><td>NA    </td><td>NA    </td><td>NA    </td><td>NA    </td><td> 62   </td><td> 1    </td></tr>\n",
       "\t<tr><td>NA    </td><td>110189</td><td>NA    </td><td>NA    </td><td>NA    </td><td>NA    </td><td>NA    </td><td>NA    </td><td>NA    </td><td>NA    </td><td> 62   </td><td> 2    </td></tr>\n",
       "\t<tr><td>NA    </td><td>112297</td><td>NA    </td><td>NA    </td><td>NA    </td><td>NA    </td><td>NA    </td><td>NA    </td><td>NA    </td><td>NA    </td><td> 34   </td><td> 1    </td></tr>\n",
       "\t<tr><td>NA    </td><td>113227</td><td>NA    </td><td>NA    </td><td>NA    </td><td>NA    </td><td>NA    </td><td>NA    </td><td>NA    </td><td>NA    </td><td>148   </td><td> 1    </td></tr>\n",
       "\t<tr><td>NA    </td><td>115171</td><td>NA    </td><td>NA    </td><td>NA    </td><td>NA    </td><td>NA    </td><td>NA    </td><td>NA    </td><td>NA    </td><td>  2   </td><td>NA    </td></tr>\n",
       "\t<tr><td>NA    </td><td>118441</td><td>NA    </td><td>NA    </td><td>NA    </td><td>NA    </td><td>NA    </td><td>NA    </td><td>NA    </td><td>NA    </td><td> 24   </td><td> 1    </td></tr>\n",
       "\t<tr><td>NA    </td><td>120845</td><td>NA    </td><td>NA    </td><td>NA    </td><td>NA    </td><td>NA    </td><td>NA    </td><td>NA    </td><td>NA    </td><td>  1   </td><td> 1    </td></tr>\n",
       "\t<tr><td>NA    </td><td>121953</td><td>NA    </td><td>NA    </td><td>NA    </td><td>NA    </td><td>NA    </td><td>NA    </td><td>NA    </td><td>NA    </td><td>  8   </td><td> 1    </td></tr>\n",
       "\t<tr><td>NA    </td><td>121960</td><td>NA    </td><td>NA    </td><td>NA    </td><td>NA    </td><td>NA    </td><td>NA    </td><td>NA    </td><td>NA    </td><td> 31   </td><td> 1    </td></tr>\n",
       "\t<tr><td>NA    </td><td>121960</td><td>NA    </td><td>NA    </td><td>NA    </td><td>NA    </td><td>NA    </td><td>NA    </td><td>NA    </td><td>NA    </td><td> 31   </td><td> 2    </td></tr>\n",
       "\t<tr><td>NA    </td><td>143403</td><td>NA    </td><td>NA    </td><td>NA    </td><td>NA    </td><td>NA    </td><td>NA    </td><td>NA    </td><td>NA    </td><td> 13   </td><td> 1    </td></tr>\n",
       "\t<tr><td>NA    </td><td>150396</td><td>NA    </td><td>NA    </td><td>NA    </td><td>NA    </td><td>NA    </td><td>NA    </td><td>NA    </td><td>NA    </td><td> 11   </td><td> 1    </td></tr>\n",
       "\t<tr><td>NA    </td><td>150491</td><td>NA    </td><td>NA    </td><td>NA    </td><td>NA    </td><td>NA    </td><td>NA    </td><td>NA    </td><td>NA    </td><td>  3   </td><td> 1    </td></tr>\n",
       "\t<tr><td>NA    </td><td>155384</td><td>NA    </td><td>NA    </td><td>NA    </td><td>NA    </td><td>NA    </td><td>NA    </td><td>NA    </td><td>NA    </td><td> 40   </td><td> 1    </td></tr>\n",
       "\t<tr><td>NA    </td><td>157249</td><td>NA    </td><td>NA    </td><td>NA    </td><td>NA    </td><td>NA    </td><td>NA    </td><td>NA    </td><td>NA    </td><td>  8   </td><td> 1    </td></tr>\n",
       "\t<tr><td>NA    </td><td>163838</td><td>NA    </td><td>NA    </td><td>NA    </td><td>NA    </td><td>NA    </td><td>NA    </td><td>NA    </td><td>NA    </td><td> 16   </td><td> 1    </td></tr>\n",
       "\t<tr><td>NA    </td><td>163843</td><td>NA    </td><td>NA    </td><td>NA    </td><td>NA    </td><td>NA    </td><td>NA    </td><td>NA    </td><td>NA    </td><td> 19   </td><td> 2    </td></tr>\n",
       "\t<tr><td>NA    </td><td>167254</td><td>NA    </td><td>NA    </td><td>NA    </td><td>NA    </td><td>NA    </td><td>NA    </td><td>NA    </td><td>NA    </td><td>  3   </td><td> 1    </td></tr>\n",
       "\t<tr><td>NA    </td><td>178196</td><td>NA    </td><td>NA    </td><td>NA    </td><td>NA    </td><td>NA    </td><td>NA    </td><td>NA    </td><td>NA    </td><td> 26   </td><td> 1    </td></tr>\n",
       "\t<tr><td>NA    </td><td>179523</td><td>NA    </td><td>NA    </td><td>NA    </td><td>NA    </td><td>NA    </td><td>NA    </td><td>NA    </td><td>NA    </td><td>  3   </td><td> 1    </td></tr>\n",
       "\t<tr><td>NA    </td><td>193866</td><td>NA    </td><td>NA    </td><td>NA    </td><td>NA    </td><td>NA    </td><td>NA    </td><td>NA    </td><td>NA    </td><td> 45   </td><td> 1    </td></tr>\n",
       "\t<tr><td>NA    </td><td>193866</td><td>NA    </td><td>NA    </td><td>NA    </td><td>NA    </td><td>NA    </td><td>NA    </td><td>NA    </td><td>NA    </td><td> 45   </td><td> 2    </td></tr>\n",
       "\t<tr><td>NA    </td><td>210844</td><td>NA    </td><td>NA    </td><td>NA    </td><td>NA    </td><td>NA    </td><td>NA    </td><td>NA    </td><td>NA    </td><td> 11   </td><td> 1    </td></tr>\n",
       "\t<tr><td>NA    </td><td>214123</td><td>NA    </td><td>NA    </td><td>NA    </td><td>NA    </td><td>NA    </td><td>NA    </td><td>NA    </td><td>NA    </td><td>  3   </td><td> 1    </td></tr>\n",
       "\t<tr><td>NA    </td><td>254975</td><td>NA    </td><td>NA    </td><td>NA    </td><td>NA    </td><td>NA    </td><td>NA    </td><td>NA    </td><td>NA    </td><td>  3   </td><td> 1    </td></tr>\n",
       "\t<tr><td>NA    </td><td>281679</td><td>NA    </td><td>NA    </td><td>NA    </td><td>NA    </td><td>NA    </td><td>NA    </td><td>NA    </td><td>NA    </td><td>  4   </td><td> 1    </td></tr>\n",
       "\t<tr><td>NA    </td><td>357288</td><td>NA    </td><td>NA    </td><td>NA    </td><td>NA    </td><td>NA    </td><td>NA    </td><td>NA    </td><td>NA    </td><td>  9   </td><td> 1    </td></tr>\n",
       "\t<tr><td>NA    </td><td>391516</td><td>NA    </td><td>NA    </td><td>NA    </td><td>NA    </td><td>NA    </td><td>NA    </td><td>NA    </td><td>NA    </td><td>  1   </td><td> 1    </td></tr>\n",
       "\t<tr><td>NA    </td><td>432040</td><td>NA    </td><td>NA    </td><td>NA    </td><td>NA    </td><td>NA    </td><td>NA    </td><td>NA    </td><td>NA    </td><td> 19   </td><td> 1    </td></tr>\n",
       "\t<tr><td>NA    </td><td>451941</td><td>NA    </td><td>NA    </td><td>NA    </td><td>NA    </td><td>NA    </td><td>NA    </td><td>NA    </td><td>NA    </td><td>  1   </td><td> 1    </td></tr>\n",
       "</tbody>\n",
       "</table>\n"
      ],
      "text/latex": [
       "\\begin{tabular}{r|llllllllllll}\n",
       " player\\_fifa\\_api\\_id & player\\_api\\_id & date & overall\\_rating & gk\\_diving & gk\\_handling & gk\\_kicking & gk\\_positioning & gk\\_reflexes & gksum & count & league\\\\\n",
       "\\hline\n",
       "\t 218353              & 505942              & 2016-02-18 00:00:00 & 67                  &  6                  & 11                  & 10                  &  8                  &  8                  &  43                 &   5                 &  1                 \\\\\n",
       "\t 189615              & 155782              & 2016-04-21 00:00:00 & 74                  &  6                  & 22                  & 49                  & 22                  & 22                  & 121                 &  75                 &  1                 \\\\\n",
       "\t 186170              & 162549              & 2013-09-20 00:00:00 & 71                  &  8                  & 21                  & 54                  & 21                  & 21                  & 125                 &  90                 &  1                 \\\\\n",
       "\t 140161              &  30572              & 2009-02-22 00:00:00 & 75                  & 14                  & 11                  & 65                  & 11                  & 10                  & 111                 &   7                 &  1                 \\\\\n",
       "\t  17725              &  23780              & 2010-02-22 00:00:00 & 78                  & 12                  & 20                  & 57                  & 20                  & 20                  & 129                 & 162                 &  1                 \\\\\n",
       "\t 158138              &  27316              & 2014-02-28 00:00:00 & 79                  &  9                  & 20                  & 63                  & 20                  & 20                  & 132                 & 155                 &  1                 \\\\\n",
       "\t 221280              & 564793              & 2016-04-21 00:00:00 & 61                  &  8                  & 13                  & 14                  & 14                  & 15                  &  64                 &   4                 &  1                 \\\\\n",
       "\t 152747              &  30895              & 2010-02-22 00:00:00 & 84                  & 12                  & 25                  & 59                  & 25                  & 25                  & 146                 & 179                 &  1                 \\\\\n",
       "\t 206592              & 528212              & 2016-02-25 00:00:00 & 48                  & 53                  & 41                  & 39                  & 51                  & 53                  & 237                 &   1                 &  1                 \\\\\n",
       "\t 188621              & 101042              & 2015-12-03 00:00:00 & 69                  &  7                  & 15                  &  7                  & 10                  & 15                  &  54                 & 157                 &  1                 \\\\\n",
       "\t  47189              &  23889              & 2007-08-30 00:00:00 & 75                  &  6                  & 25                  & 73                  & 25                  & 25                  & 154                 &  22                 &  1                 \\\\\n",
       "\t 194958              & 231592              & 2016-02-04 00:00:00 & 75                  & 11                  &  8                  & 12                  & 11                  & 12                  &  54                 &   6                 &  1                 \\\\\n",
       "\t 213568              & 163222              & 2014-01-17 00:00:00 & 63                  &  8                  & 11                  &  6                  &  6                  &  7                  &  38                 &  16                 &  1                 \\\\\n",
       "\t 183853              &  40719              & 2015-12-17 00:00:00 & 71                  & 11                  & 21                  & 55                  & 21                  & 21                  & 129                 &  21                 &  1                 \\\\\n",
       "\t 183853              &  40719              & 2015-12-17 00:00:00 & 71                  & 11                  & 21                  & 55                  & 21                  & 21                  & 129                 &  21                 &  2                 \\\\\n",
       "\t 186561              &  75489              & 2014-09-18 00:00:00 & 83                  &  8                  & 21                  & 79                  & 21                  & 21                  & 150                 & 116                 &  1                 \\\\\n",
       "\t 226014              & 597948              & 2016-04-14 00:00:00 & 55                  & 11                  & 13                  &  8                  & 14                  &  9                  &  55                 &   2                 &  1                 \\\\\n",
       "\t 213569              & 161644              & 2015-12-03 00:00:00 & 65                  &  9                  & 11                  & 12                  &  8                  &  9                  &  49                 &  35                 &  1                 \\\\\n",
       "\t   2335              &  23499              & 2015-09-21 00:00:00 & 67                  & 33                  & 30                  & 39                  & 31                  & 30                  & 163                 &   1                 &  1                 \\\\\n",
       "\t 187939              & 120919              & 2015-11-19 00:00:00 & 77                  &  7                  & 10                  &  8                  & 15                  & 10                  &  50                 &   1                 &  1                 \\\\\n",
       "\t 156626              &  46447              & 2007-08-30 00:00:00 & 68                  &  6                  & 20                  & 45                  & 20                  & 20                  & 111                 &  11                 &  1                 \\\\\n",
       "\t 192274              & 167027              & 2012-02-22 00:00:00 & 76                  & 11                  &  7                  &  6                  & 16                  &  7                  &  47                 &  72                 &  2                 \\\\\n",
       "\t 192274              & 167027              & 2012-02-22 00:00:00 & 76                  & 11                  &  7                  &  6                  & 16                  &  7                  &  47                 &  72                 &  1                 \\\\\n",
       "\t 202425              & 245653              & 2011-02-22 00:00:00 & 64                  & 11                  &  5                  & 15                  & 10                  & 10                  &  51                 &   1                 &  1                 \\\\\n",
       "\t 188145              & 128456              & 2016-03-17 00:00:00 & 73                  &  5                  & 22                  & 47                  & 22                  & 22                  & 118                 & 142                 &  1                 \\\\\n",
       "\t 188145              & 128456              & 2016-03-17 00:00:00 & 73                  &  5                  & 22                  & 47                  & 22                  & 22                  & 118                 & 142                 &  2                 \\\\\n",
       "\t 178063              &  42664              & 2011-08-30 00:00:00 & 73                  &  5                  & 20                  & 57                  & 20                  & 20                  & 122                 &  86                 &  1                 \\\\\n",
       "\t 178063              &  42664              & 2011-08-30 00:00:00 & 73                  &  5                  & 20                  & 57                  & 20                  & 20                  & 122                 &  86                 &  2                 \\\\\n",
       "\t 212934              & 425950              & 2014-07-18 00:00:00 & 59                  &  7                  & 14                  & 14                  & 13                  & 14                  &  62                 &   1                 &  1                 \\\\\n",
       "\t  52782              &  38423              & 2007-08-30 00:00:00 & 70                  &  7                  & 20                  & 62                  & 20                  & 20                  & 129                 &  23                 & NA                 \\\\\n",
       "\t ... & ... & ... & ... & ... & ... & ... & ... & ... & ... & ... & ...\\\\\n",
       "\t NA     & 110189 & NA     & NA     & NA     & NA     & NA     & NA     & NA     & NA     &  62    &  1    \\\\\n",
       "\t NA     & 110189 & NA     & NA     & NA     & NA     & NA     & NA     & NA     & NA     &  62    &  2    \\\\\n",
       "\t NA     & 112297 & NA     & NA     & NA     & NA     & NA     & NA     & NA     & NA     &  34    &  1    \\\\\n",
       "\t NA     & 113227 & NA     & NA     & NA     & NA     & NA     & NA     & NA     & NA     & 148    &  1    \\\\\n",
       "\t NA     & 115171 & NA     & NA     & NA     & NA     & NA     & NA     & NA     & NA     &   2    & NA    \\\\\n",
       "\t NA     & 118441 & NA     & NA     & NA     & NA     & NA     & NA     & NA     & NA     &  24    &  1    \\\\\n",
       "\t NA     & 120845 & NA     & NA     & NA     & NA     & NA     & NA     & NA     & NA     &   1    &  1    \\\\\n",
       "\t NA     & 121953 & NA     & NA     & NA     & NA     & NA     & NA     & NA     & NA     &   8    &  1    \\\\\n",
       "\t NA     & 121960 & NA     & NA     & NA     & NA     & NA     & NA     & NA     & NA     &  31    &  1    \\\\\n",
       "\t NA     & 121960 & NA     & NA     & NA     & NA     & NA     & NA     & NA     & NA     &  31    &  2    \\\\\n",
       "\t NA     & 143403 & NA     & NA     & NA     & NA     & NA     & NA     & NA     & NA     &  13    &  1    \\\\\n",
       "\t NA     & 150396 & NA     & NA     & NA     & NA     & NA     & NA     & NA     & NA     &  11    &  1    \\\\\n",
       "\t NA     & 150491 & NA     & NA     & NA     & NA     & NA     & NA     & NA     & NA     &   3    &  1    \\\\\n",
       "\t NA     & 155384 & NA     & NA     & NA     & NA     & NA     & NA     & NA     & NA     &  40    &  1    \\\\\n",
       "\t NA     & 157249 & NA     & NA     & NA     & NA     & NA     & NA     & NA     & NA     &   8    &  1    \\\\\n",
       "\t NA     & 163838 & NA     & NA     & NA     & NA     & NA     & NA     & NA     & NA     &  16    &  1    \\\\\n",
       "\t NA     & 163843 & NA     & NA     & NA     & NA     & NA     & NA     & NA     & NA     &  19    &  2    \\\\\n",
       "\t NA     & 167254 & NA     & NA     & NA     & NA     & NA     & NA     & NA     & NA     &   3    &  1    \\\\\n",
       "\t NA     & 178196 & NA     & NA     & NA     & NA     & NA     & NA     & NA     & NA     &  26    &  1    \\\\\n",
       "\t NA     & 179523 & NA     & NA     & NA     & NA     & NA     & NA     & NA     & NA     &   3    &  1    \\\\\n",
       "\t NA     & 193866 & NA     & NA     & NA     & NA     & NA     & NA     & NA     & NA     &  45    &  1    \\\\\n",
       "\t NA     & 193866 & NA     & NA     & NA     & NA     & NA     & NA     & NA     & NA     &  45    &  2    \\\\\n",
       "\t NA     & 210844 & NA     & NA     & NA     & NA     & NA     & NA     & NA     & NA     &  11    &  1    \\\\\n",
       "\t NA     & 214123 & NA     & NA     & NA     & NA     & NA     & NA     & NA     & NA     &   3    &  1    \\\\\n",
       "\t NA     & 254975 & NA     & NA     & NA     & NA     & NA     & NA     & NA     & NA     &   3    &  1    \\\\\n",
       "\t NA     & 281679 & NA     & NA     & NA     & NA     & NA     & NA     & NA     & NA     &   4    &  1    \\\\\n",
       "\t NA     & 357288 & NA     & NA     & NA     & NA     & NA     & NA     & NA     & NA     &   9    &  1    \\\\\n",
       "\t NA     & 391516 & NA     & NA     & NA     & NA     & NA     & NA     & NA     & NA     &   1    &  1    \\\\\n",
       "\t NA     & 432040 & NA     & NA     & NA     & NA     & NA     & NA     & NA     & NA     &  19    &  1    \\\\\n",
       "\t NA     & 451941 & NA     & NA     & NA     & NA     & NA     & NA     & NA     & NA     &   1    &  1    \\\\\n",
       "\\end{tabular}\n"
      ],
      "text/markdown": [
       "\n",
       "player_fifa_api_id | player_api_id | date | overall_rating | gk_diving | gk_handling | gk_kicking | gk_positioning | gk_reflexes | gksum | count | league | \n",
       "|---|---|---|---|---|---|---|---|---|---|---|---|---|---|---|---|---|---|---|---|---|---|---|---|---|---|---|---|---|---|---|---|---|---|---|---|---|---|---|---|---|---|---|---|---|---|---|---|---|---|---|---|---|---|---|---|---|---|---|---|---|\n",
       "| 218353              | 505942              | 2016-02-18 00:00:00 | 67                  |  6                  | 11                  | 10                  |  8                  |  8                  |  43                 |   5                 |  1                  | \n",
       "| 189615              | 155782              | 2016-04-21 00:00:00 | 74                  |  6                  | 22                  | 49                  | 22                  | 22                  | 121                 |  75                 |  1                  | \n",
       "| 186170              | 162549              | 2013-09-20 00:00:00 | 71                  |  8                  | 21                  | 54                  | 21                  | 21                  | 125                 |  90                 |  1                  | \n",
       "| 140161              |  30572              | 2009-02-22 00:00:00 | 75                  | 14                  | 11                  | 65                  | 11                  | 10                  | 111                 |   7                 |  1                  | \n",
       "|  17725              |  23780              | 2010-02-22 00:00:00 | 78                  | 12                  | 20                  | 57                  | 20                  | 20                  | 129                 | 162                 |  1                  | \n",
       "| 158138              |  27316              | 2014-02-28 00:00:00 | 79                  |  9                  | 20                  | 63                  | 20                  | 20                  | 132                 | 155                 |  1                  | \n",
       "| 221280              | 564793              | 2016-04-21 00:00:00 | 61                  |  8                  | 13                  | 14                  | 14                  | 15                  |  64                 |   4                 |  1                  | \n",
       "| 152747              |  30895              | 2010-02-22 00:00:00 | 84                  | 12                  | 25                  | 59                  | 25                  | 25                  | 146                 | 179                 |  1                  | \n",
       "| 206592              | 528212              | 2016-02-25 00:00:00 | 48                  | 53                  | 41                  | 39                  | 51                  | 53                  | 237                 |   1                 |  1                  | \n",
       "| 188621              | 101042              | 2015-12-03 00:00:00 | 69                  |  7                  | 15                  |  7                  | 10                  | 15                  |  54                 | 157                 |  1                  | \n",
       "|  47189              |  23889              | 2007-08-30 00:00:00 | 75                  |  6                  | 25                  | 73                  | 25                  | 25                  | 154                 |  22                 |  1                  | \n",
       "| 194958              | 231592              | 2016-02-04 00:00:00 | 75                  | 11                  |  8                  | 12                  | 11                  | 12                  |  54                 |   6                 |  1                  | \n",
       "| 213568              | 163222              | 2014-01-17 00:00:00 | 63                  |  8                  | 11                  |  6                  |  6                  |  7                  |  38                 |  16                 |  1                  | \n",
       "| 183853              |  40719              | 2015-12-17 00:00:00 | 71                  | 11                  | 21                  | 55                  | 21                  | 21                  | 129                 |  21                 |  1                  | \n",
       "| 183853              |  40719              | 2015-12-17 00:00:00 | 71                  | 11                  | 21                  | 55                  | 21                  | 21                  | 129                 |  21                 |  2                  | \n",
       "| 186561              |  75489              | 2014-09-18 00:00:00 | 83                  |  8                  | 21                  | 79                  | 21                  | 21                  | 150                 | 116                 |  1                  | \n",
       "| 226014              | 597948              | 2016-04-14 00:00:00 | 55                  | 11                  | 13                  |  8                  | 14                  |  9                  |  55                 |   2                 |  1                  | \n",
       "| 213569              | 161644              | 2015-12-03 00:00:00 | 65                  |  9                  | 11                  | 12                  |  8                  |  9                  |  49                 |  35                 |  1                  | \n",
       "|   2335              |  23499              | 2015-09-21 00:00:00 | 67                  | 33                  | 30                  | 39                  | 31                  | 30                  | 163                 |   1                 |  1                  | \n",
       "| 187939              | 120919              | 2015-11-19 00:00:00 | 77                  |  7                  | 10                  |  8                  | 15                  | 10                  |  50                 |   1                 |  1                  | \n",
       "| 156626              |  46447              | 2007-08-30 00:00:00 | 68                  |  6                  | 20                  | 45                  | 20                  | 20                  | 111                 |  11                 |  1                  | \n",
       "| 192274              | 167027              | 2012-02-22 00:00:00 | 76                  | 11                  |  7                  |  6                  | 16                  |  7                  |  47                 |  72                 |  2                  | \n",
       "| 192274              | 167027              | 2012-02-22 00:00:00 | 76                  | 11                  |  7                  |  6                  | 16                  |  7                  |  47                 |  72                 |  1                  | \n",
       "| 202425              | 245653              | 2011-02-22 00:00:00 | 64                  | 11                  |  5                  | 15                  | 10                  | 10                  |  51                 |   1                 |  1                  | \n",
       "| 188145              | 128456              | 2016-03-17 00:00:00 | 73                  |  5                  | 22                  | 47                  | 22                  | 22                  | 118                 | 142                 |  1                  | \n",
       "| 188145              | 128456              | 2016-03-17 00:00:00 | 73                  |  5                  | 22                  | 47                  | 22                  | 22                  | 118                 | 142                 |  2                  | \n",
       "| 178063              |  42664              | 2011-08-30 00:00:00 | 73                  |  5                  | 20                  | 57                  | 20                  | 20                  | 122                 |  86                 |  1                  | \n",
       "| 178063              |  42664              | 2011-08-30 00:00:00 | 73                  |  5                  | 20                  | 57                  | 20                  | 20                  | 122                 |  86                 |  2                  | \n",
       "| 212934              | 425950              | 2014-07-18 00:00:00 | 59                  |  7                  | 14                  | 14                  | 13                  | 14                  |  62                 |   1                 |  1                  | \n",
       "|  52782              |  38423              | 2007-08-30 00:00:00 | 70                  |  7                  | 20                  | 62                  | 20                  | 20                  | 129                 |  23                 | NA                  | \n",
       "| ... | ... | ... | ... | ... | ... | ... | ... | ... | ... | ... | ... | \n",
       "| NA     | 110189 | NA     | NA     | NA     | NA     | NA     | NA     | NA     | NA     |  62    |  1     | \n",
       "| NA     | 110189 | NA     | NA     | NA     | NA     | NA     | NA     | NA     | NA     |  62    |  2     | \n",
       "| NA     | 112297 | NA     | NA     | NA     | NA     | NA     | NA     | NA     | NA     |  34    |  1     | \n",
       "| NA     | 113227 | NA     | NA     | NA     | NA     | NA     | NA     | NA     | NA     | 148    |  1     | \n",
       "| NA     | 115171 | NA     | NA     | NA     | NA     | NA     | NA     | NA     | NA     |   2    | NA     | \n",
       "| NA     | 118441 | NA     | NA     | NA     | NA     | NA     | NA     | NA     | NA     |  24    |  1     | \n",
       "| NA     | 120845 | NA     | NA     | NA     | NA     | NA     | NA     | NA     | NA     |   1    |  1     | \n",
       "| NA     | 121953 | NA     | NA     | NA     | NA     | NA     | NA     | NA     | NA     |   8    |  1     | \n",
       "| NA     | 121960 | NA     | NA     | NA     | NA     | NA     | NA     | NA     | NA     |  31    |  1     | \n",
       "| NA     | 121960 | NA     | NA     | NA     | NA     | NA     | NA     | NA     | NA     |  31    |  2     | \n",
       "| NA     | 143403 | NA     | NA     | NA     | NA     | NA     | NA     | NA     | NA     |  13    |  1     | \n",
       "| NA     | 150396 | NA     | NA     | NA     | NA     | NA     | NA     | NA     | NA     |  11    |  1     | \n",
       "| NA     | 150491 | NA     | NA     | NA     | NA     | NA     | NA     | NA     | NA     |   3    |  1     | \n",
       "| NA     | 155384 | NA     | NA     | NA     | NA     | NA     | NA     | NA     | NA     |  40    |  1     | \n",
       "| NA     | 157249 | NA     | NA     | NA     | NA     | NA     | NA     | NA     | NA     |   8    |  1     | \n",
       "| NA     | 163838 | NA     | NA     | NA     | NA     | NA     | NA     | NA     | NA     |  16    |  1     | \n",
       "| NA     | 163843 | NA     | NA     | NA     | NA     | NA     | NA     | NA     | NA     |  19    |  2     | \n",
       "| NA     | 167254 | NA     | NA     | NA     | NA     | NA     | NA     | NA     | NA     |   3    |  1     | \n",
       "| NA     | 178196 | NA     | NA     | NA     | NA     | NA     | NA     | NA     | NA     |  26    |  1     | \n",
       "| NA     | 179523 | NA     | NA     | NA     | NA     | NA     | NA     | NA     | NA     |   3    |  1     | \n",
       "| NA     | 193866 | NA     | NA     | NA     | NA     | NA     | NA     | NA     | NA     |  45    |  1     | \n",
       "| NA     | 193866 | NA     | NA     | NA     | NA     | NA     | NA     | NA     | NA     |  45    |  2     | \n",
       "| NA     | 210844 | NA     | NA     | NA     | NA     | NA     | NA     | NA     | NA     |  11    |  1     | \n",
       "| NA     | 214123 | NA     | NA     | NA     | NA     | NA     | NA     | NA     | NA     |   3    |  1     | \n",
       "| NA     | 254975 | NA     | NA     | NA     | NA     | NA     | NA     | NA     | NA     |   3    |  1     | \n",
       "| NA     | 281679 | NA     | NA     | NA     | NA     | NA     | NA     | NA     | NA     |   4    |  1     | \n",
       "| NA     | 357288 | NA     | NA     | NA     | NA     | NA     | NA     | NA     | NA     |   9    |  1     | \n",
       "| NA     | 391516 | NA     | NA     | NA     | NA     | NA     | NA     | NA     | NA     |   1    |  1     | \n",
       "| NA     | 432040 | NA     | NA     | NA     | NA     | NA     | NA     | NA     | NA     |  19    |  1     | \n",
       "| NA     | 451941 | NA     | NA     | NA     | NA     | NA     | NA     | NA     | NA     |   1    |  1     | \n",
       "\n",
       "\n"
      ],
      "text/plain": [
       "      player_fifa_api_id player_api_id date                overall_rating\n",
       "1     218353             505942        2016-02-18 00:00:00 67            \n",
       "2     189615             155782        2016-04-21 00:00:00 74            \n",
       "3     186170             162549        2013-09-20 00:00:00 71            \n",
       "4     140161              30572        2009-02-22 00:00:00 75            \n",
       "5      17725              23780        2010-02-22 00:00:00 78            \n",
       "6     158138              27316        2014-02-28 00:00:00 79            \n",
       "7     221280             564793        2016-04-21 00:00:00 61            \n",
       "8     152747              30895        2010-02-22 00:00:00 84            \n",
       "9     206592             528212        2016-02-25 00:00:00 48            \n",
       "10    188621             101042        2015-12-03 00:00:00 69            \n",
       "11     47189              23889        2007-08-30 00:00:00 75            \n",
       "12    194958             231592        2016-02-04 00:00:00 75            \n",
       "13    213568             163222        2014-01-17 00:00:00 63            \n",
       "14    183853              40719        2015-12-17 00:00:00 71            \n",
       "15    183853              40719        2015-12-17 00:00:00 71            \n",
       "16    186561              75489        2014-09-18 00:00:00 83            \n",
       "17    226014             597948        2016-04-14 00:00:00 55            \n",
       "18    213569             161644        2015-12-03 00:00:00 65            \n",
       "19      2335              23499        2015-09-21 00:00:00 67            \n",
       "20    187939             120919        2015-11-19 00:00:00 77            \n",
       "21    156626              46447        2007-08-30 00:00:00 68            \n",
       "22    192274             167027        2012-02-22 00:00:00 76            \n",
       "23    192274             167027        2012-02-22 00:00:00 76            \n",
       "24    202425             245653        2011-02-22 00:00:00 64            \n",
       "25    188145             128456        2016-03-17 00:00:00 73            \n",
       "26    188145             128456        2016-03-17 00:00:00 73            \n",
       "27    178063              42664        2011-08-30 00:00:00 73            \n",
       "28    178063              42664        2011-08-30 00:00:00 73            \n",
       "29    212934             425950        2014-07-18 00:00:00 59            \n",
       "30     52782              38423        2007-08-30 00:00:00 70            \n",
       "...   ...                ...           ...                 ...           \n",
       "12728 NA                 110189        NA                  NA            \n",
       "12729 NA                 110189        NA                  NA            \n",
       "12730 NA                 112297        NA                  NA            \n",
       "12731 NA                 113227        NA                  NA            \n",
       "12732 NA                 115171        NA                  NA            \n",
       "12733 NA                 118441        NA                  NA            \n",
       "12734 NA                 120845        NA                  NA            \n",
       "12735 NA                 121953        NA                  NA            \n",
       "12736 NA                 121960        NA                  NA            \n",
       "12737 NA                 121960        NA                  NA            \n",
       "12738 NA                 143403        NA                  NA            \n",
       "12739 NA                 150396        NA                  NA            \n",
       "12740 NA                 150491        NA                  NA            \n",
       "12741 NA                 155384        NA                  NA            \n",
       "12742 NA                 157249        NA                  NA            \n",
       "12743 NA                 163838        NA                  NA            \n",
       "12744 NA                 163843        NA                  NA            \n",
       "12745 NA                 167254        NA                  NA            \n",
       "12746 NA                 178196        NA                  NA            \n",
       "12747 NA                 179523        NA                  NA            \n",
       "12748 NA                 193866        NA                  NA            \n",
       "12749 NA                 193866        NA                  NA            \n",
       "12750 NA                 210844        NA                  NA            \n",
       "12751 NA                 214123        NA                  NA            \n",
       "12752 NA                 254975        NA                  NA            \n",
       "12753 NA                 281679        NA                  NA            \n",
       "12754 NA                 357288        NA                  NA            \n",
       "12755 NA                 391516        NA                  NA            \n",
       "12756 NA                 432040        NA                  NA            \n",
       "12757 NA                 451941        NA                  NA            \n",
       "      gk_diving gk_handling gk_kicking gk_positioning gk_reflexes gksum count\n",
       "1      6        11          10          8              8           43     5  \n",
       "2      6        22          49         22             22          121    75  \n",
       "3      8        21          54         21             21          125    90  \n",
       "4     14        11          65         11             10          111     7  \n",
       "5     12        20          57         20             20          129   162  \n",
       "6      9        20          63         20             20          132   155  \n",
       "7      8        13          14         14             15           64     4  \n",
       "8     12        25          59         25             25          146   179  \n",
       "9     53        41          39         51             53          237     1  \n",
       "10     7        15           7         10             15           54   157  \n",
       "11     6        25          73         25             25          154    22  \n",
       "12    11         8          12         11             12           54     6  \n",
       "13     8        11           6          6              7           38    16  \n",
       "14    11        21          55         21             21          129    21  \n",
       "15    11        21          55         21             21          129    21  \n",
       "16     8        21          79         21             21          150   116  \n",
       "17    11        13           8         14              9           55     2  \n",
       "18     9        11          12          8              9           49    35  \n",
       "19    33        30          39         31             30          163     1  \n",
       "20     7        10           8         15             10           50     1  \n",
       "21     6        20          45         20             20          111    11  \n",
       "22    11         7           6         16              7           47    72  \n",
       "23    11         7           6         16              7           47    72  \n",
       "24    11         5          15         10             10           51     1  \n",
       "25     5        22          47         22             22          118   142  \n",
       "26     5        22          47         22             22          118   142  \n",
       "27     5        20          57         20             20          122    86  \n",
       "28     5        20          57         20             20          122    86  \n",
       "29     7        14          14         13             14           62     1  \n",
       "30     7        20          62         20             20          129    23  \n",
       "...   ...       ...         ...        ...            ...         ...   ...  \n",
       "12728 NA        NA          NA         NA             NA          NA     62  \n",
       "12729 NA        NA          NA         NA             NA          NA     62  \n",
       "12730 NA        NA          NA         NA             NA          NA     34  \n",
       "12731 NA        NA          NA         NA             NA          NA    148  \n",
       "12732 NA        NA          NA         NA             NA          NA      2  \n",
       "12733 NA        NA          NA         NA             NA          NA     24  \n",
       "12734 NA        NA          NA         NA             NA          NA      1  \n",
       "12735 NA        NA          NA         NA             NA          NA      8  \n",
       "12736 NA        NA          NA         NA             NA          NA     31  \n",
       "12737 NA        NA          NA         NA             NA          NA     31  \n",
       "12738 NA        NA          NA         NA             NA          NA     13  \n",
       "12739 NA        NA          NA         NA             NA          NA     11  \n",
       "12740 NA        NA          NA         NA             NA          NA      3  \n",
       "12741 NA        NA          NA         NA             NA          NA     40  \n",
       "12742 NA        NA          NA         NA             NA          NA      8  \n",
       "12743 NA        NA          NA         NA             NA          NA     16  \n",
       "12744 NA        NA          NA         NA             NA          NA     19  \n",
       "12745 NA        NA          NA         NA             NA          NA      3  \n",
       "12746 NA        NA          NA         NA             NA          NA     26  \n",
       "12747 NA        NA          NA         NA             NA          NA      3  \n",
       "12748 NA        NA          NA         NA             NA          NA     45  \n",
       "12749 NA        NA          NA         NA             NA          NA     45  \n",
       "12750 NA        NA          NA         NA             NA          NA     11  \n",
       "12751 NA        NA          NA         NA             NA          NA      3  \n",
       "12752 NA        NA          NA         NA             NA          NA      3  \n",
       "12753 NA        NA          NA         NA             NA          NA      4  \n",
       "12754 NA        NA          NA         NA             NA          NA      9  \n",
       "12755 NA        NA          NA         NA             NA          NA      1  \n",
       "12756 NA        NA          NA         NA             NA          NA     19  \n",
       "12757 NA        NA          NA         NA             NA          NA      1  \n",
       "      league\n",
       "1      1    \n",
       "2      1    \n",
       "3      1    \n",
       "4      1    \n",
       "5      1    \n",
       "6      1    \n",
       "7      1    \n",
       "8      1    \n",
       "9      1    \n",
       "10     1    \n",
       "11     1    \n",
       "12     1    \n",
       "13     1    \n",
       "14     1    \n",
       "15     2    \n",
       "16     1    \n",
       "17     1    \n",
       "18     1    \n",
       "19     1    \n",
       "20     1    \n",
       "21     1    \n",
       "22     2    \n",
       "23     1    \n",
       "24     1    \n",
       "25     1    \n",
       "26     2    \n",
       "27     1    \n",
       "28     2    \n",
       "29     1    \n",
       "30    NA    \n",
       "...   ...   \n",
       "12728  1    \n",
       "12729  2    \n",
       "12730  1    \n",
       "12731  1    \n",
       "12732 NA    \n",
       "12733  1    \n",
       "12734  1    \n",
       "12735  1    \n",
       "12736  1    \n",
       "12737  2    \n",
       "12738  1    \n",
       "12739  1    \n",
       "12740  1    \n",
       "12741  1    \n",
       "12742  1    \n",
       "12743  1    \n",
       "12744  2    \n",
       "12745  1    \n",
       "12746  1    \n",
       "12747  1    \n",
       "12748  1    \n",
       "12749  2    \n",
       "12750  1    \n",
       "12751  1    \n",
       "12752  1    \n",
       "12753  1    \n",
       "12754  1    \n",
       "12755  1    \n",
       "12756  1    \n",
       "12757  1    "
      ]
     },
     "metadata": {},
     "output_type": "display_data"
    }
   ],
   "source": [
    "add2 <- full_join(add1,j20)\n",
    "add2"
   ]
  },
  {
   "cell_type": "markdown",
   "metadata": {},
   "source": [
    "### Removing unncessary columns"
   ]
  },
  {
   "cell_type": "code",
   "execution_count": 105,
   "metadata": {
    "collapsed": true
   },
   "outputs": [],
   "source": [
    "add2 <- add2[,-1]"
   ]
  },
  {
   "cell_type": "markdown",
   "metadata": {},
   "source": [
    "### Removing unncessary columns"
   ]
  },
  {
   "cell_type": "code",
   "execution_count": 106,
   "metadata": {
    "collapsed": true
   },
   "outputs": [],
   "source": [
    "add2 <- add2[, -c(4:8)] "
   ]
  },
  {
   "cell_type": "markdown",
   "metadata": {},
   "source": [
    "### Removing unncessary columns"
   ]
  },
  {
   "cell_type": "code",
   "execution_count": 107,
   "metadata": {
    "collapsed": true
   },
   "outputs": [],
   "source": [
    "add2 <- add2[,-2]"
   ]
  },
  {
   "cell_type": "code",
   "execution_count": 108,
   "metadata": {},
   "outputs": [
    {
     "data": {
      "text/html": [
       "<table>\n",
       "<thead><tr><th scope=col>player_api_id</th><th scope=col>overall_rating</th><th scope=col>gksum</th><th scope=col>count</th><th scope=col>league</th></tr></thead>\n",
       "<tbody>\n",
       "\t<tr><td>505942</td><td>67    </td><td> 43   </td><td>  5   </td><td> 1    </td></tr>\n",
       "\t<tr><td>155782</td><td>74    </td><td>121   </td><td> 75   </td><td> 1    </td></tr>\n",
       "\t<tr><td>162549</td><td>71    </td><td>125   </td><td> 90   </td><td> 1    </td></tr>\n",
       "\t<tr><td> 30572</td><td>75    </td><td>111   </td><td>  7   </td><td> 1    </td></tr>\n",
       "\t<tr><td> 23780</td><td>78    </td><td>129   </td><td>162   </td><td> 1    </td></tr>\n",
       "\t<tr><td> 27316</td><td>79    </td><td>132   </td><td>155   </td><td> 1    </td></tr>\n",
       "\t<tr><td>564793</td><td>61    </td><td> 64   </td><td>  4   </td><td> 1    </td></tr>\n",
       "\t<tr><td> 30895</td><td>84    </td><td>146   </td><td>179   </td><td> 1    </td></tr>\n",
       "\t<tr><td>528212</td><td>48    </td><td>237   </td><td>  1   </td><td> 1    </td></tr>\n",
       "\t<tr><td>101042</td><td>69    </td><td> 54   </td><td>157   </td><td> 1    </td></tr>\n",
       "\t<tr><td> 23889</td><td>75    </td><td>154   </td><td> 22   </td><td> 1    </td></tr>\n",
       "\t<tr><td>231592</td><td>75    </td><td> 54   </td><td>  6   </td><td> 1    </td></tr>\n",
       "\t<tr><td>163222</td><td>63    </td><td> 38   </td><td> 16   </td><td> 1    </td></tr>\n",
       "\t<tr><td> 40719</td><td>71    </td><td>129   </td><td> 21   </td><td> 1    </td></tr>\n",
       "\t<tr><td> 40719</td><td>71    </td><td>129   </td><td> 21   </td><td> 2    </td></tr>\n",
       "\t<tr><td> 75489</td><td>83    </td><td>150   </td><td>116   </td><td> 1    </td></tr>\n",
       "\t<tr><td>597948</td><td>55    </td><td> 55   </td><td>  2   </td><td> 1    </td></tr>\n",
       "\t<tr><td>161644</td><td>65    </td><td> 49   </td><td> 35   </td><td> 1    </td></tr>\n",
       "\t<tr><td> 23499</td><td>67    </td><td>163   </td><td>  1   </td><td> 1    </td></tr>\n",
       "\t<tr><td>120919</td><td>77    </td><td> 50   </td><td>  1   </td><td> 1    </td></tr>\n",
       "\t<tr><td> 46447</td><td>68    </td><td>111   </td><td> 11   </td><td> 1    </td></tr>\n",
       "\t<tr><td>167027</td><td>76    </td><td> 47   </td><td> 72   </td><td> 2    </td></tr>\n",
       "\t<tr><td>167027</td><td>76    </td><td> 47   </td><td> 72   </td><td> 1    </td></tr>\n",
       "\t<tr><td>245653</td><td>64    </td><td> 51   </td><td>  1   </td><td> 1    </td></tr>\n",
       "\t<tr><td>128456</td><td>73    </td><td>118   </td><td>142   </td><td> 1    </td></tr>\n",
       "\t<tr><td>128456</td><td>73    </td><td>118   </td><td>142   </td><td> 2    </td></tr>\n",
       "\t<tr><td> 42664</td><td>73    </td><td>122   </td><td> 86   </td><td> 1    </td></tr>\n",
       "\t<tr><td> 42664</td><td>73    </td><td>122   </td><td> 86   </td><td> 2    </td></tr>\n",
       "\t<tr><td>425950</td><td>59    </td><td> 62   </td><td>  1   </td><td> 1    </td></tr>\n",
       "\t<tr><td> 38423</td><td>70    </td><td>129   </td><td> 23   </td><td>NA    </td></tr>\n",
       "\t<tr><td>...</td><td>...</td><td>...</td><td>...</td><td>...</td></tr>\n",
       "\t<tr><td>110189</td><td>NA    </td><td>NA    </td><td> 62   </td><td> 1    </td></tr>\n",
       "\t<tr><td>110189</td><td>NA    </td><td>NA    </td><td> 62   </td><td> 2    </td></tr>\n",
       "\t<tr><td>112297</td><td>NA    </td><td>NA    </td><td> 34   </td><td> 1    </td></tr>\n",
       "\t<tr><td>113227</td><td>NA    </td><td>NA    </td><td>148   </td><td> 1    </td></tr>\n",
       "\t<tr><td>115171</td><td>NA    </td><td>NA    </td><td>  2   </td><td>NA    </td></tr>\n",
       "\t<tr><td>118441</td><td>NA    </td><td>NA    </td><td> 24   </td><td> 1    </td></tr>\n",
       "\t<tr><td>120845</td><td>NA    </td><td>NA    </td><td>  1   </td><td> 1    </td></tr>\n",
       "\t<tr><td>121953</td><td>NA    </td><td>NA    </td><td>  8   </td><td> 1    </td></tr>\n",
       "\t<tr><td>121960</td><td>NA    </td><td>NA    </td><td> 31   </td><td> 1    </td></tr>\n",
       "\t<tr><td>121960</td><td>NA    </td><td>NA    </td><td> 31   </td><td> 2    </td></tr>\n",
       "\t<tr><td>143403</td><td>NA    </td><td>NA    </td><td> 13   </td><td> 1    </td></tr>\n",
       "\t<tr><td>150396</td><td>NA    </td><td>NA    </td><td> 11   </td><td> 1    </td></tr>\n",
       "\t<tr><td>150491</td><td>NA    </td><td>NA    </td><td>  3   </td><td> 1    </td></tr>\n",
       "\t<tr><td>155384</td><td>NA    </td><td>NA    </td><td> 40   </td><td> 1    </td></tr>\n",
       "\t<tr><td>157249</td><td>NA    </td><td>NA    </td><td>  8   </td><td> 1    </td></tr>\n",
       "\t<tr><td>163838</td><td>NA    </td><td>NA    </td><td> 16   </td><td> 1    </td></tr>\n",
       "\t<tr><td>163843</td><td>NA    </td><td>NA    </td><td> 19   </td><td> 2    </td></tr>\n",
       "\t<tr><td>167254</td><td>NA    </td><td>NA    </td><td>  3   </td><td> 1    </td></tr>\n",
       "\t<tr><td>178196</td><td>NA    </td><td>NA    </td><td> 26   </td><td> 1    </td></tr>\n",
       "\t<tr><td>179523</td><td>NA    </td><td>NA    </td><td>  3   </td><td> 1    </td></tr>\n",
       "\t<tr><td>193866</td><td>NA    </td><td>NA    </td><td> 45   </td><td> 1    </td></tr>\n",
       "\t<tr><td>193866</td><td>NA    </td><td>NA    </td><td> 45   </td><td> 2    </td></tr>\n",
       "\t<tr><td>210844</td><td>NA    </td><td>NA    </td><td> 11   </td><td> 1    </td></tr>\n",
       "\t<tr><td>214123</td><td>NA    </td><td>NA    </td><td>  3   </td><td> 1    </td></tr>\n",
       "\t<tr><td>254975</td><td>NA    </td><td>NA    </td><td>  3   </td><td> 1    </td></tr>\n",
       "\t<tr><td>281679</td><td>NA    </td><td>NA    </td><td>  4   </td><td> 1    </td></tr>\n",
       "\t<tr><td>357288</td><td>NA    </td><td>NA    </td><td>  9   </td><td> 1    </td></tr>\n",
       "\t<tr><td>391516</td><td>NA    </td><td>NA    </td><td>  1   </td><td> 1    </td></tr>\n",
       "\t<tr><td>432040</td><td>NA    </td><td>NA    </td><td> 19   </td><td> 1    </td></tr>\n",
       "\t<tr><td>451941</td><td>NA    </td><td>NA    </td><td>  1   </td><td> 1    </td></tr>\n",
       "</tbody>\n",
       "</table>\n"
      ],
      "text/latex": [
       "\\begin{tabular}{r|lllll}\n",
       " player\\_api\\_id & overall\\_rating & gksum & count & league\\\\\n",
       "\\hline\n",
       "\t 505942 & 67     &  43    &   5    &  1    \\\\\n",
       "\t 155782 & 74     & 121    &  75    &  1    \\\\\n",
       "\t 162549 & 71     & 125    &  90    &  1    \\\\\n",
       "\t  30572 & 75     & 111    &   7    &  1    \\\\\n",
       "\t  23780 & 78     & 129    & 162    &  1    \\\\\n",
       "\t  27316 & 79     & 132    & 155    &  1    \\\\\n",
       "\t 564793 & 61     &  64    &   4    &  1    \\\\\n",
       "\t  30895 & 84     & 146    & 179    &  1    \\\\\n",
       "\t 528212 & 48     & 237    &   1    &  1    \\\\\n",
       "\t 101042 & 69     &  54    & 157    &  1    \\\\\n",
       "\t  23889 & 75     & 154    &  22    &  1    \\\\\n",
       "\t 231592 & 75     &  54    &   6    &  1    \\\\\n",
       "\t 163222 & 63     &  38    &  16    &  1    \\\\\n",
       "\t  40719 & 71     & 129    &  21    &  1    \\\\\n",
       "\t  40719 & 71     & 129    &  21    &  2    \\\\\n",
       "\t  75489 & 83     & 150    & 116    &  1    \\\\\n",
       "\t 597948 & 55     &  55    &   2    &  1    \\\\\n",
       "\t 161644 & 65     &  49    &  35    &  1    \\\\\n",
       "\t  23499 & 67     & 163    &   1    &  1    \\\\\n",
       "\t 120919 & 77     &  50    &   1    &  1    \\\\\n",
       "\t  46447 & 68     & 111    &  11    &  1    \\\\\n",
       "\t 167027 & 76     &  47    &  72    &  2    \\\\\n",
       "\t 167027 & 76     &  47    &  72    &  1    \\\\\n",
       "\t 245653 & 64     &  51    &   1    &  1    \\\\\n",
       "\t 128456 & 73     & 118    & 142    &  1    \\\\\n",
       "\t 128456 & 73     & 118    & 142    &  2    \\\\\n",
       "\t  42664 & 73     & 122    &  86    &  1    \\\\\n",
       "\t  42664 & 73     & 122    &  86    &  2    \\\\\n",
       "\t 425950 & 59     &  62    &   1    &  1    \\\\\n",
       "\t  38423 & 70     & 129    &  23    & NA    \\\\\n",
       "\t ... & ... & ... & ... & ...\\\\\n",
       "\t 110189 & NA     & NA     &  62    &  1    \\\\\n",
       "\t 110189 & NA     & NA     &  62    &  2    \\\\\n",
       "\t 112297 & NA     & NA     &  34    &  1    \\\\\n",
       "\t 113227 & NA     & NA     & 148    &  1    \\\\\n",
       "\t 115171 & NA     & NA     &   2    & NA    \\\\\n",
       "\t 118441 & NA     & NA     &  24    &  1    \\\\\n",
       "\t 120845 & NA     & NA     &   1    &  1    \\\\\n",
       "\t 121953 & NA     & NA     &   8    &  1    \\\\\n",
       "\t 121960 & NA     & NA     &  31    &  1    \\\\\n",
       "\t 121960 & NA     & NA     &  31    &  2    \\\\\n",
       "\t 143403 & NA     & NA     &  13    &  1    \\\\\n",
       "\t 150396 & NA     & NA     &  11    &  1    \\\\\n",
       "\t 150491 & NA     & NA     &   3    &  1    \\\\\n",
       "\t 155384 & NA     & NA     &  40    &  1    \\\\\n",
       "\t 157249 & NA     & NA     &   8    &  1    \\\\\n",
       "\t 163838 & NA     & NA     &  16    &  1    \\\\\n",
       "\t 163843 & NA     & NA     &  19    &  2    \\\\\n",
       "\t 167254 & NA     & NA     &   3    &  1    \\\\\n",
       "\t 178196 & NA     & NA     &  26    &  1    \\\\\n",
       "\t 179523 & NA     & NA     &   3    &  1    \\\\\n",
       "\t 193866 & NA     & NA     &  45    &  1    \\\\\n",
       "\t 193866 & NA     & NA     &  45    &  2    \\\\\n",
       "\t 210844 & NA     & NA     &  11    &  1    \\\\\n",
       "\t 214123 & NA     & NA     &   3    &  1    \\\\\n",
       "\t 254975 & NA     & NA     &   3    &  1    \\\\\n",
       "\t 281679 & NA     & NA     &   4    &  1    \\\\\n",
       "\t 357288 & NA     & NA     &   9    &  1    \\\\\n",
       "\t 391516 & NA     & NA     &   1    &  1    \\\\\n",
       "\t 432040 & NA     & NA     &  19    &  1    \\\\\n",
       "\t 451941 & NA     & NA     &   1    &  1    \\\\\n",
       "\\end{tabular}\n"
      ],
      "text/markdown": [
       "\n",
       "player_api_id | overall_rating | gksum | count | league | \n",
       "|---|---|---|---|---|---|---|---|---|---|---|---|---|---|---|---|---|---|---|---|---|---|---|---|---|---|---|---|---|---|---|---|---|---|---|---|---|---|---|---|---|---|---|---|---|---|---|---|---|---|---|---|---|---|---|---|---|---|---|---|---|\n",
       "| 505942 | 67     |  43    |   5    |  1     | \n",
       "| 155782 | 74     | 121    |  75    |  1     | \n",
       "| 162549 | 71     | 125    |  90    |  1     | \n",
       "|  30572 | 75     | 111    |   7    |  1     | \n",
       "|  23780 | 78     | 129    | 162    |  1     | \n",
       "|  27316 | 79     | 132    | 155    |  1     | \n",
       "| 564793 | 61     |  64    |   4    |  1     | \n",
       "|  30895 | 84     | 146    | 179    |  1     | \n",
       "| 528212 | 48     | 237    |   1    |  1     | \n",
       "| 101042 | 69     |  54    | 157    |  1     | \n",
       "|  23889 | 75     | 154    |  22    |  1     | \n",
       "| 231592 | 75     |  54    |   6    |  1     | \n",
       "| 163222 | 63     |  38    |  16    |  1     | \n",
       "|  40719 | 71     | 129    |  21    |  1     | \n",
       "|  40719 | 71     | 129    |  21    |  2     | \n",
       "|  75489 | 83     | 150    | 116    |  1     | \n",
       "| 597948 | 55     |  55    |   2    |  1     | \n",
       "| 161644 | 65     |  49    |  35    |  1     | \n",
       "|  23499 | 67     | 163    |   1    |  1     | \n",
       "| 120919 | 77     |  50    |   1    |  1     | \n",
       "|  46447 | 68     | 111    |  11    |  1     | \n",
       "| 167027 | 76     |  47    |  72    |  2     | \n",
       "| 167027 | 76     |  47    |  72    |  1     | \n",
       "| 245653 | 64     |  51    |   1    |  1     | \n",
       "| 128456 | 73     | 118    | 142    |  1     | \n",
       "| 128456 | 73     | 118    | 142    |  2     | \n",
       "|  42664 | 73     | 122    |  86    |  1     | \n",
       "|  42664 | 73     | 122    |  86    |  2     | \n",
       "| 425950 | 59     |  62    |   1    |  1     | \n",
       "|  38423 | 70     | 129    |  23    | NA     | \n",
       "| ... | ... | ... | ... | ... | \n",
       "| 110189 | NA     | NA     |  62    |  1     | \n",
       "| 110189 | NA     | NA     |  62    |  2     | \n",
       "| 112297 | NA     | NA     |  34    |  1     | \n",
       "| 113227 | NA     | NA     | 148    |  1     | \n",
       "| 115171 | NA     | NA     |   2    | NA     | \n",
       "| 118441 | NA     | NA     |  24    |  1     | \n",
       "| 120845 | NA     | NA     |   1    |  1     | \n",
       "| 121953 | NA     | NA     |   8    |  1     | \n",
       "| 121960 | NA     | NA     |  31    |  1     | \n",
       "| 121960 | NA     | NA     |  31    |  2     | \n",
       "| 143403 | NA     | NA     |  13    |  1     | \n",
       "| 150396 | NA     | NA     |  11    |  1     | \n",
       "| 150491 | NA     | NA     |   3    |  1     | \n",
       "| 155384 | NA     | NA     |  40    |  1     | \n",
       "| 157249 | NA     | NA     |   8    |  1     | \n",
       "| 163838 | NA     | NA     |  16    |  1     | \n",
       "| 163843 | NA     | NA     |  19    |  2     | \n",
       "| 167254 | NA     | NA     |   3    |  1     | \n",
       "| 178196 | NA     | NA     |  26    |  1     | \n",
       "| 179523 | NA     | NA     |   3    |  1     | \n",
       "| 193866 | NA     | NA     |  45    |  1     | \n",
       "| 193866 | NA     | NA     |  45    |  2     | \n",
       "| 210844 | NA     | NA     |  11    |  1     | \n",
       "| 214123 | NA     | NA     |   3    |  1     | \n",
       "| 254975 | NA     | NA     |   3    |  1     | \n",
       "| 281679 | NA     | NA     |   4    |  1     | \n",
       "| 357288 | NA     | NA     |   9    |  1     | \n",
       "| 391516 | NA     | NA     |   1    |  1     | \n",
       "| 432040 | NA     | NA     |  19    |  1     | \n",
       "| 451941 | NA     | NA     |   1    |  1     | \n",
       "\n",
       "\n"
      ],
      "text/plain": [
       "      player_api_id overall_rating gksum count league\n",
       "1     505942        67              43     5    1    \n",
       "2     155782        74             121    75    1    \n",
       "3     162549        71             125    90    1    \n",
       "4      30572        75             111     7    1    \n",
       "5      23780        78             129   162    1    \n",
       "6      27316        79             132   155    1    \n",
       "7     564793        61              64     4    1    \n",
       "8      30895        84             146   179    1    \n",
       "9     528212        48             237     1    1    \n",
       "10    101042        69              54   157    1    \n",
       "11     23889        75             154    22    1    \n",
       "12    231592        75              54     6    1    \n",
       "13    163222        63              38    16    1    \n",
       "14     40719        71             129    21    1    \n",
       "15     40719        71             129    21    2    \n",
       "16     75489        83             150   116    1    \n",
       "17    597948        55              55     2    1    \n",
       "18    161644        65              49    35    1    \n",
       "19     23499        67             163     1    1    \n",
       "20    120919        77              50     1    1    \n",
       "21     46447        68             111    11    1    \n",
       "22    167027        76              47    72    2    \n",
       "23    167027        76              47    72    1    \n",
       "24    245653        64              51     1    1    \n",
       "25    128456        73             118   142    1    \n",
       "26    128456        73             118   142    2    \n",
       "27     42664        73             122    86    1    \n",
       "28     42664        73             122    86    2    \n",
       "29    425950        59              62     1    1    \n",
       "30     38423        70             129    23   NA    \n",
       "...   ...           ...            ...   ...   ...   \n",
       "12728 110189        NA             NA     62    1    \n",
       "12729 110189        NA             NA     62    2    \n",
       "12730 112297        NA             NA     34    1    \n",
       "12731 113227        NA             NA    148    1    \n",
       "12732 115171        NA             NA      2   NA    \n",
       "12733 118441        NA             NA     24    1    \n",
       "12734 120845        NA             NA      1    1    \n",
       "12735 121953        NA             NA      8    1    \n",
       "12736 121960        NA             NA     31    1    \n",
       "12737 121960        NA             NA     31    2    \n",
       "12738 143403        NA             NA     13    1    \n",
       "12739 150396        NA             NA     11    1    \n",
       "12740 150491        NA             NA      3    1    \n",
       "12741 155384        NA             NA     40    1    \n",
       "12742 157249        NA             NA      8    1    \n",
       "12743 163838        NA             NA     16    1    \n",
       "12744 163843        NA             NA     19    2    \n",
       "12745 167254        NA             NA      3    1    \n",
       "12746 178196        NA             NA     26    1    \n",
       "12747 179523        NA             NA      3    1    \n",
       "12748 193866        NA             NA     45    1    \n",
       "12749 193866        NA             NA     45    2    \n",
       "12750 210844        NA             NA     11    1    \n",
       "12751 214123        NA             NA      3    1    \n",
       "12752 254975        NA             NA      3    1    \n",
       "12753 281679        NA             NA      4    1    \n",
       "12754 357288        NA             NA      9    1    \n",
       "12755 391516        NA             NA      1    1    \n",
       "12756 432040        NA             NA     19    1    \n",
       "12757 451941        NA             NA      1    1    "
      ]
     },
     "metadata": {},
     "output_type": "display_data"
    }
   ],
   "source": [
    "add2"
   ]
  },
  {
   "cell_type": "markdown",
   "metadata": {},
   "source": [
    "### Renaming columns"
   ]
  },
  {
   "cell_type": "code",
   "execution_count": 109,
   "metadata": {
    "collapsed": true
   },
   "outputs": [],
   "source": [
    "colnames(add2) <- c(\"player_api_id\", \"overall_rating\", \"gk_rating\", \"num_of_appearances\", \"num_of_leagues\")"
   ]
  },
  {
   "cell_type": "markdown",
   "metadata": {},
   "source": [
    "### Cummulative join for previous tables"
   ]
  },
  {
   "cell_type": "code",
   "execution_count": 110,
   "metadata": {},
   "outputs": [
    {
     "name": "stderr",
     "output_type": "stream",
     "text": [
      "Joining, by = \"player_api_id\"\n"
     ]
    }
   ],
   "source": [
    "final_players <- full_join(players[2:3],add2)"
   ]
  },
  {
   "cell_type": "markdown",
   "metadata": {},
   "source": [
    "### Writing file in csv"
   ]
  },
  {
   "cell_type": "code",
   "execution_count": 111,
   "metadata": {
    "collapsed": true
   },
   "outputs": [],
   "source": [
    "write.csv(final_players, \"player.csv\")"
   ]
  },
  {
   "cell_type": "markdown",
   "metadata": {},
   "source": [
    "## Teams"
   ]
  },
  {
   "cell_type": "markdown",
   "metadata": {},
   "source": [
    "### Get the number of build_up according to each team"
   ]
  },
  {
   "cell_type": "code",
   "execution_count": 112,
   "metadata": {
    "collapsed": true
   },
   "outputs": [],
   "source": [
    "build_up_play <- select(team_attribute,team_api_id,team_fifa_api_id,buildUpPlaySpeed,buildUpPlayDribbling,buildUpPlayPassing)\n",
    "buildsum <- transform(build_up_play, build_sum=rowSums(build_up_play[,3:ncol(build_up_play)]))\n",
    "buildsum <- buildsum %>% group_by(team_api_id) %>% filter(build_sum == max(build_sum))\n",
    "distinct_build <- distinct(buildsum, .keep_all = TRUE)"
   ]
  },
  {
   "cell_type": "markdown",
   "metadata": {},
   "source": [
    "### Get the number of chance_creation according to each team"
   ]
  },
  {
   "cell_type": "code",
   "execution_count": 113,
   "metadata": {
    "collapsed": true
   },
   "outputs": [],
   "source": [
    "chance_creation <- select(team_attribute,team_api_id,team_fifa_api_id,chanceCreationPassing,chanceCreationCrossing,chanceCreationShooting)\n",
    "chancesum <- transform(chance_creation, chance_sum=rowSums(chance_creation[,3:ncol(chance_creation)]))\n",
    "chancesum <- chancesum %>% group_by(team_api_id) %>% filter(chance_sum == max(chance_sum))\n",
    "distinct_chance <- distinct(chancesum, .keep_all = TRUE)"
   ]
  },
  {
   "cell_type": "markdown",
   "metadata": {},
   "source": [
    "### Joining previous two tables"
   ]
  },
  {
   "cell_type": "code",
   "execution_count": 114,
   "metadata": {},
   "outputs": [
    {
     "name": "stderr",
     "output_type": "stream",
     "text": [
      "Joining, by = c(\"team_api_id\", \"team_fifa_api_id\")\n"
     ]
    }
   ],
   "source": [
    "add <- full_join(distinct_build,distinct_chance) "
   ]
  },
  {
   "cell_type": "markdown",
   "metadata": {},
   "source": [
    "### Get the number of defence according to each team"
   ]
  },
  {
   "cell_type": "code",
   "execution_count": 115,
   "metadata": {
    "collapsed": true
   },
   "outputs": [],
   "source": [
    "defence <- select(team_attribute,team_fifa_api_id,team_api_id,defencePressure,defenceAggression,defenceTeamWidth)\n",
    "defencesum <- transform(defence, defence_sum=rowSums(defence[,3:ncol(defence)]))\n",
    "defencesum <- defencesum %>% group_by(team_api_id) %>% filter(defence_sum == max(defence_sum))\n",
    "distinct_defence <- distinct(defencesum, .keep_all = TRUE)"
   ]
  },
  {
   "cell_type": "code",
   "execution_count": 116,
   "metadata": {
    "collapsed": true
   },
   "outputs": [],
   "source": [
    "add <- add[, -c(3:5)]"
   ]
  },
  {
   "cell_type": "code",
   "execution_count": 117,
   "metadata": {
    "collapsed": true
   },
   "outputs": [],
   "source": [
    "add <- add[, -c(4:6)]"
   ]
  },
  {
   "cell_type": "markdown",
   "metadata": {},
   "source": [
    "### Cummulative join of previous tables"
   ]
  },
  {
   "cell_type": "code",
   "execution_count": 118,
   "metadata": {},
   "outputs": [
    {
     "name": "stderr",
     "output_type": "stream",
     "text": [
      "Joining, by = c(\"team_api_id\", \"team_fifa_api_id\")\n"
     ]
    }
   ],
   "source": [
    "add1 <- full_join(add,distinct_defence)"
   ]
  },
  {
   "cell_type": "code",
   "execution_count": 119,
   "metadata": {
    "collapsed": true
   },
   "outputs": [],
   "source": [
    "add1 <- add1[, -c(5:7)]"
   ]
  },
  {
   "cell_type": "markdown",
   "metadata": {},
   "source": [
    "### Get the number of goals according to each team"
   ]
  },
  {
   "cell_type": "code",
   "execution_count": 120,
   "metadata": {},
   "outputs": [
    {
     "name": "stderr",
     "output_type": "stream",
     "text": [
      "Joining, by = \"team_api_id\"\n"
     ]
    }
   ],
   "source": [
    "home_team <- select(match,home_team_api_id,home_team_goal)\n",
    "away_team <- select(match,away_team_api_id,away_team_goal)\n",
    "p_home <- home_team %>% group_by(home_team_api_id) %>% summarise(home_goals = sum(home_team_goal))\n",
    "p_away <- away_team %>% group_by(away_team_api_id) %>% summarise(away_goals = sum(away_team_goal))\n",
    "colnames(p_home) <- c(\"team_api_id\",\"home_goals\")\n",
    "colnames(p_away) <- c(\"team_api_id\",\"away_goals\")\n",
    "total <- full_join(p_home,p_away)\n",
    "total <- cbind(total[1],rowSums(total[2:3]))\n",
    "colnames(total) <- c(\"team_api_id\",\"goals\")"
   ]
  },
  {
   "cell_type": "markdown",
   "metadata": {},
   "source": [
    "### Cummulative join of previous tables"
   ]
  },
  {
   "cell_type": "code",
   "execution_count": 121,
   "metadata": {},
   "outputs": [
    {
     "name": "stderr",
     "output_type": "stream",
     "text": [
      "Joining, by = \"team_api_id\"\n"
     ]
    }
   ],
   "source": [
    "add2 <- full_join(add1,total)"
   ]
  },
  {
   "cell_type": "markdown",
   "metadata": {},
   "source": [
    "### Removing unncessary columns"
   ]
  },
  {
   "cell_type": "code",
   "execution_count": 122,
   "metadata": {
    "collapsed": true
   },
   "outputs": [],
   "source": [
    "add2 <- add2[, -2]"
   ]
  },
  {
   "cell_type": "markdown",
   "metadata": {},
   "source": [
    "### Cummulative join of previous tables"
   ]
  },
  {
   "cell_type": "code",
   "execution_count": 123,
   "metadata": {},
   "outputs": [
    {
     "name": "stderr",
     "output_type": "stream",
     "text": [
      "Joining, by = \"team_api_id\"\n"
     ]
    }
   ],
   "source": [
    "prefinal <- full_join(team,add2)"
   ]
  },
  {
   "cell_type": "markdown",
   "metadata": {},
   "source": [
    "### Removing unncessary columns"
   ]
  },
  {
   "cell_type": "code",
   "execution_count": 124,
   "metadata": {},
   "outputs": [],
   "source": [
    "prefinal <- prefinal[, -1]"
   ]
  },
  {
   "cell_type": "markdown",
   "metadata": {},
   "source": [
    "### Removing unncessary columns"
   ]
  },
  {
   "cell_type": "code",
   "execution_count": 125,
   "metadata": {
    "collapsed": true
   },
   "outputs": [],
   "source": [
    "prefinal <- prefinal[, -2]"
   ]
  },
  {
   "cell_type": "markdown",
   "metadata": {},
   "source": [
    "### Writing data in csv"
   ]
  },
  {
   "cell_type": "code",
   "execution_count": 126,
   "metadata": {
    "collapsed": true
   },
   "outputs": [],
   "source": [
    "write.csv(prefinal, \"team.csv\")"
   ]
  },
  {
   "cell_type": "code",
   "execution_count": null,
   "metadata": {
    "collapsed": true
   },
   "outputs": [],
   "source": []
  }
 ],
 "metadata": {
  "kernelspec": {
   "display_name": "Python 3",
   "language": "python",
   "name": "python3"
  },
  "language_info": {
   "codemirror_mode": {
    "name": "ipython",
    "version": 3
   },
   "file_extension": ".py",
   "mimetype": "text/x-python",
   "name": "python",
   "nbconvert_exporter": "python",
   "pygments_lexer": "ipython3",
   "version": "3.5.4"
  }
 },
 "nbformat": 4,
 "nbformat_minor": 2
}
