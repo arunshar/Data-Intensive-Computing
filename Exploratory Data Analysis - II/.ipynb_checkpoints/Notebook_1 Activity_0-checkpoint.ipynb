{
 "cells": [
  {
   "cell_type": "markdown",
   "metadata": {},
   "source": [
    "## Dplyr Vignette "
   ]
  },
  {
   "cell_type": "code",
   "execution_count": 62,
   "metadata": {},
   "outputs": [],
   "source": [
    "library(dplyr)\n",
    "library(nycflights13)"
   ]
  },
  {
   "cell_type": "code",
   "execution_count": 63,
   "metadata": {
    "collapsed": true
   },
   "outputs": [],
   "source": [
    "my_db <- src_sqlite(\"my_db_f1.sqlite3\", create = T)"
   ]
  },
  {
   "cell_type": "code",
   "execution_count": 64,
   "metadata": {},
   "outputs": [
    {
     "ename": "ERROR",
     "evalue": "Error: Table flights already exists.\n",
     "output_type": "error",
     "traceback": [
      "Error: Table flights already exists.\nTraceback:\n",
      "1. copy_to(my_db, flights, temporary = FALSE, indexes = list(c(\"year\", \n .     \"month\", \"day\"), \"carrier\", \"tailnum\"))",
      "2. copy_to.src_sql(my_db, flights, temporary = FALSE, indexes = list(c(\"year\", \n .     \"month\", \"day\"), \"carrier\", \"tailnum\"))",
      "3. stop(\"Table \", name, \" already exists.\", call. = FALSE)"
     ]
    }
   ],
   "source": [
    "flights_sqlite <- copy_to(my_db, flights, temporary = FALSE, indexes = list(\n",
    "  c(\"year\", \"month\", \"day\"), \"carrier\", \"tailnum\"))"
   ]
  },
  {
   "cell_type": "code",
   "execution_count": 34,
   "metadata": {},
   "outputs": [
    {
     "data": {
      "text/plain": [
       "Source:   query [?? x 19]\n",
       "Database: sqlite 3.11.1 [C:\\Users\\LUKE_S~1\\AppData\\Local\\Temp\\RtmpaaxF0i/nycflights13.sqlite]\n",
       "\n",
       "    year month   day dep_time sched_dep_time dep_delay arr_time sched_arr_time\n",
       "   <int> <int> <int>    <int>          <int>     <dbl>    <int>          <int>\n",
       "1   2013     1     1      517            515         2      830            819\n",
       "2   2013     1     1      533            529         4      850            830\n",
       "3   2013     1     1      542            540         2      923            850\n",
       "4   2013     1     1      544            545        -1     1004           1022\n",
       "5   2013     1     1      554            600        -6      812            837\n",
       "6   2013     1     1      554            558        -4      740            728\n",
       "7   2013     1     1      555            600        -5      913            854\n",
       "8   2013     1     1      557            600        -3      709            723\n",
       "9   2013     1     1      557            600        -3      838            846\n",
       "10  2013     1     1      558            600        -2      753            745\n",
       "# ... with more rows, and 11 more variables: arr_delay <dbl>, carrier <chr>,\n",
       "#   flight <int>, tailnum <chr>, origin <chr>, dest <chr>, air_time <dbl>,\n",
       "#   distance <dbl>, hour <dbl>, minute <dbl>, time_hour <dbl>"
      ]
     },
     "metadata": {},
     "output_type": "display_data"
    }
   ],
   "source": [
    "flights_sqlite <- tbl(nycflights13_sqlite(), \"flights\")\n",
    "flights_sqlite"
   ]
  },
  {
   "cell_type": "code",
   "execution_count": 35,
   "metadata": {},
   "outputs": [
    {
     "data": {
      "text/plain": [
       "Source:   query [?? x 19]\n",
       "Database: sqlite 3.11.1 [my_db.sqlite3]\n",
       "\n",
       "    year month   day dep_time sched_dep_time dep_delay arr_time sched_arr_time\n",
       "   <int> <int> <int>    <int>          <int>     <dbl>    <int>          <int>\n",
       "1   2013     1     1      517            515         2      830            819\n",
       "2   2013     1     1      533            529         4      850            830\n",
       "3   2013     1     1      542            540         2      923            850\n",
       "4   2013     1     1      544            545        -1     1004           1022\n",
       "5   2013     1     1      554            600        -6      812            837\n",
       "6   2013     1     1      554            558        -4      740            728\n",
       "7   2013     1     1      555            600        -5      913            854\n",
       "8   2013     1     1      557            600        -3      709            723\n",
       "9   2013     1     1      557            600        -3      838            846\n",
       "10  2013     1     1      558            600        -2      753            745\n",
       "# ... with more rows, and 11 more variables: arr_delay <dbl>, carrier <chr>,\n",
       "#   flight <int>, tailnum <chr>, origin <chr>, dest <chr>, air_time <dbl>,\n",
       "#   distance <dbl>, hour <dbl>, minute <dbl>, time_hour <dbl>"
      ]
     },
     "metadata": {},
     "output_type": "display_data"
    }
   ],
   "source": [
    "tbl(my_db, sql(\"SELECT * FROM flights\"))"
   ]
  },
  {
   "cell_type": "code",
   "execution_count": 36,
   "metadata": {},
   "outputs": [
    {
     "data": {
      "text/plain": [
       "Source:   query [?? x 5]\n",
       "Database: sqlite 3.11.1 [C:\\Users\\LUKE_S~1\\AppData\\Local\\Temp\\RtmpaaxF0i/nycflights13.sqlite]\n",
       "\n",
       "    year month   day dep_delay arr_delay\n",
       "   <int> <int> <int>     <dbl>     <dbl>\n",
       "1   2013     1     1         2        11\n",
       "2   2013     1     1         4        20\n",
       "3   2013     1     1         2        33\n",
       "4   2013     1     1        -1       -18\n",
       "5   2013     1     1        -6       -25\n",
       "6   2013     1     1        -4        12\n",
       "7   2013     1     1        -5        19\n",
       "8   2013     1     1        -3       -14\n",
       "9   2013     1     1        -3        -8\n",
       "10  2013     1     1        -2         8\n",
       "# ... with more rows"
      ]
     },
     "metadata": {},
     "output_type": "display_data"
    }
   ],
   "source": [
    "select(flights_sqlite, year:day, dep_delay, arr_delay)"
   ]
  },
  {
   "cell_type": "code",
   "execution_count": 37,
   "metadata": {},
   "outputs": [
    {
     "data": {
      "text/plain": [
       "Source:   query [?? x 19]\n",
       "Database: sqlite 3.11.1 [C:\\Users\\LUKE_S~1\\AppData\\Local\\Temp\\RtmpaaxF0i/nycflights13.sqlite]\n",
       "\n",
       "    year month   day dep_time sched_dep_time dep_delay arr_time sched_arr_time\n",
       "   <int> <int> <int>    <int>          <int>     <dbl>    <int>          <int>\n",
       "1   2013     1     1      848           1835       853     1001           1950\n",
       "2   2013     1     1     1815           1325       290     2120           1542\n",
       "3   2013     1     1     1842           1422       260     1958           1535\n",
       "4   2013     1     1     2115           1700       255     2330           1920\n",
       "5   2013     1     1     2205           1720       285       46           2040\n",
       "6   2013     1     1     2343           1724       379      314           1938\n",
       "7   2013     1     2     1332            904       268     1616           1128\n",
       "8   2013     1     2     1412            838       334     1710           1147\n",
       "9   2013     1     2     1607           1030       337     2003           1355\n",
       "10  2013     1     2     2131           1512       379     2340           1741\n",
       "# ... with more rows, and 11 more variables: arr_delay <dbl>, carrier <chr>,\n",
       "#   flight <int>, tailnum <chr>, origin <chr>, dest <chr>, air_time <dbl>,\n",
       "#   distance <dbl>, hour <dbl>, minute <dbl>, time_hour <dbl>"
      ]
     },
     "metadata": {},
     "output_type": "display_data"
    }
   ],
   "source": [
    "filter(flights_sqlite, dep_delay > 240)"
   ]
  },
  {
   "cell_type": "code",
   "execution_count": 38,
   "metadata": {},
   "outputs": [
    {
     "data": {
      "text/plain": [
       "Source:   query [?? x 20]\n",
       "Database: sqlite 3.11.1 [C:\\Users\\LUKE_S~1\\AppData\\Local\\Temp\\RtmpaaxF0i/nycflights13.sqlite]\n",
       "\n",
       "    year month   day dep_time sched_dep_time dep_delay arr_time sched_arr_time\n",
       "   <int> <int> <int>    <int>          <int>     <dbl>    <int>          <int>\n",
       "1   2013     1     1      517            515         2      830            819\n",
       "2   2013     1     1      533            529         4      850            830\n",
       "3   2013     1     1      542            540         2      923            850\n",
       "4   2013     1     1      544            545        -1     1004           1022\n",
       "5   2013     1     1      554            600        -6      812            837\n",
       "6   2013     1     1      554            558        -4      740            728\n",
       "7   2013     1     1      555            600        -5      913            854\n",
       "8   2013     1     1      557            600        -3      709            723\n",
       "9   2013     1     1      557            600        -3      838            846\n",
       "10  2013     1     1      558            600        -2      753            745\n",
       "# ... with more rows, and 12 more variables: arr_delay <dbl>, carrier <chr>,\n",
       "#   flight <int>, tailnum <chr>, origin <chr>, dest <chr>, air_time <dbl>,\n",
       "#   distance <dbl>, hour <dbl>, minute <dbl>, time_hour <dbl>, speed <dbl>"
      ]
     },
     "metadata": {},
     "output_type": "display_data"
    }
   ],
   "source": [
    "mutate(flights_sqlite, speed = air_time / distance)"
   ]
  },
  {
   "cell_type": "code",
   "execution_count": 39,
   "metadata": {},
   "outputs": [
    {
     "data": {
      "text/plain": [
       "Source:   query [?? x 1]\n",
       "Database: sqlite 3.11.1 [C:\\Users\\LUKE_S~1\\AppData\\Local\\Temp\\RtmpaaxF0i/nycflights13.sqlite]\n",
       "\n",
       "    delay\n",
       "    <dbl>\n",
       "1 1349.11"
      ]
     },
     "metadata": {},
     "output_type": "display_data"
    }
   ],
   "source": [
    "summarise(flights_sqlite, delay = mean(dep_time))"
   ]
  },
  {
   "cell_type": "code",
   "execution_count": 40,
   "metadata": {
    "collapsed": true
   },
   "outputs": [],
   "source": [
    "c1 <- filter(flights_sqlite, year == 2013, month == 1, day == 1)\n",
    "c2 <- select(c1, year, month, day, carrier, dep_delay, air_time, distance)\n",
    "c3 <- mutate(c2, speed = distance / air_time * 60)\n",
    "c4 <- arrange(c3, year, month, day, carrier)"
   ]
  },
  {
   "cell_type": "code",
   "execution_count": 41,
   "metadata": {},
   "outputs": [
    {
     "data": {
      "text/plain": [
       "Source:   query [?? x 8]\n",
       "Database: sqlite 3.11.1 [C:\\Users\\LUKE_S~1\\AppData\\Local\\Temp\\RtmpaaxF0i/nycflights13.sqlite]\n",
       "\n",
       "    year month   day carrier dep_delay air_time distance    speed\n",
       "   <int> <int> <int>   <chr>     <dbl>    <dbl>    <dbl>    <dbl>\n",
       "1   2013     1     1      9E         0      189     1029 326.6667\n",
       "2   2013     1     1      9E        -9       57      228 240.0000\n",
       "3   2013     1     1      9E        -3       68      301 265.5882\n",
       "4   2013     1     1      9E        -6       57      209 220.0000\n",
       "5   2013     1     1      9E        -8       66      264 240.0000\n",
       "6   2013     1     1      9E         0       40      184 276.0000\n",
       "7   2013     1     1      9E         6      146      740 304.1096\n",
       "8   2013     1     1      9E         0      139      665 287.0504\n",
       "9   2013     1     1      9E        -8      150      765 306.0000\n",
       "10  2013     1     1      9E        -6       41      187 273.6585\n",
       "# ... with more rows"
      ]
     },
     "metadata": {},
     "output_type": "display_data"
    }
   ],
   "source": [
    "c4"
   ]
  },
  {
   "cell_type": "code",
   "execution_count": 42,
   "metadata": {},
   "outputs": [
    {
     "name": "stderr",
     "output_type": "stream",
     "text": [
      "<SQL>\n",
      "SELECT *\n",
      "FROM (SELECT `year`, `month`, `day`, `carrier`, `dep_delay`, `air_time`, `distance`, `distance` / `air_time` * 60.0 AS `speed`\n",
      "FROM (SELECT `year` AS `year`, `month` AS `month`, `day` AS `day`, `carrier` AS `carrier`, `dep_delay` AS `dep_delay`, `air_time` AS `air_time`, `distance` AS `distance`\n",
      "FROM (SELECT *\n",
      "FROM `flights`\n",
      "WHERE ((`year` = 2013.0) AND (`month` = 1.0) AND (`day` = 1.0)))))\n",
      "ORDER BY `year`, `month`, `day`, `carrier`\n",
      "\n",
      "\n",
      "<PLAN>\n",
      "   addr       opcode p1    p2 p3           p4 p5 comment\n",
      "1     0         Init  0    56  0              00      NA\n",
      "2     1   SorterOpen  4     9  0       k(1,B) 00      NA\n",
      "3     2     OpenRead  3   131  0           19 00      NA\n",
      "4     3     OpenRead  5 22656  0     k(4,,,,) 02      NA\n",
      "5     4         Real  0     1  0         2013 00      NA\n",
      "6     5         Real  0     2  0            1 00      NA\n",
      "7     6         Real  0     3  0            1 00      NA\n",
      "8     7     Affinity  1     3  0          DDD 00      NA\n",
      "9     8       SeekGE  5    36  1            3 00      NA\n",
      "10    9        IdxGT  5    36  1            3 00      NA\n",
      "11   10         Seek  5     0  3              00      NA\n",
      "12   11       Column  5     0  8              00      NA\n",
      "13   12       Column  5     1  9              00      NA\n",
      "14   13       Column  5     2 10              00      NA\n",
      "15   14       Column  3     9 11              00      NA\n",
      "16   15       Column  3     5 12              00      NA\n",
      "17   16 RealAffinity 12     0  0              00      NA\n",
      "18   17       Column  3    14 13              00      NA\n",
      "19   18 RealAffinity 13     0  0              00      NA\n",
      "20   19       Column  3    15 14              00      NA\n",
      "21   20 RealAffinity 14     0  0              00      NA\n",
      "22   21       Divide 13    14 16              00      NA\n",
      "23   22     Multiply 18    16 15              00      NA\n",
      "24   23         Copy  8     4  0              00      NA\n",
      "25   24         Copy  9     5  0              00      NA\n",
      "26   25         Copy 10     6  0              00      NA\n",
      "27   26         Copy 11     7  0              00      NA\n",
      "28   27   MakeRecord  7     9 19              00      NA\n",
      "29   28 SequenceTest  4    33  0              00      NA\n",
      "30   29      Compare 20     4  3 k(4,B,B,B,B) 00      NA\n",
      "31   30         Jump 31    34 31              00      NA\n",
      "32   31        Gosub 23    40  0              00      NA\n",
      "33   32  ResetSorter  4     0  0              00      NA\n",
      "34   33         Move  4    20  3              00      NA\n",
      "35   34 SorterInsert  4    19  0              00      NA\n",
      "36   35         Next  5     9  1              00      NA\n",
      "37   36        Close  3     0  0              00      NA\n",
      "38   37        Close  5     0  0              00      NA\n",
      "39   38        Gosub 23    40  0              00      NA\n",
      "40   39         Goto  0    55  0              00      NA\n",
      "41   40         Once  0    42  0              00      NA\n",
      "42   41   OpenPseudo  6    24 10              00      NA\n",
      "43   42   SorterSort  4    55  0              00      NA\n",
      "44   43   SorterData  4    24  6              00      NA\n",
      "45   44       Column  6     1  8              00      NA\n",
      "46   45       Column  6     2  9              00      NA\n",
      "47   46       Column  6     3 10              00      NA\n",
      "48   47       Column  6     4 11              00      NA\n",
      "49   48       Column  6     5 12              00      NA\n",
      "50   49       Column  6     6 13              00      NA\n",
      "51   50       Column  6     7 14              00      NA\n",
      "52   51       Column  6     8 15              00      NA\n",
      "53   52    ResultRow  8     8  0              00      NA\n",
      "54   53   SorterNext  4    43  0              00      NA\n",
      "55   54       Return 23     0  0              00      NA\n",
      "56   55         Halt  0     0  0              00      NA\n",
      "57   56  Transaction  0     0 16            0 01      NA\n",
      "58   57    TableLock  0   131  0      flights 00      NA\n",
      "59   58         Real  0    18  0           60 00      NA\n",
      "60   59         Goto  0     1  0              00      NA\n"
     ]
    }
   ],
   "source": [
    "explain(c4)"
   ]
  },
  {
   "cell_type": "code",
   "execution_count": 43,
   "metadata": {},
   "outputs": [
    {
     "data": {
      "text/html": [
       "'\"x\"'"
      ],
      "text/latex": [
       "'\"x\"'"
      ],
      "text/markdown": [
       "'\"x\"'"
      ],
      "text/plain": [
       "<SQL> \"x\""
      ]
     },
     "metadata": {},
     "output_type": "display_data"
    }
   ],
   "source": [
    "translate_sql(x)"
   ]
  },
  {
   "cell_type": "code",
   "execution_count": 44,
   "metadata": {},
   "outputs": [
    {
     "data": {
      "text/html": [
       "'\\'x''"
      ],
      "text/latex": [
       "'\\textbackslash{}'x''"
      ],
      "text/markdown": [
       "'\\'x''"
      ],
      "text/plain": [
       "<SQL> 'x'"
      ]
     },
     "metadata": {},
     "output_type": "display_data"
    }
   ],
   "source": [
    "translate_sql(\"x\")"
   ]
  },
  {
   "cell_type": "code",
   "execution_count": 45,
   "metadata": {},
   "outputs": [
    {
     "data": {
      "text/html": [
       "'\"x\" = 1.0 AND (\"y\" &lt; 2.0 OR \"z\" &gt; 3.0)'"
      ],
      "text/latex": [
       "'\"x\" = 1.0 AND (\"y\" < 2.0 OR \"z\" > 3.0)'"
      ],
      "text/markdown": [
       "'\"x\" = 1.0 AND (\"y\" &lt; 2.0 OR \"z\" &gt; 3.0)'"
      ],
      "text/plain": [
       "<SQL> \"x\" = 1.0 AND (\"y\" < 2.0 OR \"z\" > 3.0)"
      ]
     },
     "metadata": {},
     "output_type": "display_data"
    }
   ],
   "source": [
    "translate_sql(x == 1 && (y < 2 || z > 3))"
   ]
  },
  {
   "cell_type": "code",
   "execution_count": 46,
   "metadata": {},
   "outputs": [
    {
     "data": {
      "text/html": [
       "'POWER(\"x\", 2.0) &lt; 10.0'"
      ],
      "text/latex": [
       "'POWER(\"x\", 2.0) < 10.0'"
      ],
      "text/markdown": [
       "'POWER(\"x\", 2.0) &lt; 10.0'"
      ],
      "text/plain": [
       "<SQL> POWER(\"x\", 2.0) < 10.0"
      ]
     },
     "metadata": {},
     "output_type": "display_data"
    }
   ],
   "source": [
    "translate_sql(x ^ 2 < 10)"
   ]
  },
  {
   "cell_type": "code",
   "execution_count": 47,
   "metadata": {},
   "outputs": [
    {
     "data": {
      "text/html": [
       "'\"x\" % 2.0 = 10.0'"
      ],
      "text/latex": [
       "'\"x\" \\% 2.0 = 10.0'"
      ],
      "text/markdown": [
       "'\"x\" % 2.0 = 10.0'"
      ],
      "text/plain": [
       "<SQL> \"x\" % 2.0 = 10.0"
      ]
     },
     "metadata": {},
     "output_type": "display_data"
    }
   ],
   "source": [
    "translate_sql(x %% 2 == 10)"
   ]
  },
  {
   "cell_type": "code",
   "execution_count": 48,
   "metadata": {},
   "outputs": [
    {
     "data": {
      "text/html": [
       "'1.0'"
      ],
      "text/latex": [
       "'1.0'"
      ],
      "text/markdown": [
       "'1.0'"
      ],
      "text/plain": [
       "<SQL> 1.0"
      ]
     },
     "metadata": {},
     "output_type": "display_data"
    }
   ],
   "source": [
    "translate_sql(1)"
   ]
  },
  {
   "cell_type": "code",
   "execution_count": 49,
   "metadata": {},
   "outputs": [
    {
     "data": {
      "text/html": [
       "'1'"
      ],
      "text/latex": [
       "'1'"
      ],
      "text/markdown": [
       "'1'"
      ],
      "text/plain": [
       "<SQL> 1"
      ]
     },
     "metadata": {},
     "output_type": "display_data"
    }
   ],
   "source": [
    "translate_sql(1L)"
   ]
  },
  {
   "cell_type": "code",
   "execution_count": 50,
   "metadata": {},
   "outputs": [
    {
     "data": {
      "text/html": [
       "'GLOB(\"x\", \"y\")'"
      ],
      "text/latex": [
       "'GLOB(\"x\", \"y\")'"
      ],
      "text/markdown": [
       "'GLOB(\"x\", \"y\")'"
      ],
      "text/plain": [
       "<SQL> GLOB(\"x\", \"y\")"
      ]
     },
     "metadata": {},
     "output_type": "display_data"
    },
    {
     "data": {
      "text/html": [
       "'\"x\" LIKE \\'ab*''"
      ],
      "text/latex": [
       "'\"x\" LIKE \\textbackslash{}'ab*''"
      ],
      "text/markdown": [
       "'\"x\" LIKE \\'ab*''"
      ],
      "text/plain": [
       "<SQL> \"x\" LIKE 'ab*'"
      ]
     },
     "metadata": {},
     "output_type": "display_data"
    }
   ],
   "source": [
    "translate_sql(glob(x, y))\n",
    "#> <SQL> GLOB(\"x\", \"y\")\n",
    "translate_sql(x %like% \"ab*\")\n",
    "#> <SQL> \"x\" LIKE 'ab*'"
   ]
  },
  {
   "cell_type": "code",
   "execution_count": 51,
   "metadata": {
    "collapsed": true
   },
   "outputs": [],
   "source": [
    "by_tailnum <- group_by(flights_sqlite, tailnum)\n",
    "delay <- summarise(by_tailnum,\n",
    "  count = n(),\n",
    "  dist = mean(distance),\n",
    "  delay = mean(arr_delay)\n",
    ")\n",
    "delay <- filter(delay, count > 20, dist < 2000)\n",
    "delay_local <- collect(delay)"
   ]
  },
  {
   "cell_type": "code",
   "execution_count": null,
   "metadata": {},
   "outputs": [],
   "source": []
  },
  {
   "cell_type": "code",
   "execution_count": null,
   "metadata": {
    "collapsed": true
   },
   "outputs": [],
   "source": []
  },
  {
   "cell_type": "code",
   "execution_count": null,
   "metadata": {
    "collapsed": true
   },
   "outputs": [],
   "source": []
  },
  {
   "cell_type": "code",
   "execution_count": null,
   "metadata": {
    "collapsed": true
   },
   "outputs": [],
   "source": []
  },
  {
   "cell_type": "code",
   "execution_count": null,
   "metadata": {
    "collapsed": true
   },
   "outputs": [],
   "source": []
  }
 ],
 "metadata": {
  "kernelspec": {
   "display_name": "Python 3",
   "language": "python",
   "name": "python3"
  },
  "language_info": {
   "codemirror_mode": {
    "name": "ipython",
    "version": 3
   },
   "file_extension": ".py",
   "mimetype": "text/x-python",
   "name": "python",
   "nbconvert_exporter": "python",
   "pygments_lexer": "ipython3",
   "version": "3.5.4"
  }
 },
 "nbformat": 4,
 "nbformat_minor": 2
}
