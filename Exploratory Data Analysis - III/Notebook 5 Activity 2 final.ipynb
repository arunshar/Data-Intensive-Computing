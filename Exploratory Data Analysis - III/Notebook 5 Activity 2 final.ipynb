{
 "cells": [
  {
   "cell_type": "markdown",
   "metadata": {},
   "source": [
    "## Activity 2: K-nn classification with credit data"
   ]
  },
  {
   "cell_type": "markdown",
   "metadata": {},
   "source": [
    "### Install libraries"
   ]
  },
  {
   "cell_type": "code",
   "execution_count": 16,
   "metadata": {
    "collapsed": true
   },
   "outputs": [],
   "source": [
    "library(class)"
   ]
  },
  {
   "cell_type": "markdown",
   "metadata": {},
   "source": [
    "### Load CSV file and remove NA values"
   ]
  },
  {
   "cell_type": "code",
   "execution_count": 17,
   "metadata": {
    "collapsed": false
   },
   "outputs": [
    {
     "data": {
      "text/html": [
       "<table>\n",
       "<thead><tr><th></th><th scope=col>X.</th><th scope=col>Age</th><th scope=col>Sex</th><th scope=col>Job</th><th scope=col>Housing</th><th scope=col>Saving.accounts</th><th scope=col>Checking.account</th><th scope=col>Credit.amount</th><th scope=col>Duration</th><th scope=col>Purpose</th><th scope=col>Credit.Risks</th></tr></thead>\n",
       "<tbody>\n",
       "\t<tr><th scope=row>2</th><td> 1                 </td><td>22                 </td><td>female             </td><td>2                  </td><td>own                </td><td>little             </td><td>moderate           </td><td>5951               </td><td>48                 </td><td>radio/TV           </td><td>2                  </td></tr>\n",
       "\t<tr><th scope=row>4</th><td> 3                 </td><td>45                 </td><td>male               </td><td>2                  </td><td>free               </td><td>little             </td><td>little             </td><td>7882               </td><td>42                 </td><td>furniture/equipment</td><td>1                  </td></tr>\n",
       "\t<tr><th scope=row>5</th><td> 4                 </td><td>53                 </td><td>male               </td><td>2                  </td><td>free               </td><td>little             </td><td>little             </td><td>4870               </td><td>24                 </td><td>car                </td><td>2                  </td></tr>\n",
       "\t<tr><th scope=row>8</th><td> 7                 </td><td>35                 </td><td>male               </td><td>3                  </td><td>rent               </td><td>little             </td><td>moderate           </td><td>6948               </td><td>36                 </td><td>car                </td><td>1                  </td></tr>\n",
       "\t<tr><th scope=row>10</th><td> 9                 </td><td>28                 </td><td>male               </td><td>3                  </td><td>own                </td><td>little             </td><td>moderate           </td><td>5234               </td><td>30                 </td><td>car                </td><td>2                  </td></tr>\n",
       "\t<tr><th scope=row>11</th><td>10                 </td><td>25                 </td><td>female             </td><td>2                  </td><td>rent               </td><td>little             </td><td>moderate           </td><td>1295               </td><td>12                 </td><td>car                </td><td>2                  </td></tr>\n",
       "</tbody>\n",
       "</table>\n"
      ],
      "text/latex": [
       "\\begin{tabular}{r|lllllllllll}\n",
       "  & X. & Age & Sex & Job & Housing & Saving.accounts & Checking.account & Credit.amount & Duration & Purpose & Credit.Risks\\\\\n",
       "\\hline\n",
       "\t2 &  1                  & 22                  & female              & 2                   & own                 & little              & moderate            & 5951                & 48                  & radio/TV            & 2                  \\\\\n",
       "\t4 &  3                  & 45                  & male                & 2                   & free                & little              & little              & 7882                & 42                  & furniture/equipment & 1                  \\\\\n",
       "\t5 &  4                  & 53                  & male                & 2                   & free                & little              & little              & 4870                & 24                  & car                 & 2                  \\\\\n",
       "\t8 &  7                  & 35                  & male                & 3                   & rent                & little              & moderate            & 6948                & 36                  & car                 & 1                  \\\\\n",
       "\t10 &  9                  & 28                  & male                & 3                   & own                 & little              & moderate            & 5234                & 30                  & car                 & 2                  \\\\\n",
       "\t11 & 10                  & 25                  & female              & 2                   & rent                & little              & moderate            & 1295                & 12                  & car                 & 2                  \\\\\n",
       "\\end{tabular}\n"
      ],
      "text/markdown": [
       "\n",
       "| <!--/--> | X. | Age | Sex | Job | Housing | Saving.accounts | Checking.account | Credit.amount | Duration | Purpose | Credit.Risks | \n",
       "|---|---|---|---|---|---|\n",
       "| 2 |  1                  | 22                  | female              | 2                   | own                 | little              | moderate            | 5951                | 48                  | radio/TV            | 2                   | \n",
       "| 4 |  3                  | 45                  | male                | 2                   | free                | little              | little              | 7882                | 42                  | furniture/equipment | 1                   | \n",
       "| 5 |  4                  | 53                  | male                | 2                   | free                | little              | little              | 4870                | 24                  | car                 | 2                   | \n",
       "| 8 |  7                  | 35                  | male                | 3                   | rent                | little              | moderate            | 6948                | 36                  | car                 | 1                   | \n",
       "| 10 |  9                  | 28                  | male                | 3                   | own                 | little              | moderate            | 5234                | 30                  | car                 | 2                   | \n",
       "| 11 | 10                  | 25                  | female              | 2                   | rent                | little              | moderate            | 1295                | 12                  | car                 | 2                   | \n",
       "\n",
       "\n"
      ],
      "text/plain": [
       "   X. Age Sex    Job Housing Saving.accounts Checking.account Credit.amount\n",
       "2   1 22  female 2   own     little          moderate         5951         \n",
       "4   3 45  male   2   free    little          little           7882         \n",
       "5   4 53  male   2   free    little          little           4870         \n",
       "8   7 35  male   3   rent    little          moderate         6948         \n",
       "10  9 28  male   3   own     little          moderate         5234         \n",
       "11 10 25  female 2   rent    little          moderate         1295         \n",
       "   Duration Purpose             Credit.Risks\n",
       "2  48       radio/TV            2           \n",
       "4  42       furniture/equipment 1           \n",
       "5  24       car                 2           \n",
       "8  36       car                 1           \n",
       "10 30       car                 2           \n",
       "11 12       car                 2           "
      ]
     },
     "metadata": {},
     "output_type": "display_data"
    }
   ],
   "source": [
    "data1 <- read.csv(\"german_credit_data1.csv\");\n",
    "data1 <- na.omit(data1)\n",
    "head(data1)"
   ]
  },
  {
   "cell_type": "markdown",
   "metadata": {},
   "source": [
    "### Factorize the value of categorical data to numerical data"
   ]
  },
  {
   "cell_type": "code",
   "execution_count": 18,
   "metadata": {
    "collapsed": true
   },
   "outputs": [],
   "source": [
    "data1$Housing <- as.numeric(factor(data1$Housing))\n",
    "data1$Saving.accounts <- as.numeric(factor(data1$Saving.accounts))\n",
    "data1$Checking.account <- as.numeric(factor(data1$Checking.account))\n",
    "data1$Purpose <- as.numeric(factor(data1$Purpose))"
   ]
  },
  {
   "cell_type": "markdown",
   "metadata": {},
   "source": [
    "### Calculate KNN samplewise and by changing the k values"
   ]
  },
  {
   "cell_type": "code",
   "execution_count": 19,
   "metadata": {
    "collapsed": false
   },
   "outputs": [],
   "source": [
    "sample <- c(0.6,0.7,0.8)\n",
    "extra = c(1,2,3,4,5,6,7,8,9,10,11,12,13,14,15,16,17,18,19,20)\n",
    "for(sampling_rate in sample) {\n",
    "    #sampling_rate <- \n",
    "    data1 <- as.data.frame(data1)\n",
    "    trainrows <- nrow(data1)*sampling_rate\n",
    "    train_data <- data1[1:trainrows,]\n",
    "    test_data <- data1[trainrows:nrow(data1),]\n",
    "    num.train.rows <- nrow(train_data)\n",
    "    num.test.rows <- nrow(test_data)\n",
    "    cltrain <- data1$Credit.Risks[1:trainrows]\n",
    "    cltest <- data1$Credit.Risks[trainrows:nrow(data1)]\n",
    "    final_train <- subset(train_data, select = c(Age,Job,Housing,Saving.accounts,Checking.account,Credit.amount,Duration,Purpose,Credit.Risks))\n",
    "    final_test <- subset(test_data, select = c(Age,Job,Housing,Saving.accounts,Checking.account,Credit.amount,Duration,Purpose,Credit.Risks))\n",
    "    l = list()\n",
    "    for (k in 1:20) {\n",
    "        predicted_labels <- knn(final_train, final_test, cl = cltrain, k)\n",
    "        num.incorrect.labels <- sum(predicted_labels != cltest)\n",
    "        misclassificaiton_rate <- num.incorrect.labels/num.test.rows\n",
    "        l <- c(l,misclassificaiton_rate)\n",
    "    }\n",
    "    extra <- cbind(extra,l)\n",
    "}"
   ]
  },
  {
   "cell_type": "markdown",
   "metadata": {},
   "source": [
    "### Representing data in tabluar form"
   ]
  },
  {
   "cell_type": "code",
   "execution_count": 20,
   "metadata": {
    "collapsed": false
   },
   "outputs": [
    {
     "data": {
      "text/html": [
       "<table>\n",
       "<thead><tr><th scope=col>K Values</th><th scope=col>Sampling Rate 0.6</th><th scope=col>Sampling Rate 0.7</th><th scope=col>Sampling Rate 0.8</th></tr></thead>\n",
       "<tbody>\n",
       "\t<tr><td>1        </td><td>0.4641148</td><td>0.5095541</td><td>0.5142857</td></tr>\n",
       "\t<tr><td>2        </td><td>0.4545455</td><td>0.5286624</td><td>0.5428571</td></tr>\n",
       "\t<tr><td>3        </td><td>0.4258373</td><td>0.4394904</td><td>0.4666667</td></tr>\n",
       "\t<tr><td>4        </td><td>0.4593301</td><td>0.4267516</td><td>0.4285714</td></tr>\n",
       "\t<tr><td>5        </td><td>0.3971292</td><td>0.4076433</td><td>0.4380952</td></tr>\n",
       "\t<tr><td>6        </td><td>0.3875598</td><td>0.4522293</td><td>0.4761905</td></tr>\n",
       "\t<tr><td>7        </td><td>0.3971292</td><td>0.4140127</td><td>0.4380952</td></tr>\n",
       "\t<tr><td>8        </td><td>0.3732057</td><td>0.433121 </td><td>0.3904762</td></tr>\n",
       "\t<tr><td>9        </td><td>0.3684211</td><td>0.3694268</td><td>0.3809524</td></tr>\n",
       "\t<tr><td>10       </td><td>0.3923445</td><td>0.388535 </td><td>0.4      </td></tr>\n",
       "\t<tr><td>11       </td><td>0.3827751</td><td>0.388535 </td><td>0.4190476</td></tr>\n",
       "\t<tr><td>12       </td><td>0.3349282</td><td>0.3821656</td><td>0.3904762</td></tr>\n",
       "\t<tr><td>13       </td><td>0.3492823</td><td>0.3757962</td><td>0.3714286</td></tr>\n",
       "\t<tr><td>14       </td><td>0.3588517</td><td>0.388535 </td><td>0.4285714</td></tr>\n",
       "\t<tr><td>15       </td><td>0.3732057</td><td>0.3630573</td><td>0.4190476</td></tr>\n",
       "\t<tr><td>16       </td><td>0.3684211</td><td>0.3566879</td><td>0.4095238</td></tr>\n",
       "\t<tr><td>17       </td><td>0.3732057</td><td>0.343949 </td><td>0.4095238</td></tr>\n",
       "\t<tr><td>18       </td><td>0.3923445</td><td>0.3757962</td><td>0.4095238</td></tr>\n",
       "\t<tr><td>19       </td><td>0.3923445</td><td>0.3566879</td><td>0.4190476</td></tr>\n",
       "\t<tr><td>20       </td><td>0.4019139</td><td>0.388535 </td><td>0.3904762</td></tr>\n",
       "</tbody>\n",
       "</table>\n"
      ],
      "text/latex": [
       "\\begin{tabular}{r|llll}\n",
       " K Values & Sampling Rate 0.6 & Sampling Rate 0.7 & Sampling Rate 0.8\\\\\n",
       "\\hline\n",
       "\t 1         & 0.4641148 & 0.5095541 & 0.5142857\\\\\n",
       "\t 2         & 0.4545455 & 0.5286624 & 0.5428571\\\\\n",
       "\t 3         & 0.4258373 & 0.4394904 & 0.4666667\\\\\n",
       "\t 4         & 0.4593301 & 0.4267516 & 0.4285714\\\\\n",
       "\t 5         & 0.3971292 & 0.4076433 & 0.4380952\\\\\n",
       "\t 6         & 0.3875598 & 0.4522293 & 0.4761905\\\\\n",
       "\t 7         & 0.3971292 & 0.4140127 & 0.4380952\\\\\n",
       "\t 8         & 0.3732057 & 0.433121  & 0.3904762\\\\\n",
       "\t 9         & 0.3684211 & 0.3694268 & 0.3809524\\\\\n",
       "\t 10        & 0.3923445 & 0.388535  & 0.4      \\\\\n",
       "\t 11        & 0.3827751 & 0.388535  & 0.4190476\\\\\n",
       "\t 12        & 0.3349282 & 0.3821656 & 0.3904762\\\\\n",
       "\t 13        & 0.3492823 & 0.3757962 & 0.3714286\\\\\n",
       "\t 14        & 0.3588517 & 0.388535  & 0.4285714\\\\\n",
       "\t 15        & 0.3732057 & 0.3630573 & 0.4190476\\\\\n",
       "\t 16        & 0.3684211 & 0.3566879 & 0.4095238\\\\\n",
       "\t 17        & 0.3732057 & 0.343949  & 0.4095238\\\\\n",
       "\t 18        & 0.3923445 & 0.3757962 & 0.4095238\\\\\n",
       "\t 19        & 0.3923445 & 0.3566879 & 0.4190476\\\\\n",
       "\t 20        & 0.4019139 & 0.388535  & 0.3904762\\\\\n",
       "\\end{tabular}\n"
      ],
      "text/markdown": [
       "\n",
       "K Values | Sampling Rate 0.6 | Sampling Rate 0.7 | Sampling Rate 0.8 | \n",
       "|---|---|---|---|---|---|---|---|---|---|---|---|---|---|---|---|---|---|---|---|\n",
       "| 1         | 0.4641148 | 0.5095541 | 0.5142857 | \n",
       "| 2         | 0.4545455 | 0.5286624 | 0.5428571 | \n",
       "| 3         | 0.4258373 | 0.4394904 | 0.4666667 | \n",
       "| 4         | 0.4593301 | 0.4267516 | 0.4285714 | \n",
       "| 5         | 0.3971292 | 0.4076433 | 0.4380952 | \n",
       "| 6         | 0.3875598 | 0.4522293 | 0.4761905 | \n",
       "| 7         | 0.3971292 | 0.4140127 | 0.4380952 | \n",
       "| 8         | 0.3732057 | 0.433121  | 0.3904762 | \n",
       "| 9         | 0.3684211 | 0.3694268 | 0.3809524 | \n",
       "| 10        | 0.3923445 | 0.388535  | 0.4       | \n",
       "| 11        | 0.3827751 | 0.388535  | 0.4190476 | \n",
       "| 12        | 0.3349282 | 0.3821656 | 0.3904762 | \n",
       "| 13        | 0.3492823 | 0.3757962 | 0.3714286 | \n",
       "| 14        | 0.3588517 | 0.388535  | 0.4285714 | \n",
       "| 15        | 0.3732057 | 0.3630573 | 0.4190476 | \n",
       "| 16        | 0.3684211 | 0.3566879 | 0.4095238 | \n",
       "| 17        | 0.3732057 | 0.343949  | 0.4095238 | \n",
       "| 18        | 0.3923445 | 0.3757962 | 0.4095238 | \n",
       "| 19        | 0.3923445 | 0.3566879 | 0.4190476 | \n",
       "| 20        | 0.4019139 | 0.388535  | 0.3904762 | \n",
       "\n",
       "\n"
      ],
      "text/plain": [
       "   K Values Sampling Rate 0.6 Sampling Rate 0.7 Sampling Rate 0.8\n",
       "1  1        0.4641148         0.5095541         0.5142857        \n",
       "2  2        0.4545455         0.5286624         0.5428571        \n",
       "3  3        0.4258373         0.4394904         0.4666667        \n",
       "4  4        0.4593301         0.4267516         0.4285714        \n",
       "5  5        0.3971292         0.4076433         0.4380952        \n",
       "6  6        0.3875598         0.4522293         0.4761905        \n",
       "7  7        0.3971292         0.4140127         0.4380952        \n",
       "8  8        0.3732057         0.433121          0.3904762        \n",
       "9  9        0.3684211         0.3694268         0.3809524        \n",
       "10 10       0.3923445         0.388535          0.4              \n",
       "11 11       0.3827751         0.388535          0.4190476        \n",
       "12 12       0.3349282         0.3821656         0.3904762        \n",
       "13 13       0.3492823         0.3757962         0.3714286        \n",
       "14 14       0.3588517         0.388535          0.4285714        \n",
       "15 15       0.3732057         0.3630573         0.4190476        \n",
       "16 16       0.3684211         0.3566879         0.4095238        \n",
       "17 17       0.3732057         0.343949          0.4095238        \n",
       "18 18       0.3923445         0.3757962         0.4095238        \n",
       "19 19       0.3923445         0.3566879         0.4190476        \n",
       "20 20       0.4019139         0.388535          0.3904762        "
      ]
     },
     "metadata": {},
     "output_type": "display_data"
    }
   ],
   "source": [
    "extra1 <- as.data.frame(extra)\n",
    "colnames(extra1) <- c(\"K Values\",\"Sampling Rate 0.6\",\"Sampling Rate 0.7\",\"Sampling Rate 0.8\")\n",
    "extra1"
   ]
  },
  {
   "cell_type": "markdown",
   "metadata": {},
   "source": [
    "#### The value of misclassification rate varies from 0.33 to 0.46 while taking 60% training data & 40% testing data, 0.34 to 0.52 while taking 70% training data & 30% testing data and 0.37 to 0.54 in 80% training data & 20% testing data. "
   ]
  },
  {
   "cell_type": "code",
   "execution_count": null,
   "metadata": {
    "collapsed": true
   },
   "outputs": [],
   "source": []
  }
 ],
 "metadata": {
  "kernelspec": {
   "display_name": "R",
   "language": "R",
   "name": "ir"
  },
  "language_info": {
   "codemirror_mode": "r",
   "file_extension": ".r",
   "mimetype": "text/x-r-source",
   "name": "R",
   "pygments_lexer": "r",
   "version": "3.3.2"
  }
 },
 "nbformat": 4,
 "nbformat_minor": 2
}
