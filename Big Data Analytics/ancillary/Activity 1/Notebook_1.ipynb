{
 "cells": [
  {
   "cell_type": "markdown",
   "metadata": {},
   "source": [
    "### Import libraries"
   ]
  },
  {
   "cell_type": "code",
   "execution_count": 1,
   "metadata": {
    "collapsed": false
   },
   "outputs": [
    {
     "name": "stderr",
     "output_type": "stream",
     "text": [
      "Warning message:\n",
      "\"package 'twitteR' was built under R version 3.3.3\"Warning message:\n",
      "\"package 'RSQLite' was built under R version 3.3.3\"Warning message:\n",
      "\"package 'tm' was built under R version 3.3.3\"Loading required package: NLP\n"
     ]
    }
   ],
   "source": [
    "library(twitteR)\n",
    "library(RSQLite)\n",
    "library(tm)"
   ]
  },
  {
   "cell_type": "markdown",
   "metadata": {},
   "source": [
    "###  Setting auth for twitter"
   ]
  },
  {
   "cell_type": "code",
   "execution_count": 2,
   "metadata": {
    "collapsed": false
   },
   "outputs": [
    {
     "name": "stdout",
     "output_type": "stream",
     "text": [
      "[1] \"Using direct authentication\"\n"
     ]
    }
   ],
   "source": [
    "api_key <- \"uEiKnIqgXOfh0U8yvPjutUpCI\" # From dev.twitter.com\n",
    "api_secret <- \"T84205g6C0CM9kzpT7qIgrmdI3YhIHd9EdZNMDVcHavAwWBWmw\" # From dev.twitter.com\n",
    "token <- \"772223557401243648-zOmAjR7o2zkUr7DxbHgt1jVrN2P9NnW\" # From dev.twitter.com\n",
    "token_secret <- \"z8VVETm5iC7UL2jlNbSe5AqCGyYjeeDbQwfIwiOsuGW6d\" # From dev.twitter.com\n",
    " \n",
    "# Create Twitter Connection\n",
    "setup_twitter_oauth(api_key, api_secret, token, token_secret)"
   ]
  },
  {
   "cell_type": "markdown",
   "metadata": {},
   "source": [
    "### Collect tweets"
   ]
  },
  {
   "cell_type": "code",
   "execution_count": null,
   "metadata": {
    "collapsed": true
   },
   "outputs": [],
   "source": [
    "topic <- \"#GameofThrones\"\n",
    "tweets <- searchTwitter(topic, n=10000, lang = 'en')\n",
    "actual_tweets <- strip_retweets(tweets, strip_manual=TRUE, strip_mt=TRUE)\n",
    "frame_tweets <- twListToDF(actual_tweets)"
   ]
  },
  {
   "cell_type": "markdown",
   "metadata": {},
   "source": [
    "### Preprocess the tweets "
   ]
  },
  {
   "cell_type": "code",
   "execution_count": null,
   "metadata": {
    "collapsed": true
   },
   "outputs": [],
   "source": [
    "myCorpus <- Corpus(VectorSource(frame_tweets$text))\n",
    "myCorpus <- tm_map(myCorpus, removePunctuation)\n",
    "myCorpus <- tm_map(myCorpus, removeNumbers)\n",
    "removeURL <- function(x) gsub(\"http[[:alnum:]]*\", \"\", x)\n",
    "myCorpus <- tm_map(myCorpus, content_transformer(removeURL))\n",
    "myCorpus <- tm_map(myCorpus, removeWords,stopwords(\"en\"))\n",
    "myCorpus <- tm_map(myCorpus, content_transformer(tolower))"
   ]
  },
  {
   "cell_type": "markdown",
   "metadata": {},
   "source": [
    "### Writing to text file"
   ]
  },
  {
   "cell_type": "code",
   "execution_count": null,
   "metadata": {
    "collapsed": true
   },
   "outputs": [],
   "source": [
    "dataframe <- data.frame(text=sapply(myCorpus, identity), \n",
    "    stringsAsFactors=F)\n",
    "write.table(dataframe,\"tweets.txt\",sep=\"\\n\",row.names=FALSE)"
   ]
  },
  {
   "cell_type": "markdown",
   "metadata": {},
   "source": [
    "### Load word cloud library"
   ]
  },
  {
   "cell_type": "code",
   "execution_count": 5,
   "metadata": {
    "collapsed": false
   },
   "outputs": [
    {
     "name": "stderr",
     "output_type": "stream",
     "text": [
      "Warning message:\n",
      "\"package 'wordcloud' was built under R version 3.3.3\"Loading required package: RColorBrewer\n"
     ]
    }
   ],
   "source": [
    "library(wordcloud)\n",
    "library(RColorBrewer)\n",
    "library(tm)\n",
    "library(SnowballC)"
   ]
  },
  {
   "cell_type": "markdown",
   "metadata": {},
   "source": [
    "### Read converted CSV file generated from mapreduce"
   ]
  },
  {
   "cell_type": "code",
   "execution_count": 8,
   "metadata": {
    "collapsed": true
   },
   "outputs": [],
   "source": [
    "file <- read.csv(\"wordcount1.csv\");\n",
    "colnames(file) <- c(\"word\", \"freq\")"
   ]
  },
  {
   "cell_type": "markdown",
   "metadata": {},
   "source": [
    "### Execute the word cloud"
   ]
  },
  {
   "cell_type": "code",
   "execution_count": 9,
   "metadata": {
    "collapsed": false
   },
   "outputs": [
    {
     "data": {
      "image/png": "[encoded data removed]",
      "text/plain": [
       "plot without title"
      ]
     },
     "metadata": {},
     "output_type": "display_data"
    }
   ],
   "source": [
    "wordcloud(file$word,file$freq, min.freq = 1,\n",
    "          max.words=200, random.order=FALSE, rot.per=0.35, \n",
    "          colors=brewer.pal(8, \"Dark2\"))"
   ]
  },
  {
   "cell_type": "code",
   "execution_count": null,
   "metadata": {
    "collapsed": true
   },
   "outputs": [],
   "source": []
  }
 ],
 "metadata": {
  "kernelspec": {
   "display_name": "R",
   "language": "R",
   "name": "ir"
  },
  "language_info": {
   "codemirror_mode": "r",
   "file_extension": ".r",
   "mimetype": "text/x-r-source",
   "name": "R",
   "pygments_lexer": "r",
   "version": "3.3.2"
  }
 },
 "nbformat": 4,
 "nbformat_minor": 2
}
