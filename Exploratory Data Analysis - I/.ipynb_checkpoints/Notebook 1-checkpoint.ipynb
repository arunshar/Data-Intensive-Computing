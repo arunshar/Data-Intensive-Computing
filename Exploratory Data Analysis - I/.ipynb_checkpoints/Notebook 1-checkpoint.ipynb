{
 "cells": [
  {
   "cell_type": "markdown",
   "metadata": {},
   "source": [
    "# Learning Jupyter, R and twitteR."
   ]
  },
  {
   "cell_type": "markdown",
   "metadata": {},
   "source": [
    "## Loading required libraries"
   ]
  },
  {
   "cell_type": "code",
   "execution_count": 29,
   "metadata": {},
   "outputs": [],
   "source": [
    "library(RSQLite)\n",
    "library(twitteR)"
   ]
  },
  {
   "cell_type": "markdown",
   "metadata": {},
   "source": [
    "## Get the user keys and setup TwitteR"
   ]
  },
  {
   "cell_type": "code",
   "execution_count": 30,
   "metadata": {},
   "outputs": [
    {
     "name": "stdout",
     "output_type": "stream",
     "text": [
      "[1] \"Using direct authentication\"\n"
     ]
    }
   ],
   "source": [
    "api_key <- \"uEiKnIqgXOfh0U8yvPjutUpCI\" # From dev.twitter.com\n",
    "api_secret <- \"T84205g6C0CM9kzpT7qIgrmdI3YhIHd9EdZNMDVcHavAwWBWmw\" # From dev.twitter.com\n",
    "token <- \"772223557401243648-zOmAjR7o2zkUr7DxbHgt1jVrN2P9NnW\" # From dev.twitter.com\n",
    "token_secret <- \"z8VVETm5iC7UL2jlNbSe5AqCGyYjeeDbQwfIwiOsuGW6d\" # From dev.twitter.com\n",
    " \n",
    "# Create Twitter Connection\n",
    "setup_twitter_oauth(api_key, api_secret, token, token_secret)"
   ]
  },
  {
   "cell_type": "markdown",
   "metadata": {},
   "source": [
    "## Insert the topic for tweets"
   ]
  },
  {
   "cell_type": "code",
   "execution_count": 31,
   "metadata": {
    "collapsed": true
   },
   "outputs": [],
   "source": [
    "topic <- \"grammy\""
   ]
  },
  {
   "cell_type": "markdown",
   "metadata": {},
   "source": [
    "## Get tweets from a given topic"
   ]
  },
  {
   "cell_type": "code",
   "execution_count": 32,
   "metadata": {
    "collapsed": true
   },
   "outputs": [],
   "source": [
    "tweets <- searchTwitter(topic, n=50)"
   ]
  },
  {
   "cell_type": "markdown",
   "metadata": {},
   "source": [
    "## Get some first rows of the tweets"
   ]
  },
  {
   "cell_type": "code",
   "execution_count": 33,
   "metadata": {},
   "outputs": [
    {
     "data": {
      "text/plain": [
       "[[1]]\n",
       "[1] \"DLopez_xo: RT @sleepingtrash: #GrowingUpTeamMindless\\nIDC THIS IS STILL A BOP. WHERE IS THEIR GRAMMY???? https://t.co/C2h2L9hIPx\"\n",
       "\n",
       "[[2]]\n",
       "[1] \"collette_dani: RT @LamontLilly: Chance the Rapper is turning down '$10m offers' to stay independent https://t.co/opDrHHzx6c\"\n",
       "\n",
       "[[3]]\n",
       "[1] \"RealKSoze: RT @HipHopDX: .@PharoaheMonch Talks Winning 1st Grammy With \\\"Miles Ahead\\\" Soundtrack https://t.co/lKrLuNwgQi\"\n",
       "\n",
       "[[4]]\n",
       "[1] \"MariPayno_1D: RT @ladivaza: Estoy editando el video y ahora que estoy viendo: 2017 Y KATY PERRY TODAVÍA NO HA GANADO GRAMMY.\"\n",
       "\n",
       "[[5]]\n",
       "[1] \"Nyctophilia888: RT @ladivaza: Estoy editando el video y ahora que estoy viendo: 2017 Y KATY PERRY TODAVÍA NO HA GANADO GRAMMY.\"\n",
       "\n",
       "[[6]]\n",
       "[1] \"MirandaGrace007: RT @theresonlytwo: this man won a Grammy. let that sink in https://t.co/Gg0pqgsJ8J\"\n"
      ]
     },
     "metadata": {},
     "output_type": "display_data"
    }
   ],
   "source": [
    "head(tweets)"
   ]
  },
  {
   "cell_type": "markdown",
   "metadata": {},
   "source": [
    "## Removing retweets"
   ]
  },
  {
   "cell_type": "code",
   "execution_count": 34,
   "metadata": {},
   "outputs": [
    {
     "data": {
      "text/plain": [
       "[[1]]\n",
       "[1] \"ChinonsoAk: I'm so tired of hearing that Beyoncé should have won #AOTY at the Grammy's and that people are going on about it still....\"\n",
       "\n",
       "[[2]]\n",
       "[1] \"CMNBlog: Love conquers all in the new video from Grammy winner SturgillSimpson: https://t.co/mWeQCBRcag https://t.co/FlWpFvVUu1\"\n",
       "\n",
       "[[3]]\n",
       "[1] \"prairie_home: Closing out our first hour with @sarahjarosz's Grammy-winning (!) \\\"House of Mercy\\\"! #powdermilk #getitoutontheradio https://t.co/TBCH8tKBOu\"\n",
       "\n",
       "[[4]]\n",
       "[1] \"itsmepedru: Raça Negra tem Grammy?! DEVERIA TER!\"\n",
       "\n",
       "[[5]]\n",
       "[1] \"nahuelkapo44: Me gustó un video de @YouTube https://t.co/p95ynID5rZ Skrillex Signs Autographs At The GQ Magazine Grammy Party At The Chateau\"\n",
       "\n",
       "[[6]]\n",
       "[1] \"CountryMusicBee: Love conquers all in the new video from Grammy winner SturgillSimpson: https://t.co/oPfHgv1sG7 https://t.co/wM874FThGW #CountryMusic\"\n"
      ]
     },
     "metadata": {},
     "output_type": "display_data"
    }
   ],
   "source": [
    "head(strip_retweets(tweets, strip_manual=TRUE, strip_mt=TRUE))"
   ]
  },
  {
   "cell_type": "markdown",
   "metadata": {},
   "source": [
    "## Get the user for the tweets"
   ]
  },
  {
   "cell_type": "code",
   "execution_count": 35,
   "metadata": {
    "collapsed": true
   },
   "outputs": [],
   "source": [
    " crantastic <- getUser('@realDonaldTrump')"
   ]
  },
  {
   "cell_type": "markdown",
   "metadata": {},
   "source": [
    "## Get the user description"
   ]
  },
  {
   "cell_type": "code",
   "execution_count": 36,
   "metadata": {},
   "outputs": [
    {
     "data": {
      "text/html": [
       "'45th President of the United States of America'"
      ],
      "text/latex": [
       "'45th President of the United States of America'"
      ],
      "text/markdown": [
       "'45th President of the United States of America'"
      ],
      "text/plain": [
       "[1] \"45th President of the United States of America\""
      ]
     },
     "metadata": {},
     "output_type": "display_data"
    }
   ],
   "source": [
    " crantastic$getDescription()"
   ]
  },
  {
   "cell_type": "markdown",
   "metadata": {},
   "source": [
    "## Get it's how many of them are following"
   ]
  },
  {
   "cell_type": "code",
   "execution_count": 37,
   "metadata": {},
   "outputs": [
    {
     "data": {
      "text/html": [
       "25158036"
      ],
      "text/latex": [
       "25158036"
      ],
      "text/markdown": [
       "25158036"
      ],
      "text/plain": [
       "[1] 25158036"
      ]
     },
     "metadata": {},
     "output_type": "display_data"
    }
   ],
   "source": [
    "crantastic$getFollowersCount()"
   ]
  },
  {
   "cell_type": "markdown",
   "metadata": {},
   "source": [
    "## Get the user's connected friends "
   ]
  },
  {
   "cell_type": "code",
   "execution_count": 38,
   "metadata": {},
   "outputs": [
    {
     "data": {
      "text/plain": [
       "$`471672239`\n",
       "[1] \"KellyannePolls\"\n",
       "\n",
       "$`20733972`\n",
       "[1] \"Reince\"\n",
       "\n",
       "$`322293052`\n",
       "[1] \"RealRomaDowney\"\n",
       "\n",
       "$`720293443260456960`\n",
       "[1] \"Trump\"\n",
       "\n",
       "$`2325495378`\n",
       "[1] \"TrumpGolf\"\n"
      ]
     },
     "metadata": {},
     "output_type": "display_data"
    }
   ],
   "source": [
    "crantastic$getFriends(n=5)"
   ]
  },
  {
   "cell_type": "markdown",
   "metadata": {},
   "source": [
    "## Get user's top 5 friends"
   ]
  },
  {
   "cell_type": "code",
   "execution_count": 39,
   "metadata": {},
   "outputs": [
    {
     "data": {
      "text/plain": [
       "[[1]]\n",
       "[1] \"IvankaTrump: 2016 has been one of the most eventful and exciting years of my life. I wish you peace, joy, love and laughter. Hap",
       " https://t.co/A1I3tvTySZ\"\n",
       "\n",
       "[[2]]\n",
       "[1] \"DonaldJTrumpJr: FINAL PUSH! Eric and I doing dozens of radio interviews. We can win this thing! GET OUT AND VOTE! #MAGA #ElectionDay https://t.co/dYcxRCBQUd\"\n",
       "\n",
       "[[3]]\n",
       "[1] \"DanScavino: INDIANA #TrumpTrain<ed><U+00A0><U+00BD><ed><U+00BA><U+0082><ed><U+00A0><U+00BD><ed><U+00B2><U+00A8><ed><U+00A0><U+00BC><ed><U+00B7><U+00BA><ed><U+00A0><U+00BC><ed><U+00B7><U+00B8><ed><U+00A0><U+00BC><ed><U+00B7><U+00BA><ed><U+00A0><U+00BC><ed><U+00B7><U+00B8>\\ncc: @mike_pence @marc_lotter https://t.co/fxvQ43k2im\"\n",
       "\n",
       "[[4]]\n",
       "[1] \"mike_pence: Congrats to my running mate @realDonaldTrump on a big debate win! Proud to stand with you as we #MAGA.\"\n",
       "\n",
       "[[5]]\n",
       "[1] \"TeamTrump: It's hard to fight terrorism when you're making cash payments to the world's LARGEST state sponsor of TERROR. Under",
       " https://t.co/GPSkdoiiRC\"\n"
      ]
     },
     "metadata": {},
     "output_type": "display_data"
    }
   ],
   "source": [
    "crantastic$getFavorites(n=5)"
   ]
  },
  {
   "cell_type": "markdown",
   "metadata": {},
   "source": [
    "## Converting tweets into the dataframe"
   ]
  },
  {
   "cell_type": "code",
   "execution_count": 40,
   "metadata": {},
   "outputs": [
    {
     "data": {
      "text/html": [
       "<table>\n",
       "<thead><tr><th scope=col>text</th><th scope=col>favorited</th><th scope=col>favoriteCount</th><th scope=col>replyToSN</th><th scope=col>created</th><th scope=col>truncated</th><th scope=col>replyToSID</th><th scope=col>id</th><th scope=col>replyToUID</th><th scope=col>statusSource</th><th scope=col>screenName</th><th scope=col>retweetCount</th><th scope=col>isRetweet</th><th scope=col>retweeted</th><th scope=col>longitude</th><th scope=col>latitude</th></tr></thead>\n",
       "<tbody>\n",
       "\t<tr><td>RT @sleepingtrash: #GrowingUpTeamMindless\n",
       "IDC THIS IS STILL A BOP. WHERE IS THEIR GRAMMY???? https://t.co/C2h2L9hIPx                   </td><td>FALSE                                                                                                                                   </td><td>0                                                                                                                                       </td><td>NA                                                                                                                                      </td><td>2017-02-19 00:10:00                                                                                                                     </td><td>FALSE                                                                                                                                   </td><td>NA                                                                                                                                      </td><td>833106321700421632                                                                                                                      </td><td>NA                                                                                                                                      </td><td><span style=white-space:pre-wrap>&lt;a href=\"http://twitter.com/download/iphone\" rel=\"nofollow\"&gt;Twitter for iPhone&lt;/a&gt;  </span></td><td><span style=white-space:pre-wrap>DLopez_xo      </span>                                                                                 </td><td>7967                                                                                                                                    </td><td>TRUE                                                                                                                                    </td><td>FALSE                                                                                                                                   </td><td>NA                                                                                                                                      </td><td>NA                                                                                                                                      </td></tr>\n",
       "\t<tr><td><span style=white-space:pre-wrap>RT @LamontLilly: Chance the Rapper is turning down '$10m offers' to stay independent https://t.co/opDrHHzx6c         </span></td><td>FALSE                                                                                                                                                        </td><td>0                                                                                                                                                            </td><td>NA                                                                                                                                                           </td><td>2017-02-19 00:09:57                                                                                                                                          </td><td>FALSE                                                                                                                                                        </td><td>NA                                                                                                                                                           </td><td>833106311025983488                                                                                                                                           </td><td>NA                                                                                                                                                           </td><td><span style=white-space:pre-wrap>&lt;a href=\"http://twitter.com/download/iphone\" rel=\"nofollow\"&gt;Twitter for iPhone&lt;/a&gt;  </span>                     </td><td><span style=white-space:pre-wrap>collette_dani  </span>                                                                                                      </td><td><span style=white-space:pre-wrap>  13</span>                                                                                                                 </td><td>TRUE                                                                                                                                                         </td><td>FALSE                                                                                                                                                        </td><td>NA                                                                                                                                                           </td><td>NA                                                                                                                                                           </td></tr>\n",
       "\t<tr><td><span style=white-space:pre-wrap>RT @HipHopDX: .@PharoaheMonch Talks Winning 1st Grammy With \"Miles Ahead\" Soundtrack https://t.co/lKrLuNwgQi         </span></td><td>FALSE                                                                                                                                                        </td><td>0                                                                                                                                                            </td><td>NA                                                                                                                                                           </td><td>2017-02-19 00:09:57                                                                                                                                          </td><td>FALSE                                                                                                                                                        </td><td>NA                                                                                                                                                           </td><td>833106309826375680                                                                                                                                           </td><td>NA                                                                                                                                                           </td><td><span style=white-space:pre-wrap>&lt;a href=\"http://twitter.com/download/iphone\" rel=\"nofollow\"&gt;Twitter for iPhone&lt;/a&gt;  </span>                     </td><td><span style=white-space:pre-wrap>RealKSoze      </span>                                                                                                      </td><td><span style=white-space:pre-wrap>  14</span>                                                                                                                 </td><td>TRUE                                                                                                                                                         </td><td>FALSE                                                                                                                                                        </td><td>NA                                                                                                                                                           </td><td>NA                                                                                                                                                           </td></tr>\n",
       "\t<tr><td><span style=white-space:pre-wrap>RT @ladivaza: Estoy editando el video y ahora que estoy viendo: 2017 Y KATY PERRY TODAVÍA NO HA GANADO GRAMMY.       </span></td><td>FALSE                                                                                                                                                        </td><td>0                                                                                                                                                            </td><td>NA                                                                                                                                                           </td><td>2017-02-19 00:09:55                                                                                                                                          </td><td>FALSE                                                                                                                                                        </td><td>NA                                                                                                                                                           </td><td>833106302167633920                                                                                                                                           </td><td>NA                                                                                                                                                           </td><td>&lt;a href=\"http://twitter.com/download/android\" rel=\"nofollow\"&gt;Twitter for Android&lt;/a&gt;                                                             </td><td><span style=white-space:pre-wrap>MariPayno_1D   </span>                                                                                                      </td><td>2797                                                                                                                                                         </td><td>TRUE                                                                                                                                                         </td><td>FALSE                                                                                                                                                        </td><td>NA                                                                                                                                                           </td><td>NA                                                                                                                                                           </td></tr>\n",
       "\t<tr><td><span style=white-space:pre-wrap>RT @ladivaza: Estoy editando el video y ahora que estoy viendo: 2017 Y KATY PERRY TODAVÍA NO HA GANADO GRAMMY.       </span></td><td>FALSE                                                                                                                                                        </td><td>0                                                                                                                                                            </td><td>NA                                                                                                                                                           </td><td>2017-02-19 00:09:48                                                                                                                                          </td><td>FALSE                                                                                                                                                        </td><td>NA                                                                                                                                                           </td><td>833106272874557441                                                                                                                                           </td><td>NA                                                                                                                                                           </td><td><span style=white-space:pre-wrap>&lt;a href=\"http://twitter.com\" rel=\"nofollow\"&gt;Twitter Web Client&lt;/a&gt;                  </span>                     </td><td>Nyctophilia888                                                                                                                                               </td><td>2797                                                                                                                                                         </td><td>TRUE                                                                                                                                                         </td><td>FALSE                                                                                                                                                        </td><td>NA                                                                                                                                                           </td><td>NA                                                                                                                                                           </td></tr>\n",
       "\t<tr><td><span style=white-space:pre-wrap>RT @theresonlytwo: this man won a Grammy. let that sink in https://t.co/Gg0pqgsJ8J                                   </span></td><td>FALSE                                                                                                                                                        </td><td>0                                                                                                                                                            </td><td>NA                                                                                                                                                           </td><td>2017-02-19 00:09:45                                                                                                                                          </td><td>FALSE                                                                                                                                                        </td><td>NA                                                                                                                                                           </td><td>833106258660048896                                                                                                                                           </td><td>NA                                                                                                                                                           </td><td><span style=white-space:pre-wrap>&lt;a href=\"http://twitter.com/download/iphone\" rel=\"nofollow\"&gt;Twitter for iPhone&lt;/a&gt;  </span>                     </td><td>MirandaGrace007                                                                                                                                              </td><td>1332                                                                                                                                                         </td><td>TRUE                                                                                                                                                         </td><td>FALSE                                                                                                                                                        </td><td>NA                                                                                                                                                           </td><td>NA                                                                                                                                                           </td></tr>\n",
       "</tbody>\n",
       "</table>\n"
      ],
      "text/latex": [
       "\\begin{tabular}{r|llllllllllllllll}\n",
       " text & favorited & favoriteCount & replyToSN & created & truncated & replyToSID & id & replyToUID & statusSource & screenName & retweetCount & isRetweet & retweeted & longitude & latitude\\\\\n",
       "\\hline\n",
       "\t RT @sleepingtrash: \\#GrowingUpTeamMindless\n",
       "IDC THIS IS STILL A BOP. WHERE IS THEIR GRAMMY???? https://t.co/C2h2L9hIPx & FALSE                                                                                                                   & 0                                                                                                                       & NA                                                                                                                      & 2017-02-19 00:10:00                                                                                                     & FALSE                                                                                                                   & NA                                                                                                                      & 833106321700421632                                                                                                      & NA                                                                                                                      & <a href=\"http://twitter.com/download/iphone\" rel=\"nofollow\">Twitter for iPhone</a>                                      & DLopez\\_xo                                                                                                             & 7967                                                                                                                    & TRUE                                                                                                                    & FALSE                                                                                                                   & NA                                                                                                                      & NA                                                                                                                     \\\\\n",
       "\t RT @LamontLilly: Chance the Rapper is turning down '\\$10m offers' to stay independent https://t.co/opDrHHzx6c          & FALSE                                                                                                                   & 0                                                                                                                       & NA                                                                                                                      & 2017-02-19 00:09:57                                                                                                     & FALSE                                                                                                                   & NA                                                                                                                      & 833106311025983488                                                                                                      & NA                                                                                                                      & <a href=\"http://twitter.com/download/iphone\" rel=\"nofollow\">Twitter for iPhone</a>                                      & collette\\_dani                                                                                                         &   13                                                                                                                    & TRUE                                                                                                                    & FALSE                                                                                                                   & NA                                                                                                                      & NA                                                                                                                     \\\\\n",
       "\t RT @HipHopDX: .@PharoaheMonch Talks Winning 1st Grammy With \"Miles Ahead\" Soundtrack https://t.co/lKrLuNwgQi          & FALSE                                                                                                                 & 0                                                                                                                     & NA                                                                                                                    & 2017-02-19 00:09:57                                                                                                   & FALSE                                                                                                                 & NA                                                                                                                    & 833106309826375680                                                                                                    & NA                                                                                                                    & <a href=\"http://twitter.com/download/iphone\" rel=\"nofollow\">Twitter for iPhone</a>                                    & RealKSoze                                                                                                             &   14                                                                                                                  & TRUE                                                                                                                  & FALSE                                                                                                                 & NA                                                                                                                    & NA                                                                                                                   \\\\\n",
       "\t RT @ladivaza: Estoy editando el video y ahora que estoy viendo: 2017 Y KATY PERRY TODAVÍA NO HA GANADO GRAMMY.        & FALSE                                                                                                                 & 0                                                                                                                     & NA                                                                                                                    & 2017-02-19 00:09:55                                                                                                   & FALSE                                                                                                                 & NA                                                                                                                    & 833106302167633920                                                                                                    & NA                                                                                                                    & <a href=\"http://twitter.com/download/android\" rel=\"nofollow\">Twitter for Android</a>                                  & MariPayno\\_1D                                                                                                        & 2797                                                                                                                  & TRUE                                                                                                                  & FALSE                                                                                                                 & NA                                                                                                                    & NA                                                                                                                   \\\\\n",
       "\t RT @ladivaza: Estoy editando el video y ahora que estoy viendo: 2017 Y KATY PERRY TODAVÍA NO HA GANADO GRAMMY.        & FALSE                                                                                                                 & 0                                                                                                                     & NA                                                                                                                    & 2017-02-19 00:09:48                                                                                                   & FALSE                                                                                                                 & NA                                                                                                                    & 833106272874557441                                                                                                    & NA                                                                                                                    & <a href=\"http://twitter.com\" rel=\"nofollow\">Twitter Web Client</a>                                                    & Nyctophilia888                                                                                                        & 2797                                                                                                                  & TRUE                                                                                                                  & FALSE                                                                                                                 & NA                                                                                                                    & NA                                                                                                                   \\\\\n",
       "\t RT @theresonlytwo: this man won a Grammy. let that sink in https://t.co/Gg0pqgsJ8J                                    & FALSE                                                                                                                 & 0                                                                                                                     & NA                                                                                                                    & 2017-02-19 00:09:45                                                                                                   & FALSE                                                                                                                 & NA                                                                                                                    & 833106258660048896                                                                                                    & NA                                                                                                                    & <a href=\"http://twitter.com/download/iphone\" rel=\"nofollow\">Twitter for iPhone</a>                                    & MirandaGrace007                                                                                                       & 1332                                                                                                                  & TRUE                                                                                                                  & FALSE                                                                                                                 & NA                                                                                                                    & NA                                                                                                                   \\\\\n",
       "\\end{tabular}\n"
      ],
      "text/markdown": [
       "\n",
       "text | favorited | favoriteCount | replyToSN | created | truncated | replyToSID | id | replyToUID | statusSource | screenName | retweetCount | isRetweet | retweeted | longitude | latitude | \n",
       "|---|---|---|---|---|---|\n",
       "| RT @sleepingtrash: #GrowingUpTeamMindless\n",
       "IDC THIS IS STILL A BOP. WHERE IS THEIR GRAMMY???? https://t.co/C2h2L9hIPx | FALSE                                                                                                                 | 0                                                                                                                     | NA                                                                                                                    | 2017-02-19 00:10:00                                                                                                   | FALSE                                                                                                                 | NA                                                                                                                    | 833106321700421632                                                                                                    | NA                                                                                                                    | <a href=\"http://twitter.com/download/iphone\" rel=\"nofollow\">Twitter for iPhone</a>                                    | DLopez_xo                                                                                                             | 7967                                                                                                                  | TRUE                                                                                                                  | FALSE                                                                                                                 | NA                                                                                                                    | NA                                                                                                                    | \n",
       "| RT @LamontLilly: Chance the Rapper is turning down '$10m offers' to stay independent https://t.co/opDrHHzx6c          | FALSE                                                                                                                 | 0                                                                                                                     | NA                                                                                                                    | 2017-02-19 00:09:57                                                                                                   | FALSE                                                                                                                 | NA                                                                                                                    | 833106311025983488                                                                                                    | NA                                                                                                                    | <a href=\"http://twitter.com/download/iphone\" rel=\"nofollow\">Twitter for iPhone</a>                                    | collette_dani                                                                                                         |   13                                                                                                                  | TRUE                                                                                                                  | FALSE                                                                                                                 | NA                                                                                                                    | NA                                                                                                                    | \n",
       "| RT @HipHopDX: .@PharoaheMonch Talks Winning 1st Grammy With \"Miles Ahead\" Soundtrack https://t.co/lKrLuNwgQi          | FALSE                                                                                                                 | 0                                                                                                                     | NA                                                                                                                    | 2017-02-19 00:09:57                                                                                                   | FALSE                                                                                                                 | NA                                                                                                                    | 833106309826375680                                                                                                    | NA                                                                                                                    | <a href=\"http://twitter.com/download/iphone\" rel=\"nofollow\">Twitter for iPhone</a>                                    | RealKSoze                                                                                                             |   14                                                                                                                  | TRUE                                                                                                                  | FALSE                                                                                                                 | NA                                                                                                                    | NA                                                                                                                    | \n",
       "| RT @ladivaza: Estoy editando el video y ahora que estoy viendo: 2017 Y KATY PERRY TODAVÍA NO HA GANADO GRAMMY.        | FALSE                                                                                                                 | 0                                                                                                                     | NA                                                                                                                    | 2017-02-19 00:09:55                                                                                                   | FALSE                                                                                                                 | NA                                                                                                                    | 833106302167633920                                                                                                    | NA                                                                                                                    | <a href=\"http://twitter.com/download/android\" rel=\"nofollow\">Twitter for Android</a>                                  | MariPayno_1D                                                                                                          | 2797                                                                                                                  | TRUE                                                                                                                  | FALSE                                                                                                                 | NA                                                                                                                    | NA                                                                                                                    | \n",
       "| RT @ladivaza: Estoy editando el video y ahora que estoy viendo: 2017 Y KATY PERRY TODAVÍA NO HA GANADO GRAMMY.        | FALSE                                                                                                                 | 0                                                                                                                     | NA                                                                                                                    | 2017-02-19 00:09:48                                                                                                   | FALSE                                                                                                                 | NA                                                                                                                    | 833106272874557441                                                                                                    | NA                                                                                                                    | <a href=\"http://twitter.com\" rel=\"nofollow\">Twitter Web Client</a>                                                    | Nyctophilia888                                                                                                        | 2797                                                                                                                  | TRUE                                                                                                                  | FALSE                                                                                                                 | NA                                                                                                                    | NA                                                                                                                    | \n",
       "| RT @theresonlytwo: this man won a Grammy. let that sink in https://t.co/Gg0pqgsJ8J                                    | FALSE                                                                                                                 | 0                                                                                                                     | NA                                                                                                                    | 2017-02-19 00:09:45                                                                                                   | FALSE                                                                                                                 | NA                                                                                                                    | 833106258660048896                                                                                                    | NA                                                                                                                    | <a href=\"http://twitter.com/download/iphone\" rel=\"nofollow\">Twitter for iPhone</a>                                    | MirandaGrace007                                                                                                       | 1332                                                                                                                  | TRUE                                                                                                                  | FALSE                                                                                                                 | NA                                                                                                                    | NA                                                                                                                    | \n",
       "\n",
       "\n"
      ],
      "text/plain": [
       "  text                                                                                                                 \n",
       "1 RT @sleepingtrash: #GrowingUpTeamMindless\\nIDC THIS IS STILL A BOP. WHERE IS THEIR GRAMMY???? https://t.co/C2h2L9hIPx\n",
       "2 RT @LamontLilly: Chance the Rapper is turning down '$10m offers' to stay independent https://t.co/opDrHHzx6c         \n",
       "3 RT @HipHopDX: .@PharoaheMonch Talks Winning 1st Grammy With \"Miles Ahead\" Soundtrack https://t.co/lKrLuNwgQi         \n",
       "4 RT @ladivaza: Estoy editando el video y ahora que estoy viendo: 2017 Y KATY PERRY TODAVÍA NO HA GANADO GRAMMY.       \n",
       "5 RT @ladivaza: Estoy editando el video y ahora que estoy viendo: 2017 Y KATY PERRY TODAVÍA NO HA GANADO GRAMMY.       \n",
       "6 RT @theresonlytwo: this man won a Grammy. let that sink in https://t.co/Gg0pqgsJ8J                                   \n",
       "  favorited favoriteCount replyToSN created             truncated replyToSID\n",
       "1 FALSE     0             NA        2017-02-19 00:10:00 FALSE     NA        \n",
       "2 FALSE     0             NA        2017-02-19 00:09:57 FALSE     NA        \n",
       "3 FALSE     0             NA        2017-02-19 00:09:57 FALSE     NA        \n",
       "4 FALSE     0             NA        2017-02-19 00:09:55 FALSE     NA        \n",
       "5 FALSE     0             NA        2017-02-19 00:09:48 FALSE     NA        \n",
       "6 FALSE     0             NA        2017-02-19 00:09:45 FALSE     NA        \n",
       "  id                 replyToUID\n",
       "1 833106321700421632 NA        \n",
       "2 833106311025983488 NA        \n",
       "3 833106309826375680 NA        \n",
       "4 833106302167633920 NA        \n",
       "5 833106272874557441 NA        \n",
       "6 833106258660048896 NA        \n",
       "  statusSource                                                                        \n",
       "1 <a href=\"http://twitter.com/download/iphone\" rel=\"nofollow\">Twitter for iPhone</a>  \n",
       "2 <a href=\"http://twitter.com/download/iphone\" rel=\"nofollow\">Twitter for iPhone</a>  \n",
       "3 <a href=\"http://twitter.com/download/iphone\" rel=\"nofollow\">Twitter for iPhone</a>  \n",
       "4 <a href=\"http://twitter.com/download/android\" rel=\"nofollow\">Twitter for Android</a>\n",
       "5 <a href=\"http://twitter.com\" rel=\"nofollow\">Twitter Web Client</a>                  \n",
       "6 <a href=\"http://twitter.com/download/iphone\" rel=\"nofollow\">Twitter for iPhone</a>  \n",
       "  screenName      retweetCount isRetweet retweeted longitude latitude\n",
       "1 DLopez_xo       7967         TRUE      FALSE     NA        NA      \n",
       "2 collette_dani     13         TRUE      FALSE     NA        NA      \n",
       "3 RealKSoze         14         TRUE      FALSE     NA        NA      \n",
       "4 MariPayno_1D    2797         TRUE      FALSE     NA        NA      \n",
       "5 Nyctophilia888  2797         TRUE      FALSE     NA        NA      \n",
       "6 MirandaGrace007 1332         TRUE      FALSE     NA        NA      "
      ]
     },
     "metadata": {},
     "output_type": "display_data"
    }
   ],
   "source": [
    "df <- twListToDF(tweets)\n",
    "head(df)"
   ]
  },
  {
   "cell_type": "markdown",
   "metadata": {},
   "source": [
    "## Storing tweets in the database"
   ]
  },
  {
   "cell_type": "code",
   "execution_count": 41,
   "metadata": {},
   "outputs": [
    {
     "data": {
      "text/html": [
       "TRUE"
      ],
      "text/latex": [
       "TRUE"
      ],
      "text/markdown": [
       "TRUE"
      ],
      "text/plain": [
       "[1] TRUE"
      ]
     },
     "metadata": {},
     "output_type": "display_data"
    },
    {
     "data": {
      "text/plain": [
       "[[1]]\n",
       "[1] \"DLopez_xo: RT @sleepingtrash: #GrowingUpTeamMindless\\nIDC THIS IS STILL A BOP. WHERE IS THEIR GRAMMY???? https://t.co/C2h2L9hIPx\"\n",
       "\n",
       "[[2]]\n",
       "[1] \"collette_dani: RT @LamontLilly: Chance the Rapper is turning down '$10m offers' to stay independent https://t.co/opDrHHzx6c\"\n",
       "\n",
       "[[3]]\n",
       "[1] \"RealKSoze: RT @HipHopDX: .@PharoaheMonch Talks Winning 1st Grammy With \\\"Miles Ahead\\\" Soundtrack https://t.co/lKrLuNwgQi\"\n",
       "\n",
       "[[4]]\n",
       "[1] \"MariPayno_1D: RT @ladivaza: Estoy editando el video y ahora que estoy viendo: 2017 Y KATY PERRY TODAVÍA NO HA GANADO GRAMMY.\"\n",
       "\n",
       "[[5]]\n",
       "[1] \"Nyctophilia888: RT @ladivaza: Estoy editando el video y ahora que estoy viendo: 2017 Y KATY PERRY TODAVÍA NO HA GANADO GRAMMY.\"\n",
       "\n",
       "[[6]]\n",
       "[1] \"MirandaGrace007: RT @theresonlytwo: this man won a Grammy. let that sink in https://t.co/Gg0pqgsJ8J\"\n"
      ]
     },
     "metadata": {},
     "output_type": "display_data"
    }
   ],
   "source": [
    "sql_lite_file = tempfile()\n",
    "register_sqlite_backend(sql_lite_file)\n",
    "store_tweets_db(tweets)\n",
    "from_db = load_tweets_db()\n",
    "head(from_db)"
   ]
  },
  {
   "cell_type": "markdown",
   "metadata": {},
   "source": [
    "## Get timelines from the user"
   ]
  },
  {
   "cell_type": "code",
   "execution_count": 42,
   "metadata": {},
   "outputs": [
    {
     "data": {
      "text/plain": [
       "[[1]]\n",
       "[1] \"realDonaldTrump: Getting ready to leave for Melbourne, Florida. See you all soon!\"\n",
       "\n",
       "[[2]]\n",
       "[1] \"realDonaldTrump: Will be having many meetings this weekend at The Southern White House. Big 5:00 P.M. speech in Melbourne, Florida. A lot to talk about!\"\n",
       "\n",
       "[[3]]\n",
       "[1] \"realDonaldTrump: Don't believe the main stream (fake news) media.The White House is running VERY WELL. I inherited a MESS and am in the process of fixing it.\"\n",
       "\n",
       "[[4]]\n",
       "[1] \"realDonaldTrump: Looking forward to the Florida rally tomorrow. Big crowd expected!\"\n",
       "\n",
       "[[5]]\n",
       "[1] \"realDonaldTrump: \\\"One of the most effective press conferences I've ever seen!\\\" says Rush Limbaugh. Many agree.Yet FAKE MEDIA  calls it differently! Dishonest\"\n"
      ]
     },
     "metadata": {},
     "output_type": "display_data"
    }
   ],
   "source": [
    "cran_tweets <- userTimeline('@realDonaldTrump')\n",
    "cran_tweets[1:5]"
   ]
  },
  {
   "cell_type": "markdown",
   "metadata": {},
   "source": [
    "## We can also vary it's parameters"
   ]
  },
  {
   "cell_type": "code",
   "execution_count": 43,
   "metadata": {},
   "outputs": [
    {
     "data": {
      "text/html": [
       "91"
      ],
      "text/latex": [
       "91"
      ],
      "text/markdown": [
       "91"
      ],
      "text/plain": [
       "[1] 91"
      ]
     },
     "metadata": {},
     "output_type": "display_data"
    }
   ],
   "source": [
    "cran_tweets_large <- userTimeline('Trump', n=100)\n",
    "length(cran_tweets_large)"
   ]
  },
  {
   "cell_type": "markdown",
   "metadata": {},
   "source": [
    "## Getting trends"
   ]
  },
  {
   "cell_type": "code",
   "execution_count": 44,
   "metadata": {},
   "outputs": [
    {
     "data": {
      "text/html": [
       "<table>\n",
       "<thead><tr><th scope=col>name</th><th scope=col>country</th><th scope=col>woeid</th></tr></thead>\n",
       "<tbody>\n",
       "\t<tr><td>Worldwide</td><td>         </td><td>1        </td></tr>\n",
       "\t<tr><td>Winnipeg </td><td>Canada   </td><td>2972     </td></tr>\n",
       "\t<tr><td>Ottawa   </td><td>Canada   </td><td>3369     </td></tr>\n",
       "\t<tr><td>Quebec   </td><td>Canada   </td><td>3444     </td></tr>\n",
       "\t<tr><td>Montreal </td><td>Canada   </td><td>3534     </td></tr>\n",
       "\t<tr><td>Toronto  </td><td>Canada   </td><td>4118     </td></tr>\n",
       "</tbody>\n",
       "</table>\n"
      ],
      "text/latex": [
       "\\begin{tabular}{r|lll}\n",
       " name & country & woeid\\\\\n",
       "\\hline\n",
       "\t Worldwide &           & 1        \\\\\n",
       "\t Winnipeg  & Canada    & 2972     \\\\\n",
       "\t Ottawa    & Canada    & 3369     \\\\\n",
       "\t Quebec    & Canada    & 3444     \\\\\n",
       "\t Montreal  & Canada    & 3534     \\\\\n",
       "\t Toronto   & Canada    & 4118     \\\\\n",
       "\\end{tabular}\n"
      ],
      "text/markdown": [
       "\n",
       "name | country | woeid | \n",
       "|---|---|---|---|---|---|\n",
       "| Worldwide |           | 1         | \n",
       "| Winnipeg  | Canada    | 2972      | \n",
       "| Ottawa    | Canada    | 3369      | \n",
       "| Quebec    | Canada    | 3444      | \n",
       "| Montreal  | Canada    | 3534      | \n",
       "| Toronto   | Canada    | 4118      | \n",
       "\n",
       "\n"
      ],
      "text/plain": [
       "  name      country woeid\n",
       "1 Worldwide         1    \n",
       "2 Winnipeg  Canada  2972 \n",
       "3 Ottawa    Canada  3369 \n",
       "4 Quebec    Canada  3444 \n",
       "5 Montreal  Canada  3534 \n",
       "6 Toronto   Canada  4118 "
      ]
     },
     "metadata": {},
     "output_type": "display_data"
    }
   ],
   "source": [
    "avail_trends = availableTrendLocations()\n",
    "head(avail_trends)"
   ]
  },
  {
   "cell_type": "code",
   "execution_count": 45,
   "metadata": {},
   "outputs": [
    {
     "data": {
      "text/html": [
       "<table>\n",
       "<thead><tr><th scope=col>name</th><th scope=col>country</th><th scope=col>woeid</th></tr></thead>\n",
       "<tbody>\n",
       "\t<tr><td>Concepcion</td><td>Chile     </td><td>349860    </td></tr>\n",
       "</tbody>\n",
       "</table>\n"
      ],
      "text/latex": [
       "\\begin{tabular}{r|lll}\n",
       " name & country & woeid\\\\\n",
       "\\hline\n",
       "\t Concepcion & Chile      & 349860    \\\\\n",
       "\\end{tabular}\n"
      ],
      "text/markdown": [
       "\n",
       "name | country | woeid | \n",
       "|---|\n",
       "| Concepcion | Chile      | 349860     | \n",
       "\n",
       "\n"
      ],
      "text/plain": [
       "  name       country woeid \n",
       "1 Concepcion Chile   349860"
      ]
     },
     "metadata": {},
     "output_type": "display_data"
    }
   ],
   "source": [
    "close_trends = closestTrendLocations(-42.8, -71.1)\n",
    "head(close_trends)"
   ]
  },
  {
   "cell_type": "code",
   "execution_count": 46,
   "metadata": {},
   "outputs": [
    {
     "data": {
      "text/html": [
       "<table>\n",
       "<thead><tr><th scope=col>name</th><th scope=col>url</th><th scope=col>query</th><th scope=col>woeid</th></tr></thead>\n",
       "<tbody>\n",
       "\t<tr><td>#TrumpRally                                         </td><td>http://twitter.com/search?q=%23TrumpRally           </td><td>%23TrumpRally                                       </td><td>2367105                                             </td></tr>\n",
       "\t<tr><td>#NACA17                                             </td><td>http://twitter.com/search?q=%23NACA17               </td><td>%23NACA17                                           </td><td>2367105                                             </td></tr>\n",
       "\t<tr><td>#AAASmtg                                            </td><td>http://twitter.com/search?q=%23AAASmtg              </td><td>%23AAASmtg                                          </td><td>2367105                                             </td></tr>\n",
       "\t<tr><td>#ZGWL                                               </td><td>http://twitter.com/search?q=%23ZGWL                 </td><td>%23ZGWL                                             </td><td>2367105                                             </td></tr>\n",
       "\t<tr><td>#NationalDrinkWineDay                               </td><td>http://twitter.com/search?q=%23NationalDrinkWineDay </td><td>%23NationalDrinkWineDay                             </td><td>2367105                                             </td></tr>\n",
       "\t<tr><td>Clyde Stubblefield                                  </td><td>http://twitter.com/search?q=%22Clyde+Stubblefield%22</td><td>%22Clyde+Stubblefield%22                            </td><td>2367105                                             </td></tr>\n",
       "</tbody>\n",
       "</table>\n"
      ],
      "text/latex": [
       "\\begin{tabular}{r|llll}\n",
       " name & url & query & woeid\\\\\n",
       "\\hline\n",
       "\t \\#TrumpRally                                          & http://twitter.com/search?q=\\%23TrumpRally            & \\%23TrumpRally                                        & 2367105                                               \\\\\n",
       "\t \\#NACA17                                              & http://twitter.com/search?q=\\%23NACA17                & \\%23NACA17                                            & 2367105                                               \\\\\n",
       "\t \\#AAASmtg                                             & http://twitter.com/search?q=\\%23AAASmtg               & \\%23AAASmtg                                           & 2367105                                               \\\\\n",
       "\t \\#ZGWL                                                & http://twitter.com/search?q=\\%23ZGWL                  & \\%23ZGWL                                              & 2367105                                               \\\\\n",
       "\t \\#NationalDrinkWineDay                                & http://twitter.com/search?q=\\%23NationalDrinkWineDay  & \\%23NationalDrinkWineDay                              & 2367105                                               \\\\\n",
       "\t Clyde Stubblefield                                       & http://twitter.com/search?q=\\%22Clyde+Stubblefield\\%22 & \\%22Clyde+Stubblefield\\%22                             & 2367105                                                 \\\\\n",
       "\\end{tabular}\n"
      ],
      "text/markdown": [
       "\n",
       "name | url | query | woeid | \n",
       "|---|---|---|---|---|---|\n",
       "| #TrumpRally                                          | http://twitter.com/search?q=%23TrumpRally            | %23TrumpRally                                        | 2367105                                              | \n",
       "| #NACA17                                              | http://twitter.com/search?q=%23NACA17                | %23NACA17                                            | 2367105                                              | \n",
       "| #AAASmtg                                             | http://twitter.com/search?q=%23AAASmtg               | %23AAASmtg                                           | 2367105                                              | \n",
       "| #ZGWL                                                | http://twitter.com/search?q=%23ZGWL                  | %23ZGWL                                              | 2367105                                              | \n",
       "| #NationalDrinkWineDay                                | http://twitter.com/search?q=%23NationalDrinkWineDay  | %23NationalDrinkWineDay                              | 2367105                                              | \n",
       "| Clyde Stubblefield                                   | http://twitter.com/search?q=%22Clyde+Stubblefield%22 | %22Clyde+Stubblefield%22                             | 2367105                                              | \n",
       "\n",
       "\n"
      ],
      "text/plain": [
       "  name                  url                                                 \n",
       "1 #TrumpRally           http://twitter.com/search?q=%23TrumpRally           \n",
       "2 #NACA17               http://twitter.com/search?q=%23NACA17               \n",
       "3 #AAASmtg              http://twitter.com/search?q=%23AAASmtg              \n",
       "4 #ZGWL                 http://twitter.com/search?q=%23ZGWL                 \n",
       "5 #NationalDrinkWineDay http://twitter.com/search?q=%23NationalDrinkWineDay \n",
       "6 Clyde Stubblefield    http://twitter.com/search?q=%22Clyde+Stubblefield%22\n",
       "  query                    woeid  \n",
       "1 %23TrumpRally            2367105\n",
       "2 %23NACA17                2367105\n",
       "3 %23AAASmtg               2367105\n",
       "4 %23ZGWL                  2367105\n",
       "5 %23NationalDrinkWineDay  2367105\n",
       "6 %22Clyde+Stubblefield%22 2367105"
      ]
     },
     "metadata": {},
     "output_type": "display_data"
    }
   ],
   "source": [
    "trends = getTrends(2367105)\n",
    "head(trends)"
   ]
  },
  {
   "cell_type": "code",
   "execution_count": null,
   "metadata": {
    "collapsed": true
   },
   "outputs": [],
   "source": []
  }
 ],
 "metadata": {
  "kernelspec": {
   "display_name": "Python 3",
   "language": "python",
   "name": "python3"
  },
  "language_info": {
   "codemirror_mode": {
    "name": "ipython",
    "version": 3
   },
   "file_extension": ".py",
   "mimetype": "text/x-python",
   "name": "python",
   "nbconvert_exporter": "python",
   "pygments_lexer": "ipython3",
   "version": "3.5.4"
  }
 },
 "nbformat": 4,
 "nbformat_minor": 2
}
