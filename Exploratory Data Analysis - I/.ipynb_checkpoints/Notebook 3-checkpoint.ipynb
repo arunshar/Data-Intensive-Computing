{
 "cells": [
  {
   "cell_type": "markdown",
   "metadata": {},
   "source": [
    "# Problem 2: Summarizing trending topics about a location (place)."
   ]
  },
  {
   "cell_type": "markdown",
   "metadata": {},
   "source": [
    "## Load required libraries"
   ]
  },
  {
   "cell_type": "code",
   "execution_count": 7,
   "metadata": {},
   "outputs": [],
   "source": [
    "library(twitteR)\n",
    "library(ggmap)"
   ]
  },
  {
   "cell_type": "markdown",
   "metadata": {},
   "source": [
    "## Insert keys and setup TwitteR"
   ]
  },
  {
   "cell_type": "code",
   "execution_count": 9,
   "metadata": {},
   "outputs": [
    {
     "name": "stdout",
     "output_type": "stream",
     "text": [
      "[1] \"Using direct authentication\"\n"
     ]
    }
   ],
   "source": [
    "api_key <- \"uEiKnIqgXOfh0U8yvPjutUpCI\" # From dev.twitter.com\n",
    "api_secret <- \"T84205g6C0CM9kzpT7qIgrmdI3YhIHd9EdZNMDVcHavAwWBWmw\" # From dev.twitter.com\n",
    "token <- \"772223557401243648-zOmAjR7o2zkUr7DxbHgt1jVrN2P9NnW\" # From dev.twitter.com\n",
    "token_secret <- \"z8VVETm5iC7UL2jlNbSe5AqCGyYjeeDbQwfIwiOsuGW6d\" # From dev.twitter.com\n",
    " \n",
    "# Create Twitter Connection\n",
    "setup_twitter_oauth(api_key, api_secret, token, token_secret)"
   ]
  },
  {
   "cell_type": "code",
   "execution_count": 10,
   "metadata": {},
   "outputs": [],
   "source": [
    "location <- 'buffalo'"
   ]
  },
  {
   "cell_type": "markdown",
   "metadata": {},
   "source": [
    "## Get longitute and latitute from a given location"
   ]
  },
  {
   "cell_type": "code",
   "execution_count": 11,
   "metadata": {},
   "outputs": [
    {
     "name": "stderr",
     "output_type": "stream",
     "text": [
      "Information from URL : http://maps.googleapis.com/maps/api/geocode/json?address=buffalo&sensor=false\n"
     ]
    }
   ],
   "source": [
    "coordinates <- geocode(as.character(location))"
   ]
  },
  {
   "cell_type": "markdown",
   "metadata": {},
   "source": [
    "## Get the city information from the given location "
   ]
  },
  {
   "cell_type": "code",
   "execution_count": 15,
   "metadata": {},
   "outputs": [],
   "source": [
    "info <- closestTrendLocations(coordinates$lat, coordinates$lon)"
   ]
  },
  {
   "cell_type": "markdown",
   "metadata": {},
   "source": [
    "## Get trends from the extracted area"
   ]
  },
  {
   "cell_type": "code",
   "execution_count": 19,
   "metadata": {},
   "outputs": [
    {
     "data": {
      "text/html": [
       "<table>\n",
       "<thead><tr><th scope=col>name</th><th scope=col>url</th><th scope=col>query</th><th scope=col>woeid</th></tr></thead>\n",
       "<tbody>\n",
       "\t<tr><td>#TrumpRally                                            </td><td>http://twitter.com/search?q=%23TrumpRally              </td><td>%23TrumpRally                                          </td><td>4118                                                   </td></tr>\n",
       "\t<tr><td>Florida                                                </td><td>http://twitter.com/search?q=Florida                    </td><td>Florida                                                </td><td>4118                                                   </td></tr>\n",
       "\t<tr><td>Patrik Laine                                           </td><td>http://twitter.com/search?q=%22Patrik+Laine%22         </td><td>%22Patrik+Laine%22                                     </td><td>4118                                                   </td></tr>\n",
       "\t<tr><td>Parkdale                                               </td><td>http://twitter.com/search?q=Parkdale                   </td><td>Parkdale                                               </td><td>4118                                                   </td></tr>\n",
       "\t<tr><td>Carey Price                                            </td><td>http://twitter.com/search?q=%22Carey+Price%22          </td><td>%22Carey+Price%22                                      </td><td>4118                                                   </td></tr>\n",
       "\t<tr><td>Josh Donaldson                                         </td><td>http://twitter.com/search?q=%22Josh+Donaldson%22       </td><td>%22Josh+Donaldson%22                                   </td><td>4118                                                   </td></tr>\n",
       "\t<tr><td>#TEDxUofT                                              </td><td>http://twitter.com/search?q=%23TEDxUofT                </td><td>%23TEDxUofT                                            </td><td>4118                                                   </td></tr>\n",
       "\t<tr><td>#cbccurl                                               </td><td>http://twitter.com/search?q=%23cbccurl                 </td><td>%23cbccurl                                             </td><td>4118                                                   </td></tr>\n",
       "\t<tr><td>#Melbourne                                             </td><td>http://twitter.com/search?q=%23Melbourne               </td><td>%23Melbourne                                           </td><td>4118                                                   </td></tr>\n",
       "\t<tr><td>#NationalDrinkWineDay                                  </td><td>http://twitter.com/search?q=%23NationalDrinkWineDay    </td><td>%23NationalDrinkWineDay                                </td><td>4118                                                   </td></tr>\n",
       "\t<tr><td>Beaulieu                                               </td><td>http://twitter.com/search?q=Beaulieu                   </td><td>Beaulieu                                               </td><td>4118                                                   </td></tr>\n",
       "\t<tr><td>Bob Cole                                               </td><td>http://twitter.com/search?q=%22Bob+Cole%22             </td><td>%22Bob+Cole%22                                         </td><td>4118                                                   </td></tr>\n",
       "\t<tr><td>Byfuglien                                              </td><td>http://twitter.com/search?q=Byfuglien                  </td><td>Byfuglien                                              </td><td>4118                                                   </td></tr>\n",
       "\t<tr><td>Weber                                                  </td><td>http://twitter.com/search?q=Weber                      </td><td>Weber                                                  </td><td>4118                                                   </td></tr>\n",
       "\t<tr><td>Armia                                                  </td><td>http://twitter.com/search?q=Armia                      </td><td>Armia                                                  </td><td>4118                                                   </td></tr>\n",
       "\t<tr><td>Norma McCorvey                                         </td><td>http://twitter.com/search?q=%22Norma+McCorvey%22       </td><td>%22Norma+McCorvey%22                                   </td><td>4118                                                   </td></tr>\n",
       "\t<tr><td>Turkish Airlines                                       </td><td>http://twitter.com/search?q=%22Turkish+Airlines%22     </td><td>%22Turkish+Airlines%22                                 </td><td>4118                                                   </td></tr>\n",
       "\t<tr><td>Loov                                                   </td><td>http://twitter.com/search?q=Loov                       </td><td>Loov                                                   </td><td>4118                                                   </td></tr>\n",
       "\t<tr><td>Radulov                                                </td><td>http://twitter.com/search?q=Radulov                    </td><td>Radulov                                                </td><td>4118                                                   </td></tr>\n",
       "\t<tr><td>Lana                                                   </td><td>http://twitter.com/search?q=Lana                       </td><td>Lana                                                   </td><td>4118                                                   </td></tr>\n",
       "\t<tr><td>Smoak                                                  </td><td>http://twitter.com/search?q=Smoak                      </td><td>Smoak                                                  </td><td>4118                                                   </td></tr>\n",
       "\t<tr><td>Rob Stewart                                            </td><td>http://twitter.com/search?q=%22Rob+Stewart%22          </td><td>%22Rob+Stewart%22                                      </td><td>4118                                                   </td></tr>\n",
       "\t<tr><td>Bell Centre                                            </td><td>http://twitter.com/search?q=%22Bell+Centre%22          </td><td>%22Bell+Centre%22                                      </td><td>4118                                                   </td></tr>\n",
       "\t<tr><td>The Canadiens                                          </td><td>http://twitter.com/search?q=%22The+Canadiens%22        </td><td>%22The+Canadiens%22                                    </td><td>4118                                                   </td></tr>\n",
       "\t<tr><td>Olympiques                                             </td><td>http://twitter.com/search?q=Olympiques                 </td><td>Olympiques                                             </td><td>4118                                                   </td></tr>\n",
       "\t<tr><td>Marc Bergevin                                          </td><td>http://twitter.com/search?q=%22Marc+Bergevin%22        </td><td>%22Marc+Bergevin%22                                    </td><td>4118                                                   </td></tr>\n",
       "\t<tr><td>#HockeyDay                                             </td><td>http://twitter.com/search?q=%23HockeyDay               </td><td>%23HockeyDay                                           </td><td>4118                                                   </td></tr>\n",
       "\t<tr><td>#AaronsNewVideo                                        </td><td>http://twitter.com/search?q=%23AaronsNewVideo          </td><td>%23AaronsNewVideo                                      </td><td>4118                                                   </td></tr>\n",
       "\t<tr><td>#MissBiopharma17                                       </td><td>http://twitter.com/search?q=%23MissBiopharma17         </td><td>%23MissBiopharma17                                     </td><td>4118                                                   </td></tr>\n",
       "\t<tr><td>#ItsOnlyFunUntil                                       </td><td>http://twitter.com/search?q=%23ItsOnlyFunUntil         </td><td>%23ItsOnlyFunUntil                                     </td><td>4118                                                   </td></tr>\n",
       "\t<tr><td>#cheeseAmovie                                          </td><td>http://twitter.com/search?q=%23cheeseAmovie            </td><td>%23cheeseAmovie                                        </td><td>4118                                                   </td></tr>\n",
       "\t<tr><td>#WPGvsMTL                                              </td><td>http://twitter.com/search?q=%23WPGvsMTL                </td><td>%23WPGvsMTL                                            </td><td>4118                                                   </td></tr>\n",
       "\t<tr><td>#IStandWithMarksThiccNeck                              </td><td>http://twitter.com/search?q=%23IStandWithMarksThiccNeck</td><td>%23IStandWithMarksThiccNeck                            </td><td>4118                                                   </td></tr>\n",
       "\t<tr><td>#wiad17                                                </td><td>http://twitter.com/search?q=%23wiad17                  </td><td>%23wiad17                                              </td><td>4118                                                   </td></tr>\n",
       "\t<tr><td>#IfIHadAPetWhale                                       </td><td>http://twitter.com/search?q=%23IfIHadAPetWhale         </td><td>%23IfIHadAPetWhale                                     </td><td>4118                                                   </td></tr>\n",
       "\t<tr><td>#SynRC                                                 </td><td>http://twitter.com/search?q=%23SynRC                   </td><td>%23SynRC                                               </td><td>4118                                                   </td></tr>\n",
       "\t<tr><td>#GoMooseGo                                             </td><td>http://twitter.com/search?q=%23GoMooseGo               </td><td>%23GoMooseGo                                           </td><td>4118                                                   </td></tr>\n",
       "\t<tr><td>#reblaw2017                                            </td><td>http://twitter.com/search?q=%23reblaw2017              </td><td>%23reblaw2017                                          </td><td>4118                                                   </td></tr>\n",
       "\t<tr><td>#CaptureCalgary                                        </td><td>http://twitter.com/search?q=%23CaptureCalgary          </td><td>%23CaptureCalgary                                      </td><td>4118                                                   </td></tr>\n",
       "\t<tr><td>#bcndpaction                                           </td><td>http://twitter.com/search?q=%23bcndpaction             </td><td>%23bcndpaction                                         </td><td>4118                                                   </td></tr>\n",
       "\t<tr><td>#advocacyworks                                         </td><td>http://twitter.com/search?q=%23advocacyworks           </td><td>%23advocacyworks                                       </td><td>4118                                                   </td></tr>\n",
       "\t<tr><td>#bcsta                                                 </td><td>http://twitter.com/search?q=%23bcsta                   </td><td>%23bcsta                                               </td><td>4118                                                   </td></tr>\n",
       "\t<tr><td>#worldwhaleday                                         </td><td>http://twitter.com/search?q=%23worldwhaleday           </td><td>%23worldwhaleday                                       </td><td>4118                                                   </td></tr>\n",
       "\t<tr><td>#ToyFair2017                                           </td><td>http://twitter.com/search?q=%23ToyFair2017             </td><td>%23ToyFair2017                                         </td><td>4118                                                   </td></tr>\n",
       "\t<tr><td>#15andFairness                                         </td><td>http://twitter.com/search?q=%2315andFairness           </td><td>%2315andFairness                                       </td><td>4118                                                   </td></tr>\n",
       "\t<tr><td>#Scotties2017                                          </td><td>http://twitter.com/search?q=%23Scotties2017            </td><td>%23Scotties2017                                        </td><td>4118                                                   </td></tr>\n",
       "\t<tr><td>#MyPlanetWouldHave                                     </td><td>http://twitter.com/search?q=%23MyPlanetWouldHave       </td><td>%23MyPlanetWouldHave                                   </td><td>4118                                                   </td></tr>\n",
       "\t<tr><td>#OCAABADM                                              </td><td>http://twitter.com/search?q=%23OCAABADM                </td><td>%23OCAABADM                                            </td><td>4118                                                   </td></tr>\n",
       "\t<tr><td>#FamilyDayWeekend                                      </td><td>http://twitter.com/search?q=%23FamilyDayWeekend        </td><td>%23FamilyDayWeekend                                    </td><td>4118                                                   </td></tr>\n",
       "\t<tr><td>#NBAAllStar                                            </td><td>http://twitter.com/search?q=%23NBAAllStar              </td><td>%23NBAAllStar                                          </td><td>4118                                                   </td></tr>\n",
       "</tbody>\n",
       "</table>\n"
      ],
      "text/latex": [
       "\\begin{tabular}{r|llll}\n",
       " name & url & query & woeid\\\\\n",
       "\\hline\n",
       "\t \\#TrumpRally                                             & http://twitter.com/search?q=\\%23TrumpRally               & \\%23TrumpRally                                           & 4118                                                     \\\\\n",
       "\t Florida                                                 & http://twitter.com/search?q=Florida                     & Florida                                                 & 4118                                                   \\\\\n",
       "\t Patrik Laine                                                & http://twitter.com/search?q=\\%22Patrik+Laine\\%22          & \\%22Patrik+Laine\\%22                                      & 4118                                                       \\\\\n",
       "\t Parkdale                                                & http://twitter.com/search?q=Parkdale                    & Parkdale                                                & 4118                                                   \\\\\n",
       "\t Carey Price                                                 & http://twitter.com/search?q=\\%22Carey+Price\\%22           & \\%22Carey+Price\\%22                                       & 4118                                                       \\\\\n",
       "\t Josh Donaldson                                              & http://twitter.com/search?q=\\%22Josh+Donaldson\\%22        & \\%22Josh+Donaldson\\%22                                    & 4118                                                       \\\\\n",
       "\t \\#TEDxUofT                                               & http://twitter.com/search?q=\\%23TEDxUofT                 & \\%23TEDxUofT                                             & 4118                                                     \\\\\n",
       "\t \\#cbccurl                                                & http://twitter.com/search?q=\\%23cbccurl                  & \\%23cbccurl                                              & 4118                                                     \\\\\n",
       "\t \\#Melbourne                                              & http://twitter.com/search?q=\\%23Melbourne                & \\%23Melbourne                                            & 4118                                                     \\\\\n",
       "\t \\#NationalDrinkWineDay                                   & http://twitter.com/search?q=\\%23NationalDrinkWineDay     & \\%23NationalDrinkWineDay                                 & 4118                                                     \\\\\n",
       "\t Beaulieu                                                & http://twitter.com/search?q=Beaulieu                    & Beaulieu                                                & 4118                                                   \\\\\n",
       "\t Bob Cole                                                    & http://twitter.com/search?q=\\%22Bob+Cole\\%22              & \\%22Bob+Cole\\%22                                          & 4118                                                       \\\\\n",
       "\t Byfuglien                                               & http://twitter.com/search?q=Byfuglien                   & Byfuglien                                               & 4118                                                   \\\\\n",
       "\t Weber                                                   & http://twitter.com/search?q=Weber                       & Weber                                                   & 4118                                                   \\\\\n",
       "\t Armia                                                   & http://twitter.com/search?q=Armia                       & Armia                                                   & 4118                                                   \\\\\n",
       "\t Norma McCorvey                                              & http://twitter.com/search?q=\\%22Norma+McCorvey\\%22        & \\%22Norma+McCorvey\\%22                                    & 4118                                                       \\\\\n",
       "\t Turkish Airlines                                            & http://twitter.com/search?q=\\%22Turkish+Airlines\\%22      & \\%22Turkish+Airlines\\%22                                  & 4118                                                       \\\\\n",
       "\t Loov                                                    & http://twitter.com/search?q=Loov                        & Loov                                                    & 4118                                                   \\\\\n",
       "\t Radulov                                                 & http://twitter.com/search?q=Radulov                     & Radulov                                                 & 4118                                                   \\\\\n",
       "\t Lana                                                    & http://twitter.com/search?q=Lana                        & Lana                                                    & 4118                                                   \\\\\n",
       "\t Smoak                                                   & http://twitter.com/search?q=Smoak                       & Smoak                                                   & 4118                                                   \\\\\n",
       "\t Rob Stewart                                                 & http://twitter.com/search?q=\\%22Rob+Stewart\\%22           & \\%22Rob+Stewart\\%22                                       & 4118                                                       \\\\\n",
       "\t Bell Centre                                                 & http://twitter.com/search?q=\\%22Bell+Centre\\%22           & \\%22Bell+Centre\\%22                                       & 4118                                                       \\\\\n",
       "\t The Canadiens                                               & http://twitter.com/search?q=\\%22The+Canadiens\\%22         & \\%22The+Canadiens\\%22                                     & 4118                                                       \\\\\n",
       "\t Olympiques                                              & http://twitter.com/search?q=Olympiques                  & Olympiques                                              & 4118                                                   \\\\\n",
       "\t Marc Bergevin                                               & http://twitter.com/search?q=\\%22Marc+Bergevin\\%22         & \\%22Marc+Bergevin\\%22                                     & 4118                                                       \\\\\n",
       "\t \\#HockeyDay                                              & http://twitter.com/search?q=\\%23HockeyDay                & \\%23HockeyDay                                            & 4118                                                     \\\\\n",
       "\t \\#AaronsNewVideo                                         & http://twitter.com/search?q=\\%23AaronsNewVideo           & \\%23AaronsNewVideo                                       & 4118                                                     \\\\\n",
       "\t \\#MissBiopharma17                                        & http://twitter.com/search?q=\\%23MissBiopharma17          & \\%23MissBiopharma17                                      & 4118                                                     \\\\\n",
       "\t \\#ItsOnlyFunUntil                                        & http://twitter.com/search?q=\\%23ItsOnlyFunUntil          & \\%23ItsOnlyFunUntil                                      & 4118                                                     \\\\\n",
       "\t \\#cheeseAmovie                                           & http://twitter.com/search?q=\\%23cheeseAmovie             & \\%23cheeseAmovie                                         & 4118                                                     \\\\\n",
       "\t \\#WPGvsMTL                                               & http://twitter.com/search?q=\\%23WPGvsMTL                 & \\%23WPGvsMTL                                             & 4118                                                     \\\\\n",
       "\t \\#IStandWithMarksThiccNeck                               & http://twitter.com/search?q=\\%23IStandWithMarksThiccNeck & \\%23IStandWithMarksThiccNeck                             & 4118                                                     \\\\\n",
       "\t \\#wiad17                                                 & http://twitter.com/search?q=\\%23wiad17                   & \\%23wiad17                                               & 4118                                                     \\\\\n",
       "\t \\#IfIHadAPetWhale                                        & http://twitter.com/search?q=\\%23IfIHadAPetWhale          & \\%23IfIHadAPetWhale                                      & 4118                                                     \\\\\n",
       "\t \\#SynRC                                                  & http://twitter.com/search?q=\\%23SynRC                    & \\%23SynRC                                                & 4118                                                     \\\\\n",
       "\t \\#GoMooseGo                                              & http://twitter.com/search?q=\\%23GoMooseGo                & \\%23GoMooseGo                                            & 4118                                                     \\\\\n",
       "\t \\#reblaw2017                                             & http://twitter.com/search?q=\\%23reblaw2017               & \\%23reblaw2017                                           & 4118                                                     \\\\\n",
       "\t \\#CaptureCalgary                                         & http://twitter.com/search?q=\\%23CaptureCalgary           & \\%23CaptureCalgary                                       & 4118                                                     \\\\\n",
       "\t \\#bcndpaction                                            & http://twitter.com/search?q=\\%23bcndpaction              & \\%23bcndpaction                                          & 4118                                                     \\\\\n",
       "\t \\#advocacyworks                                          & http://twitter.com/search?q=\\%23advocacyworks            & \\%23advocacyworks                                        & 4118                                                     \\\\\n",
       "\t \\#bcsta                                                  & http://twitter.com/search?q=\\%23bcsta                    & \\%23bcsta                                                & 4118                                                     \\\\\n",
       "\t \\#worldwhaleday                                          & http://twitter.com/search?q=\\%23worldwhaleday            & \\%23worldwhaleday                                        & 4118                                                     \\\\\n",
       "\t \\#ToyFair2017                                            & http://twitter.com/search?q=\\%23ToyFair2017              & \\%23ToyFair2017                                          & 4118                                                     \\\\\n",
       "\t \\#15andFairness                                          & http://twitter.com/search?q=\\%2315andFairness            & \\%2315andFairness                                        & 4118                                                     \\\\\n",
       "\t \\#Scotties2017                                           & http://twitter.com/search?q=\\%23Scotties2017             & \\%23Scotties2017                                         & 4118                                                     \\\\\n",
       "\t \\#MyPlanetWouldHave                                      & http://twitter.com/search?q=\\%23MyPlanetWouldHave        & \\%23MyPlanetWouldHave                                    & 4118                                                     \\\\\n",
       "\t \\#OCAABADM                                               & http://twitter.com/search?q=\\%23OCAABADM                 & \\%23OCAABADM                                             & 4118                                                     \\\\\n",
       "\t \\#FamilyDayWeekend                                       & http://twitter.com/search?q=\\%23FamilyDayWeekend         & \\%23FamilyDayWeekend                                     & 4118                                                     \\\\\n",
       "\t \\#NBAAllStar                                             & http://twitter.com/search?q=\\%23NBAAllStar               & \\%23NBAAllStar                                           & 4118                                                     \\\\\n",
       "\\end{tabular}\n"
      ],
      "text/markdown": [
       "\n",
       "name | url | query | woeid | \n",
       "|---|---|---|---|---|---|---|---|---|---|---|---|---|---|---|---|---|---|---|---|---|---|---|---|---|---|---|---|---|---|---|---|---|---|---|---|---|---|---|---|---|---|---|---|---|---|---|---|---|---|\n",
       "| #TrumpRally                                             | http://twitter.com/search?q=%23TrumpRally               | %23TrumpRally                                           | 4118                                                    | \n",
       "| Florida                                                 | http://twitter.com/search?q=Florida                     | Florida                                                 | 4118                                                    | \n",
       "| Patrik Laine                                            | http://twitter.com/search?q=%22Patrik+Laine%22          | %22Patrik+Laine%22                                      | 4118                                                    | \n",
       "| Parkdale                                                | http://twitter.com/search?q=Parkdale                    | Parkdale                                                | 4118                                                    | \n",
       "| Carey Price                                             | http://twitter.com/search?q=%22Carey+Price%22           | %22Carey+Price%22                                       | 4118                                                    | \n",
       "| Josh Donaldson                                          | http://twitter.com/search?q=%22Josh+Donaldson%22        | %22Josh+Donaldson%22                                    | 4118                                                    | \n",
       "| #TEDxUofT                                               | http://twitter.com/search?q=%23TEDxUofT                 | %23TEDxUofT                                             | 4118                                                    | \n",
       "| #cbccurl                                                | http://twitter.com/search?q=%23cbccurl                  | %23cbccurl                                              | 4118                                                    | \n",
       "| #Melbourne                                              | http://twitter.com/search?q=%23Melbourne                | %23Melbourne                                            | 4118                                                    | \n",
       "| #NationalDrinkWineDay                                   | http://twitter.com/search?q=%23NationalDrinkWineDay     | %23NationalDrinkWineDay                                 | 4118                                                    | \n",
       "| Beaulieu                                                | http://twitter.com/search?q=Beaulieu                    | Beaulieu                                                | 4118                                                    | \n",
       "| Bob Cole                                                | http://twitter.com/search?q=%22Bob+Cole%22              | %22Bob+Cole%22                                          | 4118                                                    | \n",
       "| Byfuglien                                               | http://twitter.com/search?q=Byfuglien                   | Byfuglien                                               | 4118                                                    | \n",
       "| Weber                                                   | http://twitter.com/search?q=Weber                       | Weber                                                   | 4118                                                    | \n",
       "| Armia                                                   | http://twitter.com/search?q=Armia                       | Armia                                                   | 4118                                                    | \n",
       "| Norma McCorvey                                          | http://twitter.com/search?q=%22Norma+McCorvey%22        | %22Norma+McCorvey%22                                    | 4118                                                    | \n",
       "| Turkish Airlines                                        | http://twitter.com/search?q=%22Turkish+Airlines%22      | %22Turkish+Airlines%22                                  | 4118                                                    | \n",
       "| Loov                                                    | http://twitter.com/search?q=Loov                        | Loov                                                    | 4118                                                    | \n",
       "| Radulov                                                 | http://twitter.com/search?q=Radulov                     | Radulov                                                 | 4118                                                    | \n",
       "| Lana                                                    | http://twitter.com/search?q=Lana                        | Lana                                                    | 4118                                                    | \n",
       "| Smoak                                                   | http://twitter.com/search?q=Smoak                       | Smoak                                                   | 4118                                                    | \n",
       "| Rob Stewart                                             | http://twitter.com/search?q=%22Rob+Stewart%22           | %22Rob+Stewart%22                                       | 4118                                                    | \n",
       "| Bell Centre                                             | http://twitter.com/search?q=%22Bell+Centre%22           | %22Bell+Centre%22                                       | 4118                                                    | \n",
       "| The Canadiens                                           | http://twitter.com/search?q=%22The+Canadiens%22         | %22The+Canadiens%22                                     | 4118                                                    | \n",
       "| Olympiques                                              | http://twitter.com/search?q=Olympiques                  | Olympiques                                              | 4118                                                    | \n",
       "| Marc Bergevin                                           | http://twitter.com/search?q=%22Marc+Bergevin%22         | %22Marc+Bergevin%22                                     | 4118                                                    | \n",
       "| #HockeyDay                                              | http://twitter.com/search?q=%23HockeyDay                | %23HockeyDay                                            | 4118                                                    | \n",
       "| #AaronsNewVideo                                         | http://twitter.com/search?q=%23AaronsNewVideo           | %23AaronsNewVideo                                       | 4118                                                    | \n",
       "| #MissBiopharma17                                        | http://twitter.com/search?q=%23MissBiopharma17          | %23MissBiopharma17                                      | 4118                                                    | \n",
       "| #ItsOnlyFunUntil                                        | http://twitter.com/search?q=%23ItsOnlyFunUntil          | %23ItsOnlyFunUntil                                      | 4118                                                    | \n",
       "| #cheeseAmovie                                           | http://twitter.com/search?q=%23cheeseAmovie             | %23cheeseAmovie                                         | 4118                                                    | \n",
       "| #WPGvsMTL                                               | http://twitter.com/search?q=%23WPGvsMTL                 | %23WPGvsMTL                                             | 4118                                                    | \n",
       "| #IStandWithMarksThiccNeck                               | http://twitter.com/search?q=%23IStandWithMarksThiccNeck | %23IStandWithMarksThiccNeck                             | 4118                                                    | \n",
       "| #wiad17                                                 | http://twitter.com/search?q=%23wiad17                   | %23wiad17                                               | 4118                                                    | \n",
       "| #IfIHadAPetWhale                                        | http://twitter.com/search?q=%23IfIHadAPetWhale          | %23IfIHadAPetWhale                                      | 4118                                                    | \n",
       "| #SynRC                                                  | http://twitter.com/search?q=%23SynRC                    | %23SynRC                                                | 4118                                                    | \n",
       "| #GoMooseGo                                              | http://twitter.com/search?q=%23GoMooseGo                | %23GoMooseGo                                            | 4118                                                    | \n",
       "| #reblaw2017                                             | http://twitter.com/search?q=%23reblaw2017               | %23reblaw2017                                           | 4118                                                    | \n",
       "| #CaptureCalgary                                         | http://twitter.com/search?q=%23CaptureCalgary           | %23CaptureCalgary                                       | 4118                                                    | \n",
       "| #bcndpaction                                            | http://twitter.com/search?q=%23bcndpaction              | %23bcndpaction                                          | 4118                                                    | \n",
       "| #advocacyworks                                          | http://twitter.com/search?q=%23advocacyworks            | %23advocacyworks                                        | 4118                                                    | \n",
       "| #bcsta                                                  | http://twitter.com/search?q=%23bcsta                    | %23bcsta                                                | 4118                                                    | \n",
       "| #worldwhaleday                                          | http://twitter.com/search?q=%23worldwhaleday            | %23worldwhaleday                                        | 4118                                                    | \n",
       "| #ToyFair2017                                            | http://twitter.com/search?q=%23ToyFair2017              | %23ToyFair2017                                          | 4118                                                    | \n",
       "| #15andFairness                                          | http://twitter.com/search?q=%2315andFairness            | %2315andFairness                                        | 4118                                                    | \n",
       "| #Scotties2017                                           | http://twitter.com/search?q=%23Scotties2017             | %23Scotties2017                                         | 4118                                                    | \n",
       "| #MyPlanetWouldHave                                      | http://twitter.com/search?q=%23MyPlanetWouldHave        | %23MyPlanetWouldHave                                    | 4118                                                    | \n",
       "| #OCAABADM                                               | http://twitter.com/search?q=%23OCAABADM                 | %23OCAABADM                                             | 4118                                                    | \n",
       "| #FamilyDayWeekend                                       | http://twitter.com/search?q=%23FamilyDayWeekend         | %23FamilyDayWeekend                                     | 4118                                                    | \n",
       "| #NBAAllStar                                             | http://twitter.com/search?q=%23NBAAllStar               | %23NBAAllStar                                           | 4118                                                    | \n",
       "\n",
       "\n"
      ],
      "text/plain": [
       "   name                     \n",
       "1  #TrumpRally              \n",
       "2  Florida                  \n",
       "3  Patrik Laine             \n",
       "4  Parkdale                 \n",
       "5  Carey Price              \n",
       "6  Josh Donaldson           \n",
       "7  #TEDxUofT                \n",
       "8  #cbccurl                 \n",
       "9  #Melbourne               \n",
       "10 #NationalDrinkWineDay    \n",
       "11 Beaulieu                 \n",
       "12 Bob Cole                 \n",
       "13 Byfuglien                \n",
       "14 Weber                    \n",
       "15 Armia                    \n",
       "16 Norma McCorvey           \n",
       "17 Turkish Airlines         \n",
       "18 Loov                     \n",
       "19 Radulov                  \n",
       "20 Lana                     \n",
       "21 Smoak                    \n",
       "22 Rob Stewart              \n",
       "23 Bell Centre              \n",
       "24 The Canadiens            \n",
       "25 Olympiques               \n",
       "26 Marc Bergevin            \n",
       "27 #HockeyDay               \n",
       "28 #AaronsNewVideo          \n",
       "29 #MissBiopharma17         \n",
       "30 #ItsOnlyFunUntil         \n",
       "31 #cheeseAmovie            \n",
       "32 #WPGvsMTL                \n",
       "33 #IStandWithMarksThiccNeck\n",
       "34 #wiad17                  \n",
       "35 #IfIHadAPetWhale         \n",
       "36 #SynRC                   \n",
       "37 #GoMooseGo               \n",
       "38 #reblaw2017              \n",
       "39 #CaptureCalgary          \n",
       "40 #bcndpaction             \n",
       "41 #advocacyworks           \n",
       "42 #bcsta                   \n",
       "43 #worldwhaleday           \n",
       "44 #ToyFair2017             \n",
       "45 #15andFairness           \n",
       "46 #Scotties2017            \n",
       "47 #MyPlanetWouldHave       \n",
       "48 #OCAABADM                \n",
       "49 #FamilyDayWeekend        \n",
       "50 #NBAAllStar              \n",
       "   url                                                    \n",
       "1  http://twitter.com/search?q=%23TrumpRally              \n",
       "2  http://twitter.com/search?q=Florida                    \n",
       "3  http://twitter.com/search?q=%22Patrik+Laine%22         \n",
       "4  http://twitter.com/search?q=Parkdale                   \n",
       "5  http://twitter.com/search?q=%22Carey+Price%22          \n",
       "6  http://twitter.com/search?q=%22Josh+Donaldson%22       \n",
       "7  http://twitter.com/search?q=%23TEDxUofT                \n",
       "8  http://twitter.com/search?q=%23cbccurl                 \n",
       "9  http://twitter.com/search?q=%23Melbourne               \n",
       "10 http://twitter.com/search?q=%23NationalDrinkWineDay    \n",
       "11 http://twitter.com/search?q=Beaulieu                   \n",
       "12 http://twitter.com/search?q=%22Bob+Cole%22             \n",
       "13 http://twitter.com/search?q=Byfuglien                  \n",
       "14 http://twitter.com/search?q=Weber                      \n",
       "15 http://twitter.com/search?q=Armia                      \n",
       "16 http://twitter.com/search?q=%22Norma+McCorvey%22       \n",
       "17 http://twitter.com/search?q=%22Turkish+Airlines%22     \n",
       "18 http://twitter.com/search?q=Loov                       \n",
       "19 http://twitter.com/search?q=Radulov                    \n",
       "20 http://twitter.com/search?q=Lana                       \n",
       "21 http://twitter.com/search?q=Smoak                      \n",
       "22 http://twitter.com/search?q=%22Rob+Stewart%22          \n",
       "23 http://twitter.com/search?q=%22Bell+Centre%22          \n",
       "24 http://twitter.com/search?q=%22The+Canadiens%22        \n",
       "25 http://twitter.com/search?q=Olympiques                 \n",
       "26 http://twitter.com/search?q=%22Marc+Bergevin%22        \n",
       "27 http://twitter.com/search?q=%23HockeyDay               \n",
       "28 http://twitter.com/search?q=%23AaronsNewVideo          \n",
       "29 http://twitter.com/search?q=%23MissBiopharma17         \n",
       "30 http://twitter.com/search?q=%23ItsOnlyFunUntil         \n",
       "31 http://twitter.com/search?q=%23cheeseAmovie            \n",
       "32 http://twitter.com/search?q=%23WPGvsMTL                \n",
       "33 http://twitter.com/search?q=%23IStandWithMarksThiccNeck\n",
       "34 http://twitter.com/search?q=%23wiad17                  \n",
       "35 http://twitter.com/search?q=%23IfIHadAPetWhale         \n",
       "36 http://twitter.com/search?q=%23SynRC                   \n",
       "37 http://twitter.com/search?q=%23GoMooseGo               \n",
       "38 http://twitter.com/search?q=%23reblaw2017              \n",
       "39 http://twitter.com/search?q=%23CaptureCalgary          \n",
       "40 http://twitter.com/search?q=%23bcndpaction             \n",
       "41 http://twitter.com/search?q=%23advocacyworks           \n",
       "42 http://twitter.com/search?q=%23bcsta                   \n",
       "43 http://twitter.com/search?q=%23worldwhaleday           \n",
       "44 http://twitter.com/search?q=%23ToyFair2017             \n",
       "45 http://twitter.com/search?q=%2315andFairness           \n",
       "46 http://twitter.com/search?q=%23Scotties2017            \n",
       "47 http://twitter.com/search?q=%23MyPlanetWouldHave       \n",
       "48 http://twitter.com/search?q=%23OCAABADM                \n",
       "49 http://twitter.com/search?q=%23FamilyDayWeekend        \n",
       "50 http://twitter.com/search?q=%23NBAAllStar              \n",
       "   query                       woeid\n",
       "1  %23TrumpRally               4118 \n",
       "2  Florida                     4118 \n",
       "3  %22Patrik+Laine%22          4118 \n",
       "4  Parkdale                    4118 \n",
       "5  %22Carey+Price%22           4118 \n",
       "6  %22Josh+Donaldson%22        4118 \n",
       "7  %23TEDxUofT                 4118 \n",
       "8  %23cbccurl                  4118 \n",
       "9  %23Melbourne                4118 \n",
       "10 %23NationalDrinkWineDay     4118 \n",
       "11 Beaulieu                    4118 \n",
       "12 %22Bob+Cole%22              4118 \n",
       "13 Byfuglien                   4118 \n",
       "14 Weber                       4118 \n",
       "15 Armia                       4118 \n",
       "16 %22Norma+McCorvey%22        4118 \n",
       "17 %22Turkish+Airlines%22      4118 \n",
       "18 Loov                        4118 \n",
       "19 Radulov                     4118 \n",
       "20 Lana                        4118 \n",
       "21 Smoak                       4118 \n",
       "22 %22Rob+Stewart%22           4118 \n",
       "23 %22Bell+Centre%22           4118 \n",
       "24 %22The+Canadiens%22         4118 \n",
       "25 Olympiques                  4118 \n",
       "26 %22Marc+Bergevin%22         4118 \n",
       "27 %23HockeyDay                4118 \n",
       "28 %23AaronsNewVideo           4118 \n",
       "29 %23MissBiopharma17          4118 \n",
       "30 %23ItsOnlyFunUntil          4118 \n",
       "31 %23cheeseAmovie             4118 \n",
       "32 %23WPGvsMTL                 4118 \n",
       "33 %23IStandWithMarksThiccNeck 4118 \n",
       "34 %23wiad17                   4118 \n",
       "35 %23IfIHadAPetWhale          4118 \n",
       "36 %23SynRC                    4118 \n",
       "37 %23GoMooseGo                4118 \n",
       "38 %23reblaw2017               4118 \n",
       "39 %23CaptureCalgary           4118 \n",
       "40 %23bcndpaction              4118 \n",
       "41 %23advocacyworks            4118 \n",
       "42 %23bcsta                    4118 \n",
       "43 %23worldwhaleday            4118 \n",
       "44 %23ToyFair2017              4118 \n",
       "45 %2315andFairness            4118 \n",
       "46 %23Scotties2017             4118 \n",
       "47 %23MyPlanetWouldHave        4118 \n",
       "48 %23OCAABADM                 4118 \n",
       "49 %23FamilyDayWeekend         4118 \n",
       "50 %23NBAAllStar               4118 "
      ]
     },
     "metadata": {},
     "output_type": "display_data"
    }
   ],
   "source": [
    "trends <- getTrends(info$woeid)\n",
    "trends"
   ]
  },
  {
   "cell_type": "markdown",
   "metadata": {},
   "source": [
    "## Fetching top 10 trends form the list"
   ]
  },
  {
   "cell_type": "code",
   "execution_count": 58,
   "metadata": {},
   "outputs": [
    {
     "data": {
      "text/html": [
       "<ol class=list-inline>\n",
       "\t<li>'#TrumpRally'</li>\n",
       "\t<li>'Florida'</li>\n",
       "\t<li>'Patrik Laine'</li>\n",
       "\t<li>'Parkdale'</li>\n",
       "\t<li>'Carey Price'</li>\n",
       "\t<li>'Josh Donaldson'</li>\n",
       "\t<li>'#TEDxUofT'</li>\n",
       "\t<li>'#cbccurl'</li>\n",
       "\t<li>'#Melbourne'</li>\n",
       "\t<li>'#NationalDrinkWineDay'</li>\n",
       "</ol>\n"
      ],
      "text/latex": [
       "\\begin{enumerate*}\n",
       "\\item '\\#TrumpRally'\n",
       "\\item 'Florida'\n",
       "\\item 'Patrik Laine'\n",
       "\\item 'Parkdale'\n",
       "\\item 'Carey Price'\n",
       "\\item 'Josh Donaldson'\n",
       "\\item '\\#TEDxUofT'\n",
       "\\item '\\#cbccurl'\n",
       "\\item '\\#Melbourne'\n",
       "\\item '\\#NationalDrinkWineDay'\n",
       "\\end{enumerate*}\n"
      ],
      "text/markdown": [
       "1. '#TrumpRally'\n",
       "2. 'Florida'\n",
       "3. 'Patrik Laine'\n",
       "4. 'Parkdale'\n",
       "5. 'Carey Price'\n",
       "6. 'Josh Donaldson'\n",
       "7. '#TEDxUofT'\n",
       "8. '#cbccurl'\n",
       "9. '#Melbourne'\n",
       "10. '#NationalDrinkWineDay'\n",
       "\n",
       "\n"
      ],
      "text/plain": [
       " [1] \"#TrumpRally\"           \"Florida\"               \"Patrik Laine\"         \n",
       " [4] \"Parkdale\"              \"Carey Price\"           \"Josh Donaldson\"       \n",
       " [7] \"#TEDxUofT\"             \"#cbccurl\"              \"#Melbourne\"           \n",
       "[10] \"#NationalDrinkWineDay\""
      ]
     },
     "metadata": {},
     "output_type": "display_data"
    }
   ],
   "source": [
    "topics <- trends$name[1:10]\n",
    "topics"
   ]
  },
  {
   "cell_type": "markdown",
   "metadata": {},
   "source": [
    "## Summarizing them into a sentence"
   ]
  },
  {
   "cell_type": "code",
   "execution_count": 57,
   "metadata": {},
   "outputs": [
    {
     "name": "stdout",
     "output_type": "stream",
     "text": [
      "The top 10 trending topics are of this location are  #TrumpRally Florida Patrik Laine Parkdale Carey Price Josh Donaldson #TEDxUofT #cbccurl #Melbourne #NationalDrinkWineDay"
     ]
    }
   ],
   "source": [
    "asd <- \"The top 10 trending topics are of this location are \"\n",
    "cat(asd, topics)"
   ]
  },
  {
   "cell_type": "code",
   "execution_count": null,
   "metadata": {
    "collapsed": true
   },
   "outputs": [],
   "source": []
  }
 ],
 "metadata": {
  "kernelspec": {
   "display_name": "Python 3",
   "language": "python",
   "name": "python3"
  },
  "language_info": {
   "codemirror_mode": {
    "name": "ipython",
    "version": 3
   },
   "file_extension": ".py",
   "mimetype": "text/x-python",
   "name": "python",
   "nbconvert_exporter": "python",
   "pygments_lexer": "ipython3",
   "version": "3.5.4"
  }
 },
 "nbformat": 4,
 "nbformat_minor": 2
}
